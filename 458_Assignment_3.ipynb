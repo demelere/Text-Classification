{
  "nbformat": 4,
  "nbformat_minor": 0,
  "metadata": {
    "kernelspec": {
      "display_name": "Python 3",
      "language": "python",
      "name": "python3"
    },
    "language_info": {
      "codemirror_mode": {
        "name": "ipython",
        "version": 3
      },
      "file_extension": ".py",
      "mimetype": "text/x-python",
      "name": "python",
      "nbconvert_exporter": "python",
      "pygments_lexer": "ipython3",
      "version": "3.6.8"
    },
    "toc": {
      "base_numbering": 1,
      "nav_menu": {},
      "number_sections": false,
      "sideBar": true,
      "skip_h1_title": false,
      "title_cell": "Table of Contents",
      "title_sidebar": "Contents",
      "toc_cell": false,
      "toc_position": {},
      "toc_section_display": true,
      "toc_window_display": false
    },
    "colab": {
      "name": "458 - Assignment 3.ipynb",
      "provenance": [],
      "collapsed_sections": [],
      "include_colab_link": true
    }
  },
  "cells": [
    {
      "cell_type": "markdown",
      "metadata": {
        "id": "view-in-github",
        "colab_type": "text"
      },
      "source": [
        "<a href=\"https://colab.research.google.com/github/demelere/Text-Classification/blob/master/458_Assignment_3.ipynb\" target=\"_parent\"><img src=\"https://colab.research.google.com/assets/colab-badge.svg\" alt=\"Open In Colab\"/></a>"
      ]
    },
    {
      "cell_type": "markdown",
      "metadata": {
        "id": "BhZbcQ3lELN_",
        "colab_type": "text"
      },
      "source": [
        "# A. Setup"
      ]
    },
    {
      "cell_type": "code",
      "metadata": {
        "id": "Ebg0mflfELOA",
        "colab_type": "code",
        "colab": {}
      },
      "source": [
        "import numpy as np\n",
        "import pandas as pd\n",
        "import os\n",
        "from collections import Counter\n",
        "import datetime\n",
        "import copy\n",
        "\n",
        "import tensorflow as tf\n",
        "from tensorflow import keras\n",
        "from tensorflow.keras.datasets import reuters\n",
        "from tensorflow.keras import preprocessing\n",
        "from tensorflow.keras import models\n",
        "from tensorflow.keras import layers\n",
        "from tensorflow.keras import optimizers\n",
        "from tensorflow.keras import regularizers\n",
        "from tensorflow.keras.utils import to_categorical\n",
        "from tensorflow.keras.models import Sequential\n",
        "from tensorflow.keras.layers import Dense, Flatten, Embedding, SimpleRNN, LSTM, Conv1D, MaxPooling1D\n",
        "\n",
        "%matplotlib inline\n",
        "import matplotlib.pyplot as plt\n",
        "import seaborn as sns"
      ],
      "execution_count": null,
      "outputs": []
    },
    {
      "cell_type": "code",
      "metadata": {
        "id": "X0-uM07UELOE",
        "colab_type": "code",
        "colab": {},
        "outputId": "207e7186-8e0f-4d2e-e156-17b84160dc56"
      },
      "source": [
        "keras.__version__"
      ],
      "execution_count": null,
      "outputs": [
        {
          "output_type": "execute_result",
          "data": {
            "text/plain": [
              "'2.2.4-tf'"
            ]
          },
          "metadata": {
            "tags": []
          },
          "execution_count": 2
        }
      ]
    },
    {
      "cell_type": "code",
      "metadata": {
        "id": "d3VgaVDAELOI",
        "colab_type": "code",
        "colab": {}
      },
      "source": [
        "keras.backend.clear_session()\n",
        "np.random.seed(42)\n",
        "tf.random.set_seed(42)"
      ],
      "execution_count": null,
      "outputs": []
    },
    {
      "cell_type": "markdown",
      "metadata": {
        "id": "ExTmkXZnELOT",
        "colab_type": "text"
      },
      "source": [
        "## B. Data import"
      ]
    },
    {
      "cell_type": "code",
      "metadata": {
        "id": "ob3CFiBAELOU",
        "colab_type": "code",
        "colab": {}
      },
      "source": [
        "# Restrict data to the 10000 most frequent words in the data\n",
        "voc_size = 10000\n",
        "\n",
        "(train_data, train_labels), (test_data, test_labels) = reuters.load_data(num_words=voc_size)"
      ],
      "execution_count": null,
      "outputs": []
    },
    {
      "cell_type": "code",
      "metadata": {
        "id": "V3uNs6R7ELOa",
        "colab_type": "code",
        "colab": {},
        "outputId": "43cf5958-74ed-473a-b54f-595309596eb5"
      },
      "source": [
        "len(train_data), len(train_labels), len(test_data), len(test_labels)"
      ],
      "execution_count": null,
      "outputs": [
        {
          "output_type": "execute_result",
          "data": {
            "text/plain": [
              "(8982, 8982, 2246, 2246)"
            ]
          },
          "metadata": {
            "tags": []
          },
          "execution_count": 5
        }
      ]
    },
    {
      "cell_type": "code",
      "metadata": {
        "id": "FJPuwIVrELOe",
        "colab_type": "code",
        "colab": {},
        "outputId": "82556d4e-bf16-4648-8b66-82ad4024726f"
      },
      "source": [
        "print(train_data[1]) "
      ],
      "execution_count": null,
      "outputs": [
        {
          "output_type": "stream",
          "text": [
            "[1, 3267, 699, 3434, 2295, 56, 2, 7511, 9, 56, 3906, 1073, 81, 5, 1198, 57, 366, 737, 132, 20, 4093, 7, 2, 49, 2295, 2, 1037, 3267, 699, 3434, 8, 7, 10, 241, 16, 855, 129, 231, 783, 5, 4, 587, 2295, 2, 2, 775, 7, 48, 34, 191, 44, 35, 1795, 505, 17, 12]\n"
          ],
          "name": "stdout"
        }
      ]
    },
    {
      "cell_type": "code",
      "metadata": {
        "id": "3Nn60Z5ZELOi",
        "colab_type": "code",
        "colab": {},
        "outputId": "9149a85b-541b-4a95-c1a8-e8aa99b64312"
      },
      "source": [
        "max([len(set(lst)) for lst in train_data])"
      ],
      "execution_count": null,
      "outputs": [
        {
          "output_type": "execute_result",
          "data": {
            "text/plain": [
              "530"
            ]
          },
          "metadata": {
            "tags": []
          },
          "execution_count": 7
        }
      ]
    },
    {
      "cell_type": "code",
      "metadata": {
        "id": "Fs7_xna3ELOm",
        "colab_type": "code",
        "colab": {},
        "outputId": "f334b545-3bca-4951-a4da-8800b6d138a5"
      },
      "source": [
        "# Use the reuters.get_word_index method to return a dictionary to translate indices to words\n",
        "word_index = reuters.get_word_index()\n",
        "reverse_word_index = dict([(value, key) for (key, value) in word_index.items()])\n",
        "decoded_newswire = ' '.join([reverse_word_index.get(i - 3, '?') for i in train_data[1]])\n",
        "decoded_newswire"
      ],
      "execution_count": null,
      "outputs": [
        {
          "output_type": "execute_result",
          "data": {
            "text/plain": [
              "'? generale de banque sa lt ? br and lt heller overseas corp of chicago have each taken 50 pct stakes in ? company sa ? factors generale de banque said in a statement it gave no financial details of the transaction sa ? ? turnover in 1986 was 17 5 billion belgian francs reuter 3'"
            ]
          },
          "metadata": {
            "tags": []
          },
          "execution_count": 8
        }
      ]
    },
    {
      "cell_type": "code",
      "metadata": {
        "id": "hixN2TMqELOp",
        "colab_type": "code",
        "colab": {},
        "outputId": "9532ad5d-9ceb-4d18-8ae2-9c8a9b55e579"
      },
      "source": [
        "# Number of words in the document\n",
        "len(decoded_newswire.split()) "
      ],
      "execution_count": null,
      "outputs": [
        {
          "output_type": "execute_result",
          "data": {
            "text/plain": [
              "56"
            ]
          },
          "metadata": {
            "tags": []
          },
          "execution_count": 9
        }
      ]
    },
    {
      "cell_type": "code",
      "metadata": {
        "id": "ittyDb-uELOt",
        "colab_type": "code",
        "colab": {},
        "outputId": "7b68dfb4-160c-451c-d07d-432c607a3a04"
      },
      "source": [
        "# First 7 words in the document\n",
        "decoded_newswire.split()[:7]"
      ],
      "execution_count": null,
      "outputs": [
        {
          "output_type": "execute_result",
          "data": {
            "text/plain": [
              "['?', 'generale', 'de', 'banque', 'sa', 'lt', '?']"
            ]
          },
          "metadata": {
            "tags": []
          },
          "execution_count": 10
        }
      ]
    },
    {
      "cell_type": "code",
      "metadata": {
        "id": "sKA3Dm3AELOw",
        "colab_type": "code",
        "colab": {},
        "outputId": "bd33ec8f-f68d-4276-ce78-9701f4536135"
      },
      "source": [
        "# The list of encodings is the same size as the number of words in the document\n",
        "len(train_data[1])"
      ],
      "execution_count": null,
      "outputs": [
        {
          "output_type": "execute_result",
          "data": {
            "text/plain": [
              "56"
            ]
          },
          "metadata": {
            "tags": []
          },
          "execution_count": 11
        }
      ]
    },
    {
      "cell_type": "code",
      "metadata": {
        "id": "IsSD1cD0ELOz",
        "colab_type": "code",
        "colab": {},
        "outputId": "38a31389-5154-4a08-d0e2-cc3d3911dbd3"
      },
      "source": [
        "train_data[1][:7] # The encodings of the first 7 words in the document. Again, 2 = \"unknown\""
      ],
      "execution_count": null,
      "outputs": [
        {
          "output_type": "execute_result",
          "data": {
            "text/plain": [
              "[1, 3267, 699, 3434, 2295, 56, 2]"
            ]
          },
          "metadata": {
            "tags": []
          },
          "execution_count": 12
        }
      ]
    },
    {
      "cell_type": "code",
      "metadata": {
        "id": "j0yecW3lELO5",
        "colab_type": "code",
        "colab": {},
        "outputId": "015aa446-e661-4299-9258-837dff9f4467"
      },
      "source": [
        "len(Counter(list(train_labels)).keys()) # There are 46 topics"
      ],
      "execution_count": null,
      "outputs": [
        {
          "output_type": "execute_result",
          "data": {
            "text/plain": [
              "46"
            ]
          },
          "metadata": {
            "tags": []
          },
          "execution_count": 13
        }
      ]
    },
    {
      "cell_type": "code",
      "metadata": {
        "id": "RUGbQ7-9ELO_",
        "colab_type": "code",
        "colab": {},
        "outputId": "ea910685-ef90-40cf-cd41-ceb9dc4e99f8"
      },
      "source": [
        "# The ten most common train labels\n",
        "from collections import Counter\n",
        "train_label_tuples = \\\n",
        "Counter(list(train_labels)).most_common(10) # if we keep the top nine we get the same training and test labels\n",
        "train_label_tuples"
      ],
      "execution_count": null,
      "outputs": [
        {
          "output_type": "execute_result",
          "data": {
            "text/plain": [
              "[(3, 3159),\n",
              " (4, 1949),\n",
              " (19, 549),\n",
              " (16, 444),\n",
              " (1, 432),\n",
              " (11, 390),\n",
              " (20, 269),\n",
              " (13, 172),\n",
              " (8, 139),\n",
              " (10, 124)]"
            ]
          },
          "metadata": {
            "tags": []
          },
          "execution_count": 14
        }
      ]
    },
    {
      "cell_type": "code",
      "metadata": {
        "id": "JH9UP-XLELPD",
        "colab_type": "code",
        "colab": {},
        "outputId": "ff19363f-8963-4744-b9c2-adb49bf2ab88"
      },
      "source": [
        "# The ten most common test labels\n",
        "from collections import Counter\n",
        "test_label_tuples = \\\n",
        "Counter(list(test_labels)).most_common(10) # if we keep the top 9 we get the same training and test labels\n",
        "test_label_tuples"
      ],
      "execution_count": null,
      "outputs": [
        {
          "output_type": "execute_result",
          "data": {
            "text/plain": [
              "[(3, 813),\n",
              " (4, 474),\n",
              " (19, 133),\n",
              " (1, 105),\n",
              " (16, 99),\n",
              " (11, 83),\n",
              " (20, 70),\n",
              " (8, 38),\n",
              " (13, 37),\n",
              " (25, 31)]"
            ]
          },
          "metadata": {
            "tags": []
          },
          "execution_count": 15
        }
      ]
    },
    {
      "cell_type": "code",
      "metadata": {
        "id": "NOEevJBvELPH",
        "colab_type": "code",
        "colab": {},
        "outputId": "e50c8958-9bf7-4bdf-d06c-d361f03b5c44"
      },
      "source": [
        "\n",
        "\n",
        "# Separate the the labels from their frequencies\n",
        "topics_train_tpl, train_freq = zip(*Counter(list(train_labels)).most_common(9))\n",
        "topics_train_tpl"
      ],
      "execution_count": null,
      "outputs": [
        {
          "output_type": "execute_result",
          "data": {
            "text/plain": [
              "(3, 4, 19, 16, 1, 11, 20, 13, 8)"
            ]
          },
          "metadata": {
            "tags": []
          },
          "execution_count": 16
        }
      ]
    },
    {
      "cell_type": "code",
      "metadata": {
        "id": "ha0IZumaELPK",
        "colab_type": "code",
        "colab": {},
        "outputId": "f957f9fe-64a0-4f73-d9d9-98f084a653cb"
      },
      "source": [
        "train_freq"
      ],
      "execution_count": null,
      "outputs": [
        {
          "output_type": "execute_result",
          "data": {
            "text/plain": [
              "(3159, 1949, 549, 444, 432, 390, 269, 172, 139)"
            ]
          },
          "metadata": {
            "tags": []
          },
          "execution_count": 17
        }
      ]
    },
    {
      "cell_type": "code",
      "metadata": {
        "id": "6CBoq8-1ELPM",
        "colab_type": "code",
        "colab": {},
        "outputId": "e239dff9-1646-4858-b934-0d415225eadf"
      },
      "source": [
        "topics_test_tpl, test_freq = zip(*Counter(list(test_labels)).most_common(9))\n",
        "topics_test_tpl"
      ],
      "execution_count": null,
      "outputs": [
        {
          "output_type": "execute_result",
          "data": {
            "text/plain": [
              "(3, 4, 19, 1, 16, 11, 20, 8, 13)"
            ]
          },
          "metadata": {
            "tags": []
          },
          "execution_count": 18
        }
      ]
    },
    {
      "cell_type": "code",
      "metadata": {
        "id": "d68BPiLnELPP",
        "colab_type": "code",
        "colab": {},
        "outputId": "606a9138-a3d8-422d-9943-86900df5bb2f"
      },
      "source": [
        "sum(test_freq) # number of test values in top 10"
      ],
      "execution_count": null,
      "outputs": [
        {
          "output_type": "execute_result",
          "data": {
            "text/plain": [
              "1852"
            ]
          },
          "metadata": {
            "tags": []
          },
          "execution_count": 19
        }
      ]
    },
    {
      "cell_type": "code",
      "metadata": {
        "id": "3Vf01su5ELPR",
        "colab_type": "code",
        "colab": {},
        "outputId": "8b813631-6f44-4fd1-cc20-b05c92333f6f"
      },
      "source": [
        "sum(train_freq)  # number of training values in top 10"
      ],
      "execution_count": null,
      "outputs": [
        {
          "output_type": "execute_result",
          "data": {
            "text/plain": [
              "7503"
            ]
          },
          "metadata": {
            "tags": []
          },
          "execution_count": 20
        }
      ]
    },
    {
      "cell_type": "code",
      "metadata": {
        "id": "HuNz-DHlELPV",
        "colab_type": "code",
        "colab": {}
      },
      "source": [
        "train_data_sm, train_labels_sm = zip(*((x,y) for x,y in zip(train_data,train_labels) if y in topics_train_tpl))"
      ],
      "execution_count": null,
      "outputs": []
    },
    {
      "cell_type": "code",
      "metadata": {
        "id": "ixsrqgaZELPY",
        "colab_type": "code",
        "colab": {}
      },
      "source": [
        "train_data_sm, train_labels_sm = np.array(train_data_sm), np.array(train_labels_sm)"
      ],
      "execution_count": null,
      "outputs": []
    },
    {
      "cell_type": "code",
      "metadata": {
        "id": "VISDal0JELPb",
        "colab_type": "code",
        "colab": {},
        "outputId": "a2b06a68-71e4-4e35-94c6-8ef9152f2199"
      },
      "source": [
        "len(train_data_sm), len(train_labels_sm)  # matches number of training values in top 10"
      ],
      "execution_count": null,
      "outputs": [
        {
          "output_type": "execute_result",
          "data": {
            "text/plain": [
              "(7503, 7503)"
            ]
          },
          "metadata": {
            "tags": []
          },
          "execution_count": 23
        }
      ]
    },
    {
      "cell_type": "code",
      "metadata": {
        "id": "MwVsac0gELPe",
        "colab_type": "code",
        "colab": {}
      },
      "source": [
        "test_data_sm, test_labels_sm = zip(*((x,y) for x,y in zip(test_data,test_labels) if y in topics_test_tpl))"
      ],
      "execution_count": null,
      "outputs": []
    },
    {
      "cell_type": "code",
      "metadata": {
        "id": "70R2yuDzELPg",
        "colab_type": "code",
        "colab": {}
      },
      "source": [
        "test_data_sm, test_labels_sm = np.array(test_data_sm), np.array(test_labels_sm)"
      ],
      "execution_count": null,
      "outputs": []
    },
    {
      "cell_type": "code",
      "metadata": {
        "id": "B25K9F_gELPj",
        "colab_type": "code",
        "colab": {},
        "outputId": "98bdfa0b-154a-4f9a-efee-ff47e2e82367"
      },
      "source": [
        "len(test_data_sm), len(test_labels_sm) # matches number of test values in top 10"
      ],
      "execution_count": null,
      "outputs": [
        {
          "output_type": "execute_result",
          "data": {
            "text/plain": [
              "(1852, 1852)"
            ]
          },
          "metadata": {
            "tags": []
          },
          "execution_count": 26
        }
      ]
    },
    {
      "cell_type": "code",
      "metadata": {
        "id": "ToUC5P4_ELPm",
        "colab_type": "code",
        "colab": {},
        "outputId": "673db90b-d37c-46ef-9cda-c762a6ef5ef2"
      },
      "source": [
        "Counter(train_labels_sm)"
      ],
      "execution_count": null,
      "outputs": [
        {
          "output_type": "execute_result",
          "data": {
            "text/plain": [
              "Counter({3: 3159,\n",
              "         4: 1949,\n",
              "         16: 444,\n",
              "         19: 549,\n",
              "         8: 139,\n",
              "         11: 390,\n",
              "         1: 432,\n",
              "         13: 172,\n",
              "         20: 269})"
            ]
          },
          "metadata": {
            "tags": []
          },
          "execution_count": 27
        }
      ]
    },
    {
      "cell_type": "code",
      "metadata": {
        "id": "2Em5SRkvELPp",
        "colab_type": "code",
        "colab": {},
        "outputId": "24d5e880-1b3d-40b6-ebac-8e4f4bff9b9a"
      },
      "source": [
        "Counter(test_labels_sm)"
      ],
      "execution_count": null,
      "outputs": [
        {
          "output_type": "execute_result",
          "data": {
            "text/plain": [
              "Counter({3: 813,\n",
              "         1: 105,\n",
              "         4: 474,\n",
              "         11: 83,\n",
              "         19: 133,\n",
              "         8: 38,\n",
              "         20: 70,\n",
              "         16: 99,\n",
              "         13: 37})"
            ]
          },
          "metadata": {
            "tags": []
          },
          "execution_count": 28
        }
      ]
    },
    {
      "cell_type": "code",
      "metadata": {
        "id": "4NXSpSnAELPt",
        "colab_type": "code",
        "colab": {},
        "outputId": "01437c2f-9f65-47e6-e656-32e80409133a"
      },
      "source": [
        "# first define relabeling function\n",
        "keys = Counter(test_labels_sm).keys()\n",
        "conv = dict(zip(sorted(keys),range(0,9)))\n",
        "conv"
      ],
      "execution_count": null,
      "outputs": [
        {
          "output_type": "execute_result",
          "data": {
            "text/plain": [
              "{1: 0, 3: 1, 4: 2, 8: 3, 11: 4, 13: 5, 16: 6, 19: 7, 20: 8}"
            ]
          },
          "metadata": {
            "tags": []
          },
          "execution_count": 29
        }
      ]
    },
    {
      "cell_type": "code",
      "metadata": {
        "id": "dXw-EYSRELPw",
        "colab_type": "code",
        "colab": {},
        "outputId": "341cca1b-f9bd-43e1-bd34-67903b64bf6b"
      },
      "source": [
        "# next create the new labels\n",
        "train_labels_sm2 = [conv[l] for l in train_labels_sm]\n",
        "test_labels_sm2 = [conv[l] for l in test_labels_sm]\n",
        "print(Counter(train_labels_sm2))  # Looks like they were relabeled correctly\n",
        "print(Counter(test_labels_sm2))   # Looks like they were relabeled correctly"
      ],
      "execution_count": null,
      "outputs": [
        {
          "output_type": "stream",
          "text": [
            "Counter({1: 3159, 2: 1949, 7: 549, 6: 444, 0: 432, 4: 390, 8: 269, 5: 172, 3: 139})\n",
            "Counter({1: 813, 2: 474, 7: 133, 0: 105, 6: 99, 4: 83, 8: 70, 3: 38, 5: 37})\n"
          ],
          "name": "stdout"
        }
      ]
    },
    {
      "cell_type": "code",
      "metadata": {
        "id": "k3XaHlMoELP0",
        "colab_type": "code",
        "colab": {}
      },
      "source": [
        "# https://www.kaggle.com/maximarufo/nlp-classification-reuters-dataset\n",
        "class_to_idx =  \\\n",
        "{'copper': 6, 'livestock': 28, 'gold': 25, \n",
        " 'money-fx': 19, 'ipi': 30, 'trade': 11, \n",
        " 'cocoa': 0, 'iron-steel': 31, 'reserves': 12, \n",
        " 'tin': 26, 'zinc': 37, 'jobs': 34, 'ship': 13, \n",
        " 'cotton': 14, 'alum': 23, 'strategic-metal': 27, \n",
        " 'lead': 45, 'housing': 7, 'meal-feed': 22, 'gnp': 21, \n",
        " 'sugar': 10, 'rubber': 32, 'dlr': 40, 'veg-oil': 2, \n",
        " 'interest': 20, 'crude': 16, 'coffee': 9, 'wheat': 5, \n",
        " 'carcass': 15, 'lei': 35, 'gas': 41, 'nat-gas': 17, \n",
        " 'oilseed': 24, 'orange': 38, 'heat': 33, 'wpi': 43, \n",
        " 'silver': 42, 'cpi': 18, 'earn': 3, 'bop': 36, 'money-supply': 8, \n",
        " 'hog': 44, 'acq': 4, 'pet-chem': 39, 'grain': 1, 'retail': 29}"
      ],
      "execution_count": null,
      "outputs": []
    },
    {
      "cell_type": "code",
      "metadata": {
        "id": "dFw1ZPcvELP3",
        "colab_type": "code",
        "colab": {},
        "outputId": "dc22419b-3cdc-441d-83d3-8be97d881f71"
      },
      "source": [
        "idx_to_class = dict([(value, key) for (key, value) in class_to_idx.items()])\n",
        "{k: idx_to_class[k] for k in list(idx_to_class)[:15]} # get 15 key value pairs"
      ],
      "execution_count": null,
      "outputs": [
        {
          "output_type": "execute_result",
          "data": {
            "text/plain": [
              "{6: 'copper',\n",
              " 28: 'livestock',\n",
              " 25: 'gold',\n",
              " 19: 'money-fx',\n",
              " 30: 'ipi',\n",
              " 11: 'trade',\n",
              " 0: 'cocoa',\n",
              " 31: 'iron-steel',\n",
              " 12: 'reserves',\n",
              " 26: 'tin',\n",
              " 37: 'zinc',\n",
              " 34: 'jobs',\n",
              " 13: 'ship',\n",
              " 14: 'cotton',\n",
              " 23: 'alum'}"
            ]
          },
          "metadata": {
            "tags": []
          },
          "execution_count": 32
        }
      ]
    },
    {
      "cell_type": "code",
      "metadata": {
        "id": "2Wu7svCvELP_",
        "colab_type": "code",
        "colab": {},
        "outputId": "6a5117e5-0e4d-4925-c237-d654409821aa"
      },
      "source": [
        "# get the dictionary for our smaller data set\n",
        "idx_to_class_sm = {k:v for k,v in idx_to_class.items() if k in topics_test_tpl}\n",
        "idx_to_class_sm "
      ],
      "execution_count": null,
      "outputs": [
        {
          "output_type": "execute_result",
          "data": {
            "text/plain": [
              "{19: 'money-fx',\n",
              " 11: 'trade',\n",
              " 13: 'ship',\n",
              " 20: 'interest',\n",
              " 16: 'crude',\n",
              " 3: 'earn',\n",
              " 8: 'money-supply',\n",
              " 4: 'acq',\n",
              " 1: 'grain'}"
            ]
          },
          "metadata": {
            "tags": []
          },
          "execution_count": 33
        }
      ]
    },
    {
      "cell_type": "code",
      "metadata": {
        "id": "7nfXz08NELQC",
        "colab_type": "code",
        "colab": {},
        "outputId": "11dcbc36-0bba-4e7e-f1b5-672c719662ec"
      },
      "source": [
        "# Explore a selection of records from the smaller set\n",
        "decoded_newswire = ' '.join([reverse_word_index.get(i - 3, '?') for i in train_data_sm[16]])\n",
        "decoded_newswire"
      ],
      "execution_count": null,
      "outputs": [
        {
          "output_type": "execute_result",
          "data": {
            "text/plain": [
              "'? standard oil co said a contract has been awarded to lt cbs engineering inc for a drilling and production platform to be installed in ? bank block 826 in the gulf of mexico where standard and mobil corp each own a 40 pct interest standard said its standard oil production co subsidiary will operate the platform which is being designed to produce 15 000 barrels of oil and 50 mln cubic feet of gas daily the platform is now expected to be installed in the summer of 1988 other owners are ? ? corp lt ? with 16 66 pct and lt prudential insurance co of america with 3 34 pct reuter 3'"
            ]
          },
          "metadata": {
            "tags": []
          },
          "execution_count": 34
        }
      ]
    },
    {
      "cell_type": "code",
      "metadata": {
        "id": "9lCo0VASELQF",
        "colab_type": "code",
        "colab": {},
        "outputId": "9310b551-6de3-46bf-c46b-3af0e7183590"
      },
      "source": [
        "idx_to_class_sm[train_labels_sm[16]]   # checking the dictionary...topic seems to be right"
      ],
      "execution_count": null,
      "outputs": [
        {
          "output_type": "execute_result",
          "data": {
            "text/plain": [
              "'crude'"
            ]
          },
          "metadata": {
            "tags": []
          },
          "execution_count": 35
        }
      ]
    },
    {
      "cell_type": "code",
      "metadata": {
        "id": "txyiDKdHELQJ",
        "colab_type": "code",
        "colab": {},
        "outputId": "d4c81ca9-6e6d-4958-fc69-ee2bd1132a1e"
      },
      "source": [
        "train_data_sm.shape, test_data_sm.shape, train_data.shape, test_data.shape"
      ],
      "execution_count": null,
      "outputs": [
        {
          "output_type": "execute_result",
          "data": {
            "text/plain": [
              "((7503,), (1852,), (8982,), (2246,))"
            ]
          },
          "metadata": {
            "tags": []
          },
          "execution_count": 36
        }
      ]
    },
    {
      "cell_type": "code",
      "metadata": {
        "id": "K1gt7kRJELQM",
        "colab_type": "code",
        "colab": {}
      },
      "source": [
        "# https://github.com/fchollet/deep-learning-with-python-notebooks/blob/master/3.6-classifying-newswires.ipynb\n",
        "def vectorize_sequences(sequences, dimension=voc_size):   # one row per one column per word in the vocabulary\n",
        "    results = np.zeros((len(sequences), dimension))\n",
        "    \n",
        "    # Say the the ith sequence = [12, 15, 12, 1], then results[i,squence] = 1 is equivalent to\n",
        "    # results[12] = 1 (executed twice)\n",
        "    # results[15] = 1\n",
        "    # results]1] = 1\n",
        "    # Consequently, the ith row will consist of 1s in columns 1, 12 and 15, and 0s everywhere else\n",
        "    for i, sequence in enumerate(sequences):\n",
        "        results[i, sequence] = 1.\n",
        "    return results\n",
        "\n",
        "# Our vectorized training data for both the original and smaller datasets\n",
        "train_data_smv = vectorize_sequences(train_data_sm)\n",
        "train_data_v = vectorize_sequences(train_data)\n",
        "# Our vectorized test data for both the original and smaller datasets\n",
        "test_data_smv = vectorize_sequences(test_data_sm)\n",
        "test_data_v = vectorize_sequences(test_data)"
      ],
      "execution_count": null,
      "outputs": []
    },
    {
      "cell_type": "code",
      "metadata": {
        "id": "y7zXW1c-ELQT",
        "colab_type": "code",
        "colab": {},
        "outputId": "61d973b5-11d4-4361-ecc7-abfbab9921c0"
      },
      "source": [
        "train_data_sm.shape, train_data_smv.shape, test_data_sm.shape, test_data_smv.shape"
      ],
      "execution_count": null,
      "outputs": [
        {
          "output_type": "execute_result",
          "data": {
            "text/plain": [
              "((7503,), (7503, 10000), (1852,), (1852, 10000))"
            ]
          },
          "metadata": {
            "tags": []
          },
          "execution_count": 38
        }
      ]
    },
    {
      "cell_type": "code",
      "metadata": {
        "id": "WDUxRvUdELQW",
        "colab_type": "code",
        "colab": {},
        "outputId": "2bdc85a1-dc62-4653-a946-4652f0dfed42"
      },
      "source": [
        "# Summary of the shapes of the training and test data before and after vectorization\n",
        "train_data.shape, train_data_v.shape, test_data_v.shape, test_data_v.shape"
      ],
      "execution_count": null,
      "outputs": [
        {
          "output_type": "execute_result",
          "data": {
            "text/plain": [
              "((8982,), (8982, 10000), (2246, 10000), (2246, 10000))"
            ]
          },
          "metadata": {
            "tags": []
          },
          "execution_count": 39
        }
      ]
    },
    {
      "cell_type": "code",
      "metadata": {
        "id": "1okuL8plELQb",
        "colab_type": "code",
        "colab": {}
      },
      "source": [
        "# [1,0,0,0,0,1,0]"
      ],
      "execution_count": null,
      "outputs": []
    },
    {
      "cell_type": "code",
      "metadata": {
        "id": "dEQatIw6ELQd",
        "colab_type": "code",
        "colab": {}
      },
      "source": [
        "#https://www.tensorflow.org/api_docs/python/tf/keras/utils/to_categorical\n",
        "one_hot_train_labels_sm = to_categorical(train_labels_sm2)\n",
        "one_hot_test_labels_sm = to_categorical(test_labels_sm2)\n",
        "one_hot_train_labels = to_categorical(train_labels)\n",
        "one_hot_test_labels = to_categorical(test_labels)"
      ],
      "execution_count": null,
      "outputs": []
    },
    {
      "cell_type": "code",
      "metadata": {
        "id": "KEuGT5j0ELQl",
        "colab_type": "code",
        "colab": {},
        "outputId": "06b150bf-b93b-413d-e039-fd4bd23b9399"
      },
      "source": [
        "# Shape of the training and test labels after (categorical) vectorization\n",
        "one_hot_train_labels_sm.shape, one_hot_test_labels_sm.shape"
      ],
      "execution_count": null,
      "outputs": [
        {
          "output_type": "execute_result",
          "data": {
            "text/plain": [
              "((7503, 9), (1852, 9))"
            ]
          },
          "metadata": {
            "tags": []
          },
          "execution_count": 42
        }
      ]
    },
    {
      "cell_type": "code",
      "metadata": {
        "id": "Z3g81m9bELQn",
        "colab_type": "code",
        "colab": {}
      },
      "source": [
        "# Define callback to get total training time\n",
        "class TrainRuntimeCallback(keras.callbacks.Callback):\n",
        "\n",
        "  def on_train_begin(self,logs={}):\n",
        "    self.start = datetime.datetime.now()\n",
        "\n",
        "  def on_train_end(self,logs={}):\n",
        "    self.process_time = (datetime.datetime.now() - self.start).total_seconds()"
      ],
      "execution_count": null,
      "outputs": []
    },
    {
      "cell_type": "code",
      "metadata": {
        "id": "dSV3VATHELQq",
        "colab_type": "code",
        "colab": {}
      },
      "source": [
        "# Define callback to get total test time\n",
        "class TestRuntimeCallback(keras.callbacks.Callback):\n",
        "\n",
        "  def on_test_begin(self,logs={}):\n",
        "    self.start = datetime.datetime.now()\n",
        "\n",
        "  def on_test_end(self,logs={}):\n",
        "    self.process_time = (datetime.datetime.now() - self.start).total_seconds()"
      ],
      "execution_count": null,
      "outputs": []
    },
    {
      "cell_type": "markdown",
      "metadata": {
        "id": "2UzwZVAIELQs",
        "colab_type": "text"
      },
      "source": [
        "# 1. Experiment 1: DNN"
      ]
    },
    {
      "cell_type": "markdown",
      "metadata": {
        "id": "uNPf1Z0zELQt",
        "colab_type": "text"
      },
      "source": [
        "## 1.1 DNN w/64 and 32 nodes\n",
        "\n"
      ]
    },
    {
      "cell_type": "code",
      "metadata": {
        "id": "S7vXagNzELQt",
        "colab_type": "code",
        "colab": {}
      },
      "source": [
        "# To test the effect of reducing the number of topics from 46 to (effectively) 9.\n",
        "\n",
        "# This is the model to be used with data from all 46 topics\n",
        "model_1_full = Sequential()\n",
        "model_1_full.add(Dense(units = 64, activation='relu', input_shape=(voc_size,))) # vocabulary size = 10,000\n",
        "model_1_full.add(Dense(units = 32, activation='relu'))\n",
        "model_1_full.add(Dense(units = 46, activation='softmax'))\n",
        "\n",
        "# This is the model we will use with data from the top 9 topics.\n",
        "model_1 = Sequential()\n",
        "model_1.add(Dense(units = 64, activation='relu', input_shape=(voc_size,))) # vocabulary size = 10,000\n",
        "model_1.add(Dense(units = 32, activation='relu'))\n",
        "model_1.add(Dense(units = 9, activation='softmax'))"
      ],
      "execution_count": null,
      "outputs": []
    },
    {
      "cell_type": "code",
      "metadata": {
        "scrolled": true,
        "id": "_JMzis5zELQz",
        "colab_type": "code",
        "colab": {},
        "outputId": "d84bf4e4-a5c0-4876-908d-dbb9838d7a97"
      },
      "source": [
        "model_1.summary()"
      ],
      "execution_count": null,
      "outputs": [
        {
          "output_type": "stream",
          "text": [
            "Model: \"sequential_1\"\n",
            "_________________________________________________________________\n",
            "Layer (type)                 Output Shape              Param #   \n",
            "=================================================================\n",
            "dense_3 (Dense)              (None, 64)                640064    \n",
            "_________________________________________________________________\n",
            "dense_4 (Dense)              (None, 32)                2080      \n",
            "_________________________________________________________________\n",
            "dense_5 (Dense)              (None, 9)                 297       \n",
            "=================================================================\n",
            "Total params: 642,441\n",
            "Trainable params: 642,441\n",
            "Non-trainable params: 0\n",
            "_________________________________________________________________\n"
          ],
          "name": "stdout"
        }
      ]
    },
    {
      "cell_type": "markdown",
      "metadata": {
        "id": "qW_Do1BkELQ2",
        "colab_type": "text"
      },
      "source": [
        "Architecture notes:\n",
        "\n",
        "* We are ending the network with a `Dense` layer of size 46 (for the full model) or 9 (for the model with reduced topics). This means that for each input sample, our network will output a 46- or 9-dimensional vector. Each entry in this vector (each dimension) will encode a different output class.\n",
        "* The last layer uses a `softmax` activation. You have already seen this pattern in the MNIST example. It means that the network will output a _probability distribution_ over the 46 or 9 different output classes, i.e. for every input sample, the network will produce a 9-dimensional output vector where `output[i]` is the probability that the sample belongs to class `i`. The 46 or 9 scores will sum to 1.\n",
        "\n",
        "The best loss function to use in this case is `categorical_crossentropy`. It measures the distance between two probability distributions: \n",
        "in our case, between the probability distribution output by our network, and the true distribution of the labels. By minimizing the \n",
        "distance between these two distributions, we train our network to output something as close as possible to the true labels."
      ]
    },
    {
      "cell_type": "code",
      "metadata": {
        "id": "xrd_ktz3ELQ2",
        "colab_type": "code",
        "colab": {}
      },
      "source": [
        "# Compile both models\n",
        "model_1_full.compile(optimizer='adam',\n",
        "              loss='categorical_crossentropy',\n",
        "              metrics=['accuracy'])\n",
        "\n",
        "model_1.compile(optimizer='adam',\n",
        "              loss='categorical_crossentropy',\n",
        "              metrics=['accuracy'])"
      ],
      "execution_count": null,
      "outputs": []
    },
    {
      "cell_type": "markdown",
      "metadata": {
        "id": "1l9e_IeNELRA",
        "colab_type": "text"
      },
      "source": [
        "### 1.1.a Model Training"
      ]
    },
    {
      "cell_type": "markdown",
      "metadata": {
        "id": "hAyN35YaELRA",
        "colab_type": "text"
      },
      "source": [
        "Train both networks for 10 epochs (but without callbacks on the full datasets model):"
      ]
    },
    {
      "cell_type": "code",
      "metadata": {
        "id": "Y-ZatwwHELRB",
        "colab_type": "code",
        "colab": {},
        "outputId": "0a9eb3ca-6df7-45c3-ced5-279f1a32d492"
      },
      "source": [
        "# Train full datasets model with all 46 topics\n",
        "history_full = model_1_full.fit(train_data_v,\n",
        "                    one_hot_train_labels,\n",
        "                    epochs=10,\n",
        "                    batch_size=100,\n",
        "                    validation_split = 0.15)   "
      ],
      "execution_count": null,
      "outputs": [
        {
          "output_type": "stream",
          "text": [
            "Train on 7634 samples, validate on 1348 samples\n",
            "Epoch 1/10\n",
            "7634/7634 [==============================] - 3s 369us/sample - loss: 2.2494 - accuracy: 0.5431 - val_loss: 1.3863 - val_accuracy: 0.7003\n",
            "Epoch 2/10\n",
            "7634/7634 [==============================] - 2s 203us/sample - loss: 1.0415 - accuracy: 0.7697 - val_loss: 1.0877 - val_accuracy: 0.7611\n",
            "Epoch 3/10\n",
            "7634/7634 [==============================] - 2s 203us/sample - loss: 0.6544 - accuracy: 0.8600 - val_loss: 0.9843 - val_accuracy: 0.7856\n",
            "Epoch 4/10\n",
            "7634/7634 [==============================] - 2s 204us/sample - loss: 0.4191 - accuracy: 0.9126 - val_loss: 0.9593 - val_accuracy: 0.7938\n",
            "Epoch 5/10\n",
            "7634/7634 [==============================] - 2s 205us/sample - loss: 0.2928 - accuracy: 0.9392 - val_loss: 0.9765 - val_accuracy: 0.7975\n",
            "Epoch 6/10\n",
            "7634/7634 [==============================] - 2s 208us/sample - loss: 0.2219 - accuracy: 0.9489 - val_loss: 1.0049 - val_accuracy: 0.7945\n",
            "Epoch 7/10\n",
            "7634/7634 [==============================] - 2s 218us/sample - loss: 0.1891 - accuracy: 0.9532 - val_loss: 1.0258 - val_accuracy: 0.8004\n",
            "Epoch 8/10\n",
            "7634/7634 [==============================] - 2s 216us/sample - loss: 0.1764 - accuracy: 0.9553 - val_loss: 1.0760 - val_accuracy: 0.7752\n",
            "Epoch 9/10\n",
            "7634/7634 [==============================] - 2s 213us/sample - loss: 0.1560 - accuracy: 0.9581 - val_loss: 1.1030 - val_accuracy: 0.7864\n",
            "Epoch 10/10\n",
            "7634/7634 [==============================] - 2s 205us/sample - loss: 0.1440 - accuracy: 0.9577 - val_loss: 1.1043 - val_accuracy: 0.7923\n"
          ],
          "name": "stdout"
        }
      ]
    },
    {
      "cell_type": "code",
      "metadata": {
        "id": "YRu6nGhoELRD",
        "colab_type": "code",
        "colab": {},
        "outputId": "a354fcd5-062c-4455-9f1c-42d41bd268a6"
      },
      "source": [
        "print(f\"train_acc: {history_full.history['accuracy'][-1]}, val_acc: {history_full.history['val_accuracy'][-1]}\")"
      ],
      "execution_count": null,
      "outputs": [
        {
          "output_type": "stream",
          "text": [
            "train_acc: 0.9576892852783203, val_acc: 0.7922848463058472\n"
          ],
          "name": "stdout"
        }
      ]
    },
    {
      "cell_type": "code",
      "metadata": {
        "scrolled": true,
        "id": "79QW880dELRI",
        "colab_type": "code",
        "colab": {},
        "outputId": "5850d273-afa9-44a3-d7b1-a9088cc5cb5b"
      },
      "source": [
        "train_rt = TrainRuntimeCallback()\n",
        "history = model_1.fit(train_data_smv,\n",
        "                    one_hot_train_labels_sm,\n",
        "                    callbacks = [train_rt],\n",
        "                    epochs=10,\n",
        "                    batch_size=100,\n",
        "#                     validation_data=(val_data_smv, one_hot_val_labels_sm))\n",
        "                    validation_split = 0.15)   # comment out if setting validation_data value.\n",
        "\n",
        "# Save models locally after fitting\n",
        "save_dir = \"results/\"\n",
        "model_name = 'Reuters_1.h5'\n",
        "model_path = os.path.join(save_dir, model_name)\n",
        "model_1.save(model_path)\n",
        "print('Saved trained model at %s ' % model_path)\n",
        "print('--------------------------')"
      ],
      "execution_count": null,
      "outputs": [
        {
          "output_type": "stream",
          "text": [
            "Train on 6377 samples, validate on 1126 samples\n",
            "Epoch 1/10\n",
            "6377/6377 [==============================] - 2s 366us/sample - loss: 1.1775 - accuracy: 0.6956 - val_loss: 0.6235 - val_accuracy: 0.8561\n",
            "Epoch 2/10\n",
            "6377/6377 [==============================] - 2s 243us/sample - loss: 0.4249 - accuracy: 0.9087 - val_loss: 0.5214 - val_accuracy: 0.8730\n",
            "Epoch 3/10\n",
            "6377/6377 [==============================] - 2s 242us/sample - loss: 0.2465 - accuracy: 0.9461 - val_loss: 0.5142 - val_accuracy: 0.8774\n",
            "Epoch 4/10\n",
            "6377/6377 [==============================] - 1s 200us/sample - loss: 0.1719 - accuracy: 0.9597 - val_loss: 0.5394 - val_accuracy: 0.8766\n",
            "Epoch 5/10\n",
            "6377/6377 [==============================] - 1s 206us/sample - loss: 0.1338 - accuracy: 0.9653 - val_loss: 0.5730 - val_accuracy: 0.8686\n",
            "Epoch 6/10\n",
            "6377/6377 [==============================] - 1s 205us/sample - loss: 0.1194 - accuracy: 0.9652 - val_loss: 0.5870 - val_accuracy: 0.8712\n",
            "Epoch 7/10\n",
            "6377/6377 [==============================] - 1s 202us/sample - loss: 0.1048 - accuracy: 0.9672 - val_loss: 0.6236 - val_accuracy: 0.8632\n",
            "Epoch 8/10\n",
            "6377/6377 [==============================] - 1s 206us/sample - loss: 0.1059 - accuracy: 0.9664 - val_loss: 0.6339 - val_accuracy: 0.8677\n",
            "Epoch 9/10\n",
            "6377/6377 [==============================] - 1s 221us/sample - loss: 0.0926 - accuracy: 0.9686 - val_loss: 0.6333 - val_accuracy: 0.8650\n",
            "Epoch 10/10\n",
            "6377/6377 [==============================] - 1s 219us/sample - loss: 0.0947 - accuracy: 0.9655 - val_loss: 0.6836 - val_accuracy: 0.8632\n",
            "Saved trained model at results/Reuters_1.h5 \n",
            "--------------------------\n"
          ],
          "name": "stdout"
        }
      ]
    },
    {
      "cell_type": "code",
      "metadata": {
        "id": "gxvqZQKlELRM",
        "colab_type": "code",
        "colab": {},
        "outputId": "794ca322-a397-481f-c71f-f7c53090752d"
      },
      "source": [
        "# Get the training time\n",
        "train_time = train_rt.process_time\n",
        "train_time # in seconds"
      ],
      "execution_count": null,
      "outputs": [
        {
          "output_type": "execute_result",
          "data": {
            "text/plain": [
              "14.734655"
            ]
          },
          "metadata": {
            "tags": []
          },
          "execution_count": 51
        }
      ]
    },
    {
      "cell_type": "code",
      "metadata": {
        "id": "Eez94RJRELRQ",
        "colab_type": "code",
        "colab": {},
        "outputId": "4bb95f3e-a892-4601-879a-8c8b1fbb66c9"
      },
      "source": [
        "print(f\"train_acc: {history.history['accuracy'][-1]}, val_acc: {history.history['val_accuracy'][-1]}\")"
      ],
      "execution_count": null,
      "outputs": [
        {
          "output_type": "stream",
          "text": [
            "train_acc: 0.9655010104179382, val_acc: 0.8632326722145081\n"
          ],
          "name": "stdout"
        }
      ]
    },
    {
      "cell_type": "markdown",
      "metadata": {
        "id": "mR8XlLEIELRS",
        "colab_type": "text"
      },
      "source": [
        "This is a significant improvement in performance seen with reduced topics."
      ]
    },
    {
      "cell_type": "markdown",
      "metadata": {
        "id": "pH_bBNpwELRS",
        "colab_type": "text"
      },
      "source": [
        "### 1.1.b Model Testing\n",
        "\n",
        "We test both models and get the runtime of the model classifying 9 topics using callbacks. Again, the model with less classes has better performance."
      ]
    },
    {
      "cell_type": "code",
      "metadata": {
        "id": "ec2uoVZtELRS",
        "colab_type": "code",
        "colab": {},
        "outputId": "dca193a4-5e34-48c7-d013-dacc743fb205"
      },
      "source": [
        "# Note the original model evaluating the data with 46 topics performs worse on the test data\n",
        "test_rt = TestRuntimeCallback()\n",
        "test_loss, test_accuracy = model_1_full.evaluate(test_data_v, one_hot_test_labels, callbacks=[test_rt], verbose=0)\n",
        "print(f\"test_accuracy={test_accuracy}, test_loss={test_loss}\")"
      ],
      "execution_count": null,
      "outputs": [
        {
          "output_type": "stream",
          "text": [
            "test_accuracy=0.7853962779045105, test_loss=1.0987346781648277\n"
          ],
          "name": "stdout"
        }
      ]
    },
    {
      "cell_type": "code",
      "metadata": {
        "scrolled": false,
        "id": "V8GDz9FDELRU",
        "colab_type": "code",
        "colab": {},
        "outputId": "d55b4e8f-81b2-497d-ab53-86b2e0cb4997"
      },
      "source": [
        "test_rt = TestRuntimeCallback()\n",
        "test_loss, test_accuracy = model_1.evaluate(test_data_smv, one_hot_test_labels_sm, callbacks=[test_rt], verbose=0)\n",
        "print(f\"test_accuracy={test_accuracy}, test_loss={test_loss}\")"
      ],
      "execution_count": null,
      "outputs": [
        {
          "output_type": "stream",
          "text": [
            "test_accuracy=0.8601511716842651, test_loss=0.678581937600418\n"
          ],
          "name": "stdout"
        }
      ]
    },
    {
      "cell_type": "code",
      "metadata": {
        "id": "zoXB-OPAELRX",
        "colab_type": "code",
        "colab": {},
        "outputId": "d54a802e-6158-4255-990e-8b03c91d7f96"
      },
      "source": [
        "# Get the test time\n",
        "test_time = test_rt.process_time\n",
        "test_time # in seconds"
      ],
      "execution_count": null,
      "outputs": [
        {
          "output_type": "execute_result",
          "data": {
            "text/plain": [
              "0.241027"
            ]
          },
          "metadata": {
            "tags": []
          },
          "execution_count": 55
        }
      ]
    },
    {
      "cell_type": "markdown",
      "metadata": {
        "id": "85xASr51ELRZ",
        "colab_type": "text"
      },
      "source": [
        "### 1.1.c Model Results"
      ]
    },
    {
      "cell_type": "code",
      "metadata": {
        "id": "7Ok7fgQrELRa",
        "colab_type": "code",
        "colab": {},
        "outputId": "a42cad60-053c-4343-c549-4a081268d778"
      },
      "source": [
        "# Use history to collect statistics\n",
        "history_dict = history.history\n",
        "# history_dict['train_accuracy'] = history_dict.pop('accuracy') # rename the the key to 'test_accuracy'\n",
        "history_dict.keys()"
      ],
      "execution_count": null,
      "outputs": [
        {
          "output_type": "execute_result",
          "data": {
            "text/plain": [
              "dict_keys(['loss', 'accuracy', 'val_loss', 'val_accuracy'])"
            ]
          },
          "metadata": {
            "tags": []
          },
          "execution_count": 56
        }
      ]
    },
    {
      "cell_type": "code",
      "metadata": {
        "scrolled": true,
        "id": "vCAfX_JqELRc",
        "colab_type": "code",
        "colab": {},
        "outputId": "4faef4c2-c3e5-4f85-de4c-63f65d75f708"
      },
      "source": [
        "# # DataFrame for model with 9 topics\n",
        "history_df=pd.DataFrame(history_dict)\n",
        "# history_df['test_accuracy'] = test_accuracy\n",
        "# history_df = history_df.iloc[-1:]\n",
        "history_df"
      ],
      "execution_count": null,
      "outputs": [
        {
          "output_type": "execute_result",
          "data": {
            "text/html": [
              "<div>\n",
              "<style scoped>\n",
              "    .dataframe tbody tr th:only-of-type {\n",
              "        vertical-align: middle;\n",
              "    }\n",
              "\n",
              "    .dataframe tbody tr th {\n",
              "        vertical-align: top;\n",
              "    }\n",
              "\n",
              "    .dataframe thead th {\n",
              "        text-align: right;\n",
              "    }\n",
              "</style>\n",
              "<table border=\"1\" class=\"dataframe\">\n",
              "  <thead>\n",
              "    <tr style=\"text-align: right;\">\n",
              "      <th></th>\n",
              "      <th>loss</th>\n",
              "      <th>accuracy</th>\n",
              "      <th>val_loss</th>\n",
              "      <th>val_accuracy</th>\n",
              "    </tr>\n",
              "  </thead>\n",
              "  <tbody>\n",
              "    <tr>\n",
              "      <th>0</th>\n",
              "      <td>1.177451</td>\n",
              "      <td>0.695625</td>\n",
              "      <td>0.623516</td>\n",
              "      <td>0.856128</td>\n",
              "    </tr>\n",
              "    <tr>\n",
              "      <th>1</th>\n",
              "      <td>0.424921</td>\n",
              "      <td>0.908735</td>\n",
              "      <td>0.521417</td>\n",
              "      <td>0.873002</td>\n",
              "    </tr>\n",
              "    <tr>\n",
              "      <th>2</th>\n",
              "      <td>0.246452</td>\n",
              "      <td>0.946056</td>\n",
              "      <td>0.514237</td>\n",
              "      <td>0.877442</td>\n",
              "    </tr>\n",
              "    <tr>\n",
              "      <th>3</th>\n",
              "      <td>0.171886</td>\n",
              "      <td>0.959699</td>\n",
              "      <td>0.539383</td>\n",
              "      <td>0.876554</td>\n",
              "    </tr>\n",
              "    <tr>\n",
              "      <th>4</th>\n",
              "      <td>0.133797</td>\n",
              "      <td>0.965344</td>\n",
              "      <td>0.572965</td>\n",
              "      <td>0.868561</td>\n",
              "    </tr>\n",
              "    <tr>\n",
              "      <th>5</th>\n",
              "      <td>0.119446</td>\n",
              "      <td>0.965187</td>\n",
              "      <td>0.586977</td>\n",
              "      <td>0.871226</td>\n",
              "    </tr>\n",
              "    <tr>\n",
              "      <th>6</th>\n",
              "      <td>0.104785</td>\n",
              "      <td>0.967226</td>\n",
              "      <td>0.623641</td>\n",
              "      <td>0.863233</td>\n",
              "    </tr>\n",
              "    <tr>\n",
              "      <th>7</th>\n",
              "      <td>0.105915</td>\n",
              "      <td>0.966442</td>\n",
              "      <td>0.633889</td>\n",
              "      <td>0.867673</td>\n",
              "    </tr>\n",
              "    <tr>\n",
              "      <th>8</th>\n",
              "      <td>0.092627</td>\n",
              "      <td>0.968637</td>\n",
              "      <td>0.633280</td>\n",
              "      <td>0.865009</td>\n",
              "    </tr>\n",
              "    <tr>\n",
              "      <th>9</th>\n",
              "      <td>0.094744</td>\n",
              "      <td>0.965501</td>\n",
              "      <td>0.683556</td>\n",
              "      <td>0.863233</td>\n",
              "    </tr>\n",
              "  </tbody>\n",
              "</table>\n",
              "</div>"
            ],
            "text/plain": [
              "       loss  accuracy  val_loss  val_accuracy\n",
              "0  1.177451  0.695625  0.623516      0.856128\n",
              "1  0.424921  0.908735  0.521417      0.873002\n",
              "2  0.246452  0.946056  0.514237      0.877442\n",
              "3  0.171886  0.959699  0.539383      0.876554\n",
              "4  0.133797  0.965344  0.572965      0.868561\n",
              "5  0.119446  0.965187  0.586977      0.871226\n",
              "6  0.104785  0.967226  0.623641      0.863233\n",
              "7  0.105915  0.966442  0.633889      0.867673\n",
              "8  0.092627  0.968637  0.633280      0.865009\n",
              "9  0.094744  0.965501  0.683556      0.863233"
            ]
          },
          "metadata": {
            "tags": []
          },
          "execution_count": 57
        }
      ]
    },
    {
      "cell_type": "code",
      "metadata": {
        "id": "D-z0XJq9ELRe",
        "colab_type": "code",
        "colab": {},
        "outputId": "b717e625-d408-4088-ba41-9389d0dda7b6"
      },
      "source": [
        "# Create a results DataFrame using the last row of history_df\n",
        "results_df = history_df.iloc[-1:].copy()\n",
        "results_df.insert(0,'model','DNN (2 layers) 9 topics') # want the model name to appear first\n",
        "results_df['test_accuracy'] = test_accuracy\n",
        "results_df['test_loss'] = test_loss\n",
        "results_df['training time (sec)'] = train_time     \n",
        "results_df['testing time (sec)'] = test_time    \n",
        "results_df"
      ],
      "execution_count": null,
      "outputs": [
        {
          "output_type": "execute_result",
          "data": {
            "text/html": [
              "<div>\n",
              "<style scoped>\n",
              "    .dataframe tbody tr th:only-of-type {\n",
              "        vertical-align: middle;\n",
              "    }\n",
              "\n",
              "    .dataframe tbody tr th {\n",
              "        vertical-align: top;\n",
              "    }\n",
              "\n",
              "    .dataframe thead th {\n",
              "        text-align: right;\n",
              "    }\n",
              "</style>\n",
              "<table border=\"1\" class=\"dataframe\">\n",
              "  <thead>\n",
              "    <tr style=\"text-align: right;\">\n",
              "      <th></th>\n",
              "      <th>model</th>\n",
              "      <th>loss</th>\n",
              "      <th>accuracy</th>\n",
              "      <th>val_loss</th>\n",
              "      <th>val_accuracy</th>\n",
              "      <th>test_accuracy</th>\n",
              "      <th>test_loss</th>\n",
              "      <th>training time (sec)</th>\n",
              "      <th>testing time (sec)</th>\n",
              "    </tr>\n",
              "  </thead>\n",
              "  <tbody>\n",
              "    <tr>\n",
              "      <th>9</th>\n",
              "      <td>DNN (2 layers) 9 topics</td>\n",
              "      <td>0.094744</td>\n",
              "      <td>0.965501</td>\n",
              "      <td>0.683556</td>\n",
              "      <td>0.863233</td>\n",
              "      <td>0.860151</td>\n",
              "      <td>0.678582</td>\n",
              "      <td>14.734655</td>\n",
              "      <td>0.241027</td>\n",
              "    </tr>\n",
              "  </tbody>\n",
              "</table>\n",
              "</div>"
            ],
            "text/plain": [
              "                     model      loss  accuracy  val_loss  val_accuracy  \\\n",
              "9  DNN (2 layers) 9 topics  0.094744  0.965501  0.683556      0.863233   \n",
              "\n",
              "   test_accuracy  test_loss  training time (sec)  testing time (sec)  \n",
              "9       0.860151   0.678582            14.734655            0.241027  "
            ]
          },
          "metadata": {
            "tags": []
          },
          "execution_count": 58
        }
      ]
    },
    {
      "cell_type": "code",
      "metadata": {
        "scrolled": true,
        "id": "vqngjCoCELRk",
        "colab_type": "code",
        "colab": {},
        "outputId": "22309c6b-5ef0-423e-fe9f-754d80f95452"
      },
      "source": [
        "# Plot learning curves for model\n",
        "pd.DataFrame(history.history).plot(figsize=(8, 5))\n",
        "plt.grid(True)\n",
        "plt.gca().set_ylim(0, 1) # set the vertical range to [0-1]\n",
        "plt.savefig(\"figures/learning_curves_model_1\", tight_layout=False)\n",
        "plt.show()"
      ],
      "execution_count": null,
      "outputs": [
        {
          "output_type": "display_data",
          "data": {
            "image/png": "[encoded data removed]",
            "text/plain": [
              "<Figure size 576x360 with 1 Axes>"
            ]
          },
          "metadata": {
            "tags": [],
            "needs_background": "light"
          }
        }
      ]
    },
    {
      "cell_type": "markdown",
      "metadata": {
        "id": "_kVbIf5oELRm",
        "colab_type": "text"
      },
      "source": [
        "## 1.2. DNN w/256 and 256 nodes"
      ]
    },
    {
      "cell_type": "code",
      "metadata": {
        "id": "HDb_l1G-ELRm",
        "colab_type": "code",
        "colab": {}
      },
      "source": [
        "# This is the model we will use with data from the top 9 topics.\n",
        "model_1a = Sequential()\n",
        "model_1a.add(Dense(units =  256, activation='relu', input_shape=(voc_size,))) # vocabulary size = 10,000\n",
        "model_1a.add(Dense(units =  256, activation='relu'))\n",
        "model_1a.add(Dense(units =  9, activation='softmax'))"
      ],
      "execution_count": null,
      "outputs": []
    },
    {
      "cell_type": "code",
      "metadata": {
        "id": "4pcLlNFYELRo",
        "colab_type": "code",
        "colab": {},
        "outputId": "ead07e0d-de5c-479e-9db4-1b0d03b6d813"
      },
      "source": [
        "model_1a.summary()"
      ],
      "execution_count": null,
      "outputs": [
        {
          "output_type": "stream",
          "text": [
            "Model: \"sequential_2\"\n",
            "_________________________________________________________________\n",
            "Layer (type)                 Output Shape              Param #   \n",
            "=================================================================\n",
            "dense_6 (Dense)              (None, 256)               2560256   \n",
            "_________________________________________________________________\n",
            "dense_7 (Dense)              (None, 256)               65792     \n",
            "_________________________________________________________________\n",
            "dense_8 (Dense)              (None, 9)                 2313      \n",
            "=================================================================\n",
            "Total params: 2,628,361\n",
            "Trainable params: 2,628,361\n",
            "Non-trainable params: 0\n",
            "_________________________________________________________________\n"
          ],
          "name": "stdout"
        }
      ]
    },
    {
      "cell_type": "code",
      "metadata": {
        "id": "Cllnj-KIELRp",
        "colab_type": "code",
        "colab": {}
      },
      "source": [
        "model_1a.compile(optimizer='adam',\n",
        "              loss='categorical_crossentropy',\n",
        "              metrics=['accuracy'])"
      ],
      "execution_count": null,
      "outputs": []
    },
    {
      "cell_type": "code",
      "metadata": {
        "scrolled": true,
        "id": "RLoVdVMYELRr",
        "colab_type": "code",
        "colab": {},
        "outputId": "f15a8a27-1a81-4762-c61f-f549c2708b4e"
      },
      "source": [
        "train_rt = TrainRuntimeCallback()\n",
        "history = model_1a.fit(train_data_smv,\n",
        "                    one_hot_train_labels_sm,\n",
        "                    callbacks = [train_rt],\n",
        "                    epochs=10,\n",
        "                    batch_size=100,\n",
        "#                     validation_data=(val_data_smv, one_hot_val_labels_sm))\n",
        "                    validation_split = 0.15)   # comment out if setting validation_data value.\n",
        "\n",
        "# Saving models locally after fitting\n",
        "save_dir = \"results/\"\n",
        "model_name = 'Reuters_1a.h5'\n",
        "model_path = os.path.join(save_dir, model_name)\n",
        "model_1a.save(model_path)\n",
        "print('Saved trained model at %s ' % model_path)\n",
        "print('--------------------------')"
      ],
      "execution_count": null,
      "outputs": [
        {
          "output_type": "stream",
          "text": [
            "Train on 6377 samples, validate on 1126 samples\n",
            "Epoch 1/10\n",
            "6377/6377 [==============================] - 4s 696us/sample - loss: 0.8306 - accuracy: 0.7784 - val_loss: 0.5197 - val_accuracy: 0.8801\n",
            "Epoch 2/10\n",
            "6377/6377 [==============================] - 4s 583us/sample - loss: 0.2712 - accuracy: 0.9360 - val_loss: 0.5245 - val_accuracy: 0.8801\n",
            "Epoch 3/10\n",
            "6377/6377 [==============================] - 4s 594us/sample - loss: 0.1572 - accuracy: 0.9611 - val_loss: 0.5580 - val_accuracy: 0.8703\n",
            "Epoch 4/10\n",
            "6377/6377 [==============================] - 4s 566us/sample - loss: 0.1192 - accuracy: 0.9650 - val_loss: 0.5871 - val_accuracy: 0.8668\n",
            "Epoch 5/10\n",
            "6377/6377 [==============================] - 4s 556us/sample - loss: 0.1021 - accuracy: 0.9653 - val_loss: 0.6120 - val_accuracy: 0.8588\n",
            "Epoch 6/10\n",
            "6377/6377 [==============================] - 4s 582us/sample - loss: 0.0900 - accuracy: 0.9658 - val_loss: 0.6361 - val_accuracy: 0.8579\n",
            "Epoch 7/10\n",
            "6377/6377 [==============================] - 5s 707us/sample - loss: 0.0818 - accuracy: 0.9674 - val_loss: 0.6599 - val_accuracy: 0.8597\n",
            "Epoch 8/10\n",
            "6377/6377 [==============================] - 4s 591us/sample - loss: 0.0756 - accuracy: 0.9657 - val_loss: 0.6725 - val_accuracy: 0.8623\n",
            "Epoch 9/10\n",
            "6377/6377 [==============================] - 4s 613us/sample - loss: 0.0684 - accuracy: 0.9672 - val_loss: 0.6500 - val_accuracy: 0.8588\n",
            "Epoch 10/10\n",
            "6377/6377 [==============================] - 4s 631us/sample - loss: 0.0662 - accuracy: 0.9679 - val_loss: 0.7330 - val_accuracy: 0.8659\n",
            "Saved trained model at results/Reuters_1a.h5 \n",
            "--------------------------\n"
          ],
          "name": "stdout"
        }
      ]
    },
    {
      "cell_type": "code",
      "metadata": {
        "id": "6KUFpAJUELRt",
        "colab_type": "code",
        "colab": {},
        "outputId": "ca6f08b4-010a-4403-e161-5449fd6989ea"
      },
      "source": [
        "# Get the training time\n",
        "train_time = train_rt.process_time\n",
        "train_time # in seconds"
      ],
      "execution_count": null,
      "outputs": [
        {
          "output_type": "execute_result",
          "data": {
            "text/plain": [
              "39.019436"
            ]
          },
          "metadata": {
            "tags": []
          },
          "execution_count": 64
        }
      ]
    },
    {
      "cell_type": "code",
      "metadata": {
        "id": "Sqd3BDtZELRx",
        "colab_type": "code",
        "colab": {},
        "outputId": "a401c5d3-0e61-40eb-bce8-ef173cd12597"
      },
      "source": [
        "print(f\"train_acc: {history.history['accuracy'][-1]}, val_acc: {history.history['val_accuracy'][-1]}\")"
      ],
      "execution_count": null,
      "outputs": [
        {
          "output_type": "stream",
          "text": [
            "train_acc: 0.9678532481193542, val_acc: 0.865896999835968\n"
          ],
          "name": "stdout"
        }
      ]
    },
    {
      "cell_type": "markdown",
      "metadata": {
        "id": "Y1nG2GLOELRz",
        "colab_type": "text"
      },
      "source": [
        "### 1.2.a Model Testing"
      ]
    },
    {
      "cell_type": "code",
      "metadata": {
        "id": "xEtxZhZmELRz",
        "colab_type": "code",
        "colab": {},
        "outputId": "f44b15d8-dab1-41db-d606-44f7cdfa4be0"
      },
      "source": [
        "test_rt = TestRuntimeCallback()\n",
        "test_loss, test_accuracy = model_1a.evaluate(test_data_smv, one_hot_test_labels_sm, callbacks=[test_rt], verbose=0)\n",
        "print(f\"test_accuracy={test_accuracy}, test_loss={test_loss}\")"
      ],
      "execution_count": null,
      "outputs": [
        {
          "output_type": "stream",
          "text": [
            "test_accuracy=0.8590712547302246, test_loss=0.7554670130717317\n"
          ],
          "name": "stdout"
        }
      ]
    },
    {
      "cell_type": "code",
      "metadata": {
        "id": "CBmbVrfjELR2",
        "colab_type": "code",
        "colab": {},
        "outputId": "28b80491-c846-4857-e826-ecbe7a3e5629"
      },
      "source": [
        "# Get the test time\n",
        "test_time = test_rt.process_time\n",
        "test_time # in seconds"
      ],
      "execution_count": null,
      "outputs": [
        {
          "output_type": "execute_result",
          "data": {
            "text/plain": [
              "0.288834"
            ]
          },
          "metadata": {
            "tags": []
          },
          "execution_count": 67
        }
      ]
    },
    {
      "cell_type": "markdown",
      "metadata": {
        "id": "ctHBXmPsELR4",
        "colab_type": "text"
      },
      "source": [
        "### 1.2.b Model Performance"
      ]
    },
    {
      "cell_type": "code",
      "metadata": {
        "id": "o7Gu1BOHELR5",
        "colab_type": "code",
        "colab": {},
        "outputId": "65d8dc32-dfb6-415b-9741-e80360c38cd9"
      },
      "source": [
        "# Plot learning curves for model\n",
        "pd.DataFrame(history.history).plot(figsize=(8, 5))\n",
        "plt.grid(True)\n",
        "plt.gca().set_ylim(0, 1) # set the vertical range to [0-1]\n",
        "plt.savefig(\"figures/learning_curves_model_1a\", tight_layout=False)\n",
        "plt.show()"
      ],
      "execution_count": null,
      "outputs": [
        {
          "output_type": "display_data",
          "data": {
            "image/png": "[encoded data removed]",
            "text/plain": [
              "<Figure size 576x360 with 1 Axes>"
            ]
          },
          "metadata": {
            "tags": [],
            "needs_background": "light"
          }
        }
      ]
    },
    {
      "cell_type": "code",
      "metadata": {
        "id": "x20z7BgVELR7",
        "colab_type": "code",
        "colab": {},
        "outputId": "b38787f7-6884-4338-8aa5-eececd9f0b56"
      },
      "source": [
        "# Use history to collect statistics\n",
        "history_dict = history.history\n",
        "# history_dict['train_accuracy'] = history_dict.pop('accuracy') # rename the the key to 'test_accuracy'\n",
        "history_dict.keys()"
      ],
      "execution_count": null,
      "outputs": [
        {
          "output_type": "execute_result",
          "data": {
            "text/plain": [
              "dict_keys(['loss', 'accuracy', 'val_loss', 'val_accuracy'])"
            ]
          },
          "metadata": {
            "tags": []
          },
          "execution_count": 69
        }
      ]
    },
    {
      "cell_type": "code",
      "metadata": {
        "scrolled": true,
        "id": "ivw3IIYBELSC",
        "colab_type": "code",
        "colab": {},
        "outputId": "521846f5-9b35-4840-fc53-6980f2afe671"
      },
      "source": [
        "# # DataFrame for model with 9 topics\n",
        "history_df=pd.DataFrame(history_dict)\n",
        "# history_df['test_accuracy'] = test_accuracy\n",
        "# history_df = history_df.iloc[-1:]\n",
        "history_df"
      ],
      "execution_count": null,
      "outputs": [
        {
          "output_type": "execute_result",
          "data": {
            "text/html": [
              "<div>\n",
              "<style scoped>\n",
              "    .dataframe tbody tr th:only-of-type {\n",
              "        vertical-align: middle;\n",
              "    }\n",
              "\n",
              "    .dataframe tbody tr th {\n",
              "        vertical-align: top;\n",
              "    }\n",
              "\n",
              "    .dataframe thead th {\n",
              "        text-align: right;\n",
              "    }\n",
              "</style>\n",
              "<table border=\"1\" class=\"dataframe\">\n",
              "  <thead>\n",
              "    <tr style=\"text-align: right;\">\n",
              "      <th></th>\n",
              "      <th>loss</th>\n",
              "      <th>accuracy</th>\n",
              "      <th>val_loss</th>\n",
              "      <th>val_accuracy</th>\n",
              "    </tr>\n",
              "  </thead>\n",
              "  <tbody>\n",
              "    <tr>\n",
              "      <th>0</th>\n",
              "      <td>0.830591</td>\n",
              "      <td>0.778422</td>\n",
              "      <td>0.519692</td>\n",
              "      <td>0.880107</td>\n",
              "    </tr>\n",
              "    <tr>\n",
              "      <th>1</th>\n",
              "      <td>0.271225</td>\n",
              "      <td>0.936020</td>\n",
              "      <td>0.524478</td>\n",
              "      <td>0.880107</td>\n",
              "    </tr>\n",
              "    <tr>\n",
              "      <th>2</th>\n",
              "      <td>0.157211</td>\n",
              "      <td>0.961110</td>\n",
              "      <td>0.558012</td>\n",
              "      <td>0.870337</td>\n",
              "    </tr>\n",
              "    <tr>\n",
              "      <th>3</th>\n",
              "      <td>0.119244</td>\n",
              "      <td>0.965031</td>\n",
              "      <td>0.587073</td>\n",
              "      <td>0.866785</td>\n",
              "    </tr>\n",
              "    <tr>\n",
              "      <th>4</th>\n",
              "      <td>0.102112</td>\n",
              "      <td>0.965344</td>\n",
              "      <td>0.611959</td>\n",
              "      <td>0.858792</td>\n",
              "    </tr>\n",
              "    <tr>\n",
              "      <th>5</th>\n",
              "      <td>0.089959</td>\n",
              "      <td>0.965815</td>\n",
              "      <td>0.636065</td>\n",
              "      <td>0.857904</td>\n",
              "    </tr>\n",
              "    <tr>\n",
              "      <th>6</th>\n",
              "      <td>0.081804</td>\n",
              "      <td>0.967383</td>\n",
              "      <td>0.659852</td>\n",
              "      <td>0.859680</td>\n",
              "    </tr>\n",
              "    <tr>\n",
              "      <th>7</th>\n",
              "      <td>0.075589</td>\n",
              "      <td>0.965658</td>\n",
              "      <td>0.672524</td>\n",
              "      <td>0.862345</td>\n",
              "    </tr>\n",
              "    <tr>\n",
              "      <th>8</th>\n",
              "      <td>0.068394</td>\n",
              "      <td>0.967226</td>\n",
              "      <td>0.650002</td>\n",
              "      <td>0.858792</td>\n",
              "    </tr>\n",
              "    <tr>\n",
              "      <th>9</th>\n",
              "      <td>0.066245</td>\n",
              "      <td>0.967853</td>\n",
              "      <td>0.732996</td>\n",
              "      <td>0.865897</td>\n",
              "    </tr>\n",
              "  </tbody>\n",
              "</table>\n",
              "</div>"
            ],
            "text/plain": [
              "       loss  accuracy  val_loss  val_accuracy\n",
              "0  0.830591  0.778422  0.519692      0.880107\n",
              "1  0.271225  0.936020  0.524478      0.880107\n",
              "2  0.157211  0.961110  0.558012      0.870337\n",
              "3  0.119244  0.965031  0.587073      0.866785\n",
              "4  0.102112  0.965344  0.611959      0.858792\n",
              "5  0.089959  0.965815  0.636065      0.857904\n",
              "6  0.081804  0.967383  0.659852      0.859680\n",
              "7  0.075589  0.965658  0.672524      0.862345\n",
              "8  0.068394  0.967226  0.650002      0.858792\n",
              "9  0.066245  0.967853  0.732996      0.865897"
            ]
          },
          "metadata": {
            "tags": []
          },
          "execution_count": 70
        }
      ]
    },
    {
      "cell_type": "code",
      "metadata": {
        "id": "lbW8YPKRELSE",
        "colab_type": "code",
        "colab": {},
        "outputId": "534a10ba-45fa-47ba-cd9e-7c7e86e8a7c6"
      },
      "source": [
        "# Create a results DataFrame using the last row of history_df\n",
        "results_df1a = history_df.iloc[-1:].copy()\n",
        "results_df1a.insert(0,'model','DNN (2 layers 256/256)') # went the model name to appear first\n",
        "results_df1a['test_accuracy'] = test_accuracy\n",
        "results_df1a['test_loss'] = test_loss\n",
        "results_df1a['training time (sec)'] = train_time      # we are okay with training time appearing last\n",
        "results_df1a['testing time (sec)'] = test_time      # we are okay with training time appearing last\n",
        "results_df1a"
      ],
      "execution_count": null,
      "outputs": [
        {
          "output_type": "execute_result",
          "data": {
            "text/html": [
              "<div>\n",
              "<style scoped>\n",
              "    .dataframe tbody tr th:only-of-type {\n",
              "        vertical-align: middle;\n",
              "    }\n",
              "\n",
              "    .dataframe tbody tr th {\n",
              "        vertical-align: top;\n",
              "    }\n",
              "\n",
              "    .dataframe thead th {\n",
              "        text-align: right;\n",
              "    }\n",
              "</style>\n",
              "<table border=\"1\" class=\"dataframe\">\n",
              "  <thead>\n",
              "    <tr style=\"text-align: right;\">\n",
              "      <th></th>\n",
              "      <th>model</th>\n",
              "      <th>loss</th>\n",
              "      <th>accuracy</th>\n",
              "      <th>val_loss</th>\n",
              "      <th>val_accuracy</th>\n",
              "      <th>test_accuracy</th>\n",
              "      <th>test_loss</th>\n",
              "      <th>training time (sec)</th>\n",
              "      <th>testing time (sec)</th>\n",
              "    </tr>\n",
              "  </thead>\n",
              "  <tbody>\n",
              "    <tr>\n",
              "      <th>9</th>\n",
              "      <td>DNN (2 layers 256/256)</td>\n",
              "      <td>0.066245</td>\n",
              "      <td>0.967853</td>\n",
              "      <td>0.732996</td>\n",
              "      <td>0.865897</td>\n",
              "      <td>0.859071</td>\n",
              "      <td>0.755467</td>\n",
              "      <td>39.019436</td>\n",
              "      <td>0.288834</td>\n",
              "    </tr>\n",
              "  </tbody>\n",
              "</table>\n",
              "</div>"
            ],
            "text/plain": [
              "                    model      loss  accuracy  val_loss  val_accuracy  \\\n",
              "9  DNN (2 layers 256/256)  0.066245  0.967853  0.732996      0.865897   \n",
              "\n",
              "   test_accuracy  test_loss  training time (sec)  testing time (sec)  \n",
              "9       0.859071   0.755467            39.019436            0.288834  "
            ]
          },
          "metadata": {
            "tags": []
          },
          "execution_count": 71
        }
      ]
    },
    {
      "cell_type": "markdown",
      "metadata": {
        "id": "mLhXd2eRELSG",
        "colab_type": "text"
      },
      "source": [
        "## 1.3 Baseline Model"
      ]
    },
    {
      "cell_type": "code",
      "metadata": {
        "id": "8wpR4GQ0ELSG",
        "colab_type": "code",
        "colab": {},
        "outputId": "c1f017a3-4656-4120-c232-586bab1c218f"
      },
      "source": [
        "test_labels_sm_copy = copy.copy(test_labels_sm)\n",
        "np.random.shuffle(test_labels_sm_copy)\n",
        "float(np.sum(np.array(test_labels_sm) == np.array(test_labels_sm_copy))) / len(test_labels_sm)\n",
        "# test_labels_copy = copy.copy(test_labels)\n",
        "# np.random.shuffle(test_labels_copy)\n",
        "# float(np.sum(np.array(test_labels) == np.array(test_labels_copy))) / len(test_labels)"
      ],
      "execution_count": null,
      "outputs": [
        {
          "output_type": "execute_result",
          "data": {
            "text/plain": [
              "0.26187904967602593"
            ]
          },
          "metadata": {
            "tags": []
          },
          "execution_count": 72
        }
      ]
    },
    {
      "cell_type": "markdown",
      "metadata": {
        "id": "5J4tPhXOELSI",
        "colab_type": "text"
      },
      "source": [
        "## 1.3 Baseline Model w/10% dropout"
      ]
    },
    {
      "cell_type": "code",
      "metadata": {
        "id": "Wr-g7JgPELSJ",
        "colab_type": "code",
        "colab": {},
        "outputId": "5df6aafc-b9b4-4903-9aa4-2080d96beb7c"
      },
      "source": [
        "model_1do = Sequential()\n",
        "model_1do.add(Dense(units =64, activation='relu', input_shape=(voc_size,))) # vocabulary size = 10,000\n",
        "model_1do.add(layers.Dropout(0.1))\n",
        "model_1do.add(Dense(units =32, activation='relu'))\n",
        "model_1do.add(layers.Dropout(0.1))\n",
        "model_1do.add(Dense(units =9, activation='softmax'))\n",
        "\n",
        "model_1do.summary()"
      ],
      "execution_count": null,
      "outputs": [
        {
          "output_type": "stream",
          "text": [
            "Model: \"sequential_3\"\n",
            "_________________________________________________________________\n",
            "Layer (type)                 Output Shape              Param #   \n",
            "=================================================================\n",
            "dense_9 (Dense)              (None, 64)                640064    \n",
            "_________________________________________________________________\n",
            "dropout (Dropout)            (None, 64)                0         \n",
            "_________________________________________________________________\n",
            "dense_10 (Dense)             (None, 32)                2080      \n",
            "_________________________________________________________________\n",
            "dropout_1 (Dropout)          (None, 32)                0         \n",
            "_________________________________________________________________\n",
            "dense_11 (Dense)             (None, 9)                 297       \n",
            "=================================================================\n",
            "Total params: 642,441\n",
            "Trainable params: 642,441\n",
            "Non-trainable params: 0\n",
            "_________________________________________________________________\n"
          ],
          "name": "stdout"
        }
      ]
    },
    {
      "cell_type": "markdown",
      "metadata": {
        "id": "Iu06RZMZ0Fqm",
        "colab_type": "text"
      },
      "source": [
        "### 1.3.a Model Training"
      ]
    },
    {
      "cell_type": "code",
      "metadata": {
        "id": "Mqi2muMCELSM",
        "colab_type": "code",
        "colab": {}
      },
      "source": [
        "model_1do.compile(optimizer='adam',\n",
        "              loss='categorical_crossentropy',\n",
        "              metrics=['accuracy'])"
      ],
      "execution_count": null,
      "outputs": []
    },
    {
      "cell_type": "code",
      "metadata": {
        "id": "hiGN-3L6ELSO",
        "colab_type": "code",
        "colab": {},
        "outputId": "35bfc91b-5f63-41cf-ceaf-52fc62993d8f"
      },
      "source": [
        "train_rt = TrainRuntimeCallback()\n",
        "history = model_1do.fit(train_data_smv,\n",
        "                    one_hot_train_labels_sm,\n",
        "                    callbacks = [train_rt],\n",
        "                    epochs=10,\n",
        "                    batch_size=100,\n",
        "                    validation_split = 0.15)  \n",
        "\n",
        "# Saving models locally after fitting\n",
        "save_dir = \"results/\"\n",
        "model_name = 'Reuters_1do.h5'\n",
        "model_path = os.path.join(save_dir, model_name)\n",
        "model_1do.save(model_path)\n",
        "print('Saved trained model at %s ' % model_path)\n",
        "print('--------------------------')"
      ],
      "execution_count": null,
      "outputs": [
        {
          "output_type": "stream",
          "text": [
            "Train on 6377 samples, validate on 1126 samples\n",
            "Epoch 1/10\n",
            "6377/6377 [==============================] - 2s 379us/sample - loss: 1.1504 - accuracy: 0.6894 - val_loss: 0.6204 - val_accuracy: 0.8428\n",
            "Epoch 2/10\n",
            "6377/6377 [==============================] - 1s 218us/sample - loss: 0.4784 - accuracy: 0.8874 - val_loss: 0.5089 - val_accuracy: 0.8730\n",
            "Epoch 3/10\n",
            "6377/6377 [==============================] - 1s 214us/sample - loss: 0.3054 - accuracy: 0.9323 - val_loss: 0.5075 - val_accuracy: 0.8801\n",
            "Epoch 4/10\n",
            "6377/6377 [==============================] - 1s 217us/sample - loss: 0.2177 - accuracy: 0.9484 - val_loss: 0.5252 - val_accuracy: 0.8810\n",
            "Epoch 5/10\n",
            "6377/6377 [==============================] - 1s 227us/sample - loss: 0.1667 - accuracy: 0.9573 - val_loss: 0.5476 - val_accuracy: 0.8757\n",
            "Epoch 6/10\n",
            "6377/6377 [==============================] - 1s 223us/sample - loss: 0.1366 - accuracy: 0.9631 - val_loss: 0.5835 - val_accuracy: 0.8677\n",
            "Epoch 7/10\n",
            "6377/6377 [==============================] - 2s 296us/sample - loss: 0.1179 - accuracy: 0.9657 - val_loss: 0.6097 - val_accuracy: 0.8730\n",
            "Epoch 8/10\n",
            "6377/6377 [==============================] - 1s 225us/sample - loss: 0.1110 - accuracy: 0.9657 - val_loss: 0.6315 - val_accuracy: 0.8659\n",
            "Epoch 9/10\n",
            "6377/6377 [==============================] - 1s 223us/sample - loss: 0.0946 - accuracy: 0.9679 - val_loss: 0.6451 - val_accuracy: 0.8668\n",
            "Epoch 10/10\n",
            "6377/6377 [==============================] - 1s 223us/sample - loss: 0.0951 - accuracy: 0.9668 - val_loss: 0.6917 - val_accuracy: 0.8632\n",
            "Saved trained model at results/Reuters_1do.h5 \n",
            "--------------------------\n"
          ],
          "name": "stdout"
        }
      ]
    },
    {
      "cell_type": "code",
      "metadata": {
        "id": "F1hwxNw9ELSS",
        "colab_type": "code",
        "colab": {},
        "outputId": "7f20cf72-14da-4e7a-9482-424236f4b75e"
      },
      "source": [
        "# Get the training time\n",
        "train_time = train_rt.process_time\n",
        "train_time # in seconds"
      ],
      "execution_count": null,
      "outputs": [
        {
          "output_type": "execute_result",
          "data": {
            "text/plain": [
              "15.595836"
            ]
          },
          "metadata": {
            "tags": []
          },
          "execution_count": 76
        }
      ]
    },
    {
      "cell_type": "markdown",
      "metadata": {
        "id": "7bQr8GgdELSU",
        "colab_type": "text"
      },
      "source": [
        "### 1.3.b Model Testing"
      ]
    },
    {
      "cell_type": "code",
      "metadata": {
        "id": "3vb8WdzKELSU",
        "colab_type": "code",
        "colab": {},
        "outputId": "71e7f7b8-347e-43e8-caae-3e7095819c7b"
      },
      "source": [
        "test_rt = TestRuntimeCallback()\n",
        "test_loss, test_accuracy = model_1do.evaluate(test_data_smv, one_hot_test_labels_sm, callbacks=[test_rt], verbose=0) \n",
        "print(f\"test_accuracy={test_accuracy}, test_loss={test_loss}\")"
      ],
      "execution_count": null,
      "outputs": [
        {
          "output_type": "stream",
          "text": [
            "test_accuracy=0.8574513792991638, test_loss=0.7035018586700472\n"
          ],
          "name": "stdout"
        }
      ]
    },
    {
      "cell_type": "code",
      "metadata": {
        "id": "Pt3DYvCPELSX",
        "colab_type": "code",
        "colab": {},
        "outputId": "3e991a83-ab98-48b6-8df0-22ea1e490977"
      },
      "source": [
        "# Get the test time\n",
        "test_time = test_rt.process_time\n",
        "test_time # in seconds"
      ],
      "execution_count": null,
      "outputs": [
        {
          "output_type": "execute_result",
          "data": {
            "text/plain": [
              "0.186922"
            ]
          },
          "metadata": {
            "tags": []
          },
          "execution_count": 78
        }
      ]
    },
    {
      "cell_type": "markdown",
      "metadata": {
        "id": "6MN-kPGEELSZ",
        "colab_type": "text"
      },
      "source": [
        "### 1.3.c Model Performance"
      ]
    },
    {
      "cell_type": "code",
      "metadata": {
        "id": "1T1eGiV7ELSZ",
        "colab_type": "code",
        "colab": {},
        "outputId": "5c92a2fd-8550-44f4-910e-d3ca20a6c3a0"
      },
      "source": [
        "# Plot learning curves for model\n",
        "pd.DataFrame(history.history).plot(figsize=(8, 5))\n",
        "plt.grid(True)\n",
        "plt.gca().set_ylim(0, 1) # set the vertical range to [0-1]\n",
        "plt.savefig(\"figures/learning_curves_model_1do\", tight_layout=False)\n",
        "plt.show()"
      ],
      "execution_count": null,
      "outputs": [
        {
          "output_type": "display_data",
          "data": {
            "image/png": "[encoded data removed]",
            "text/plain": [
              "<Figure size 576x360 with 1 Axes>"
            ]
          },
          "metadata": {
            "tags": [],
            "needs_background": "light"
          }
        }
      ]
    },
    {
      "cell_type": "code",
      "metadata": {
        "id": "YBraV3dLELSc",
        "colab_type": "code",
        "colab": {}
      },
      "source": [
        "history_dict = history.history\n",
        "# history_dict['train_accuracy'] = history_dict.pop('accuracy') # rename the the key to 'test_accuracy'\n",
        "history_df=pd.DataFrame(history_dict)"
      ],
      "execution_count": null,
      "outputs": []
    },
    {
      "cell_type": "code",
      "metadata": {
        "id": "lOC5mEqlELSd",
        "colab_type": "code",
        "colab": {},
        "outputId": "3daced25-bd6e-4f92-8add-d5ab7ce4b09d"
      },
      "source": [
        "results_df1do = history_df.iloc[-1:].copy()\n",
        "results_df1do.insert(0,'model','DNN (2 layers) w Drop') # want the model name to appear first\n",
        "results_df1do['test_accuracy'] = test_accuracy\n",
        "results_df1do['test_loss'] = test_loss\n",
        "results_df1do['training time (sec)'] = train_time      # we are okay with training time appearing last\n",
        "results_df1do['testing time (sec)'] = test_time      # we are okay with training time appearing last\n",
        "results_df1do"
      ],
      "execution_count": null,
      "outputs": [
        {
          "output_type": "execute_result",
          "data": {
            "text/html": [
              "<div>\n",
              "<style scoped>\n",
              "    .dataframe tbody tr th:only-of-type {\n",
              "        vertical-align: middle;\n",
              "    }\n",
              "\n",
              "    .dataframe tbody tr th {\n",
              "        vertical-align: top;\n",
              "    }\n",
              "\n",
              "    .dataframe thead th {\n",
              "        text-align: right;\n",
              "    }\n",
              "</style>\n",
              "<table border=\"1\" class=\"dataframe\">\n",
              "  <thead>\n",
              "    <tr style=\"text-align: right;\">\n",
              "      <th></th>\n",
              "      <th>model</th>\n",
              "      <th>loss</th>\n",
              "      <th>accuracy</th>\n",
              "      <th>val_loss</th>\n",
              "      <th>val_accuracy</th>\n",
              "      <th>test_accuracy</th>\n",
              "      <th>test_loss</th>\n",
              "      <th>training time (sec)</th>\n",
              "      <th>testing time (sec)</th>\n",
              "    </tr>\n",
              "  </thead>\n",
              "  <tbody>\n",
              "    <tr>\n",
              "      <th>9</th>\n",
              "      <td>DNN (2 layers) w Drop</td>\n",
              "      <td>0.095098</td>\n",
              "      <td>0.966756</td>\n",
              "      <td>0.69174</td>\n",
              "      <td>0.863233</td>\n",
              "      <td>0.857451</td>\n",
              "      <td>0.703502</td>\n",
              "      <td>15.595836</td>\n",
              "      <td>0.186922</td>\n",
              "    </tr>\n",
              "  </tbody>\n",
              "</table>\n",
              "</div>"
            ],
            "text/plain": [
              "                   model      loss  accuracy  val_loss  val_accuracy  \\\n",
              "9  DNN (2 layers) w Drop  0.095098  0.966756   0.69174      0.863233   \n",
              "\n",
              "   test_accuracy  test_loss  training time (sec)  testing time (sec)  \n",
              "9       0.857451   0.703502            15.595836            0.186922  "
            ]
          },
          "metadata": {
            "tags": []
          },
          "execution_count": 81
        }
      ]
    },
    {
      "cell_type": "markdown",
      "metadata": {
        "id": "M_qcwnx_ELSe",
        "colab_type": "text"
      },
      "source": [
        "## 1.4: Baseline Model w/10% dropout and L1 regularization"
      ]
    },
    {
      "cell_type": "code",
      "metadata": {
        "id": "4bR39_nAELSf",
        "colab_type": "code",
        "colab": {},
        "outputId": "b4034122-22d7-4f5d-b038-47809f446fb1"
      },
      "source": [
        "model_1reg = Sequential()\n",
        "model_1reg.add(Dense(units=64, kernel_regularizer=regularizers.l1(0.001), activation='relu', input_shape=(voc_size,))) # vocabulary size = 10,000\n",
        "model_1reg.add(layers.Dropout(0.1))\n",
        "model_1reg.add(Dense(units=32, kernel_regularizer=regularizers.l1(0.001), activation='relu'))\n",
        "model_1reg.add(layers.Dropout(0.1))\n",
        "model_1reg.add(Dense(units=9, activation='softmax'))\n",
        "\n",
        "model_1reg.summary()\n"
      ],
      "execution_count": null,
      "outputs": [
        {
          "output_type": "stream",
          "text": [
            "Model: \"sequential_4\"\n",
            "_________________________________________________________________\n",
            "Layer (type)                 Output Shape              Param #   \n",
            "=================================================================\n",
            "dense_12 (Dense)             (None, 64)                640064    \n",
            "_________________________________________________________________\n",
            "dropout_2 (Dropout)          (None, 64)                0         \n",
            "_________________________________________________________________\n",
            "dense_13 (Dense)             (None, 32)                2080      \n",
            "_________________________________________________________________\n",
            "dropout_3 (Dropout)          (None, 32)                0         \n",
            "_________________________________________________________________\n",
            "dense_14 (Dense)             (None, 9)                 297       \n",
            "=================================================================\n",
            "Total params: 642,441\n",
            "Trainable params: 642,441\n",
            "Non-trainable params: 0\n",
            "_________________________________________________________________\n"
          ],
          "name": "stdout"
        }
      ]
    },
    {
      "cell_type": "markdown",
      "metadata": {
        "id": "da225jPO0Tna",
        "colab_type": "text"
      },
      "source": [
        "### 1.4.a Model Training"
      ]
    },
    {
      "cell_type": "code",
      "metadata": {
        "id": "ivzbWchUELSh",
        "colab_type": "code",
        "colab": {}
      },
      "source": [
        "model_1reg.compile(optimizer='adam',\n",
        "              loss='categorical_crossentropy',\n",
        "              metrics=['accuracy'])"
      ],
      "execution_count": null,
      "outputs": []
    },
    {
      "cell_type": "code",
      "metadata": {
        "id": "AYEBV4i3ELSj",
        "colab_type": "code",
        "colab": {},
        "outputId": "7909e355-e08d-47c3-f677-6ada74424a46"
      },
      "source": [
        "train_rt = TrainRuntimeCallback()\n",
        "history = model_1reg.fit(train_data_smv,\n",
        "                    one_hot_train_labels_sm,\n",
        "                    callbacks = [train_rt],\n",
        "                    epochs=10,\n",
        "                    batch_size=100,\n",
        "                    validation_split = 0.15) \n",
        "\n",
        "# Saving models locally after fitting\n",
        "save_dir = \"results/\"\n",
        "model_name = 'Reuters_1reg.h5'\n",
        "model_path = os.path.join(save_dir, model_name)\n",
        "model_1reg.save(model_path)\n",
        "print('Saved trained model at %s ' % model_path)\n",
        "print('--------------------------')"
      ],
      "execution_count": null,
      "outputs": [
        {
          "output_type": "stream",
          "text": [
            "Train on 6377 samples, validate on 1126 samples\n",
            "Epoch 1/10\n",
            "6377/6377 [==============================] - 3s 477us/sample - loss: 3.2436 - accuracy: 0.6293 - val_loss: 1.4733 - val_accuracy: 0.8037\n",
            "Epoch 2/10\n",
            "6377/6377 [==============================] - 2s 361us/sample - loss: 1.3500 - accuracy: 0.8103 - val_loss: 1.2425 - val_accuracy: 0.8375\n",
            "Epoch 3/10\n",
            "6377/6377 [==============================] - 2s 310us/sample - loss: 1.2080 - accuracy: 0.8386 - val_loss: 1.1620 - val_accuracy: 0.8446\n",
            "Epoch 4/10\n",
            "6377/6377 [==============================] - 2s 315us/sample - loss: 1.1347 - accuracy: 0.8474 - val_loss: 1.1294 - val_accuracy: 0.8552\n",
            "Epoch 5/10\n",
            "6377/6377 [==============================] - 2s 313us/sample - loss: 1.1040 - accuracy: 0.8551 - val_loss: 1.0983 - val_accuracy: 0.8579\n",
            "Epoch 6/10\n",
            "6377/6377 [==============================] - 2s 304us/sample - loss: 1.0709 - accuracy: 0.8653 - val_loss: 1.0930 - val_accuracy: 0.8659\n",
            "Epoch 7/10\n",
            "6377/6377 [==============================] - 2s 301us/sample - loss: 1.0692 - accuracy: 0.8670 - val_loss: 1.0800 - val_accuracy: 0.8632\n",
            "Epoch 8/10\n",
            "6377/6377 [==============================] - 2s 304us/sample - loss: 1.0487 - accuracy: 0.8747 - val_loss: 1.0753 - val_accuracy: 0.8588\n",
            "Epoch 9/10\n",
            "6377/6377 [==============================] - 2s 314us/sample - loss: 1.0384 - accuracy: 0.8767 - val_loss: 1.0624 - val_accuracy: 0.8650\n",
            "Epoch 10/10\n",
            "6377/6377 [==============================] - 2s 327us/sample - loss: 1.0196 - accuracy: 0.8777 - val_loss: 1.0671 - val_accuracy: 0.8606\n",
            "Saved trained model at results/Reuters_1reg.h5 \n",
            "--------------------------\n"
          ],
          "name": "stdout"
        }
      ]
    },
    {
      "cell_type": "code",
      "metadata": {
        "id": "DD2UItyJELSl",
        "colab_type": "code",
        "colab": {},
        "outputId": "db3b1d3e-8bfc-4827-8c51-40662061e95a"
      },
      "source": [
        "# Get the training time\n",
        "train_time = train_rt.process_time\n",
        "train_time # in seconds"
      ],
      "execution_count": null,
      "outputs": [
        {
          "output_type": "execute_result",
          "data": {
            "text/plain": [
              "21.216728"
            ]
          },
          "metadata": {
            "tags": []
          },
          "execution_count": 85
        }
      ]
    },
    {
      "cell_type": "markdown",
      "metadata": {
        "id": "4i4WuePV0bTP",
        "colab_type": "text"
      },
      "source": [
        "### 1.4.b Model Testing"
      ]
    },
    {
      "cell_type": "code",
      "metadata": {
        "id": "cfb8Lw1JELSn",
        "colab_type": "code",
        "colab": {},
        "outputId": "099ad5d7-d0cb-4670-b828-8b275d985580"
      },
      "source": [
        "test_rt = TestRuntimeCallback()\n",
        "test_loss, test_accuracy = model_1reg.evaluate(test_data_smv, one_hot_test_labels_sm, callbacks=[test_rt], verbose=0) \n",
        "print(f\"test_accuracy={test_accuracy}, test_loss={test_loss}\")"
      ],
      "execution_count": null,
      "outputs": [
        {
          "output_type": "stream",
          "text": [
            "test_accuracy=0.854211688041687, test_loss=1.0845474715366734\n"
          ],
          "name": "stdout"
        }
      ]
    },
    {
      "cell_type": "code",
      "metadata": {
        "id": "4okObr5MELSr",
        "colab_type": "code",
        "colab": {},
        "outputId": "7e3e7e2f-6c7a-408c-b123-00793dcef132"
      },
      "source": [
        "# Get the test time\n",
        "test_time = test_rt.process_time\n",
        "test_time # in seconds"
      ],
      "execution_count": null,
      "outputs": [
        {
          "output_type": "execute_result",
          "data": {
            "text/plain": [
              "0.246425"
            ]
          },
          "metadata": {
            "tags": []
          },
          "execution_count": 87
        }
      ]
    },
    {
      "cell_type": "markdown",
      "metadata": {
        "id": "Qmj9aMwHELSt",
        "colab_type": "text"
      },
      "source": [
        "### 1.4.c Model Performance"
      ]
    },
    {
      "cell_type": "code",
      "metadata": {
        "id": "vtRLEvWmELSu",
        "colab_type": "code",
        "colab": {},
        "outputId": "054ff435-d157-4cf3-81ec-907b1f944d2f"
      },
      "source": [
        "# Plot learning curves for model\n",
        "pd.DataFrame(history.history).plot(figsize=(8, 5))\n",
        "plt.grid(True)\n",
        "plt.gca().set_ylim(0, 1.5) # set the vertical range to [0-1]\n",
        "plt.savefig(\"figures/learning_curves_model_1reg\", tight_layout=False)\n",
        "plt.show()"
      ],
      "execution_count": null,
      "outputs": [
        {
          "output_type": "display_data",
          "data": {
            "image/png": "[encoded data removed]",
            "text/plain": [
              "<Figure size 576x360 with 1 Axes>"
            ]
          },
          "metadata": {
            "tags": [],
            "needs_background": "light"
          }
        }
      ]
    },
    {
      "cell_type": "code",
      "metadata": {
        "id": "f9hQVz1JELSy",
        "colab_type": "code",
        "colab": {}
      },
      "source": [
        "history_dict = history.history\n",
        "# history_dict['train_accuracy'] = history_dict.pop('accuracy') # rename the the key to 'test_accuracy'\n",
        "history_df=pd.DataFrame(history_dict)"
      ],
      "execution_count": null,
      "outputs": []
    },
    {
      "cell_type": "code",
      "metadata": {
        "id": "YuuZYkb1ELS1",
        "colab_type": "code",
        "colab": {},
        "outputId": "31bc3a2c-48c9-410d-d38c-1ad5bf90a2a0"
      },
      "source": [
        "results_df1reg = history_df.iloc[-1:].copy()\n",
        "results_df1reg.insert(0,'model','DNN (2 layers) w Drop and L1') # want the model name to appear first\n",
        "results_df1reg['test_accuracy'] = test_accuracy\n",
        "results_df1reg['test_loss'] = test_loss\n",
        "results_df1reg['training time (sec)'] = train_time      # we are okay with training time appearing last\n",
        "results_df1reg['testing time (sec)'] = test_time      # we are okay with training time appearing last\n",
        "results_df1reg"
      ],
      "execution_count": null,
      "outputs": [
        {
          "output_type": "execute_result",
          "data": {
            "text/html": [
              "<div>\n",
              "<style scoped>\n",
              "    .dataframe tbody tr th:only-of-type {\n",
              "        vertical-align: middle;\n",
              "    }\n",
              "\n",
              "    .dataframe tbody tr th {\n",
              "        vertical-align: top;\n",
              "    }\n",
              "\n",
              "    .dataframe thead th {\n",
              "        text-align: right;\n",
              "    }\n",
              "</style>\n",
              "<table border=\"1\" class=\"dataframe\">\n",
              "  <thead>\n",
              "    <tr style=\"text-align: right;\">\n",
              "      <th></th>\n",
              "      <th>model</th>\n",
              "      <th>loss</th>\n",
              "      <th>accuracy</th>\n",
              "      <th>val_loss</th>\n",
              "      <th>val_accuracy</th>\n",
              "      <th>test_accuracy</th>\n",
              "      <th>test_loss</th>\n",
              "      <th>training time (sec)</th>\n",
              "      <th>testing time (sec)</th>\n",
              "    </tr>\n",
              "  </thead>\n",
              "  <tbody>\n",
              "    <tr>\n",
              "      <th>9</th>\n",
              "      <td>DNN (2 layers) w Drop and L1</td>\n",
              "      <td>1.019556</td>\n",
              "      <td>0.877685</td>\n",
              "      <td>1.067072</td>\n",
              "      <td>0.860568</td>\n",
              "      <td>0.854212</td>\n",
              "      <td>1.084547</td>\n",
              "      <td>21.216728</td>\n",
              "      <td>0.246425</td>\n",
              "    </tr>\n",
              "  </tbody>\n",
              "</table>\n",
              "</div>"
            ],
            "text/plain": [
              "                          model      loss  accuracy  val_loss  val_accuracy  \\\n",
              "9  DNN (2 layers) w Drop and L1  1.019556  0.877685  1.067072      0.860568   \n",
              "\n",
              "   test_accuracy  test_loss  training time (sec)  testing time (sec)  \n",
              "9       0.854212   1.084547            21.216728            0.246425  "
            ]
          },
          "metadata": {
            "tags": []
          },
          "execution_count": 90
        }
      ]
    },
    {
      "cell_type": "markdown",
      "metadata": {
        "id": "HZSIVGe9ELS3",
        "colab_type": "text"
      },
      "source": [
        "## 1.5 Baseline Model w/embedding layer"
      ]
    },
    {
      "cell_type": "code",
      "metadata": {
        "id": "jZASyjhiELS3",
        "colab_type": "code",
        "colab": {},
        "outputId": "9ba204e1-45a8-4b0b-e372-ffd02bac9ce4"
      },
      "source": [
        "train_data_smv.shape"
      ],
      "execution_count": null,
      "outputs": [
        {
          "output_type": "execute_result",
          "data": {
            "text/plain": [
              "(7503, 10000)"
            ]
          },
          "metadata": {
            "tags": []
          },
          "execution_count": 91
        }
      ]
    },
    {
      "cell_type": "code",
      "metadata": {
        "id": "GDyOj9uMELS7",
        "colab_type": "code",
        "colab": {},
        "outputId": "58c30b55-3e10-4c9b-93b8-61c9e9ad76ed"
      },
      "source": [
        "train_data_sm_len =[len(w) for w in train_data_sm]\n",
        "maxlen = int(np.percentile(train_data_sm_len, 80))\n",
        "f\"80th percentile of train_data_sm : {maxlen}\""
      ],
      "execution_count": null,
      "outputs": [
        {
          "output_type": "execute_result",
          "data": {
            "text/plain": [
              "'80th percentile of train_data_sm : 193'"
            ]
          },
          "metadata": {
            "tags": []
          },
          "execution_count": 92
        }
      ]
    },
    {
      "cell_type": "code",
      "metadata": {
        "id": "vhTBBK2fELS9",
        "colab_type": "code",
        "colab": {}
      },
      "source": [
        "# https://github.com/fchollet/deep-learning-with-python-notebooks/blob/master/6.1-using-word-embeddings.ipynb\n",
        "train_data_smv = preprocessing.sequence.pad_sequences(train_data_sm, maxlen=maxlen)\n",
        "test_data_smv = preprocessing.sequence.pad_sequences(test_data_sm, maxlen=maxlen)"
      ],
      "execution_count": null,
      "outputs": []
    },
    {
      "cell_type": "code",
      "metadata": {
        "id": "Ucy42P0KELS-",
        "colab_type": "code",
        "colab": {},
        "outputId": "f3797047-c9f3-403d-a2fb-43e999497b83"
      },
      "source": [
        "# https://github.com/fchollet/deep-learning-with-python-notebooks/blob/master/6.1-using-word-embeddings.ipynb\n",
        "model_1emb = Sequential()\n",
        "\n",
        "# We specify the maximum input length to our Embedding layer so we can later flatten the embedded inputs\n",
        "model_1emb.add(Embedding(voc_size, 128, input_length = maxlen))  # vocabulary size = 10,000\n",
        "# After the Embedding layer, our activations have shape `(samples, maxlen, 30)`.\n",
        "\n",
        "# We flatten the 3D tensor of embeddings into a 2D tensor of shape `(samples, maxlen * 30)`\n",
        "model_1emb.add(Flatten())\n",
        "model_1emb.add(Dense(units = 64, activation='relu'))\n",
        "model_1emb.add(Dense(units = 32, activation='relu'))\n",
        "\n",
        "# We add the classifier on top\n",
        "model_1emb.add(Dense(units = 9, activation='softmax'))\n",
        "model_1emb.summary()"
      ],
      "execution_count": null,
      "outputs": [
        {
          "output_type": "stream",
          "text": [
            "Model: \"sequential_5\"\n",
            "_________________________________________________________________\n",
            "Layer (type)                 Output Shape              Param #   \n",
            "=================================================================\n",
            "embedding (Embedding)        (None, 193, 128)          1280000   \n",
            "_________________________________________________________________\n",
            "flatten (Flatten)            (None, 24704)             0         \n",
            "_________________________________________________________________\n",
            "dense_15 (Dense)             (None, 64)                1581120   \n",
            "_________________________________________________________________\n",
            "dense_16 (Dense)             (None, 32)                2080      \n",
            "_________________________________________________________________\n",
            "dense_17 (Dense)             (None, 9)                 297       \n",
            "=================================================================\n",
            "Total params: 2,863,497\n",
            "Trainable params: 2,863,497\n",
            "Non-trainable params: 0\n",
            "_________________________________________________________________\n"
          ],
          "name": "stdout"
        }
      ]
    },
    {
      "cell_type": "markdown",
      "metadata": {
        "id": "H6pWhxLa0vBJ",
        "colab_type": "text"
      },
      "source": [
        "### 1.5.a Model Training"
      ]
    },
    {
      "cell_type": "code",
      "metadata": {
        "id": "eb_5QKjJELTA",
        "colab_type": "code",
        "colab": {}
      },
      "source": [
        "model_1emb.compile(optimizer='adam', \n",
        "                   loss='categorical_crossentropy', \n",
        "                   metrics=['accuracy'])"
      ],
      "execution_count": null,
      "outputs": []
    },
    {
      "cell_type": "code",
      "metadata": {
        "id": "a2MG3LsfELTC",
        "colab_type": "code",
        "colab": {},
        "outputId": "83fa6ab6-b6d1-420c-c7f7-5d8c1e696ed5"
      },
      "source": [
        "train_rt = TrainRuntimeCallback()\n",
        "history = model_1emb.fit(train_data_smv,             \n",
        "                    one_hot_train_labels_sm,  \n",
        "                    callbacks = [train_rt],\n",
        "                    epochs=10,\n",
        "                    batch_size=100,\n",
        "                    validation_split = 0.15)\n",
        "\n",
        "# Saving models locally after fitting\n",
        "save_dir = \"results/\"\n",
        "model_name = 'Reuters_1emb.h5'\n",
        "model_path = os.path.join(save_dir, model_name)\n",
        "model_1emb.save(model_path)\n",
        "print('Saved trained model at %s ' % model_path)\n",
        "print('--------------------------')"
      ],
      "execution_count": null,
      "outputs": [
        {
          "output_type": "stream",
          "text": [
            "Train on 6377 samples, validate on 1126 samples\n",
            "Epoch 1/10\n",
            "6377/6377 [==============================] - 6s 984us/sample - loss: 1.3187 - accuracy: 0.5600 - val_loss: 0.9685 - val_accuracy: 0.6794\n",
            "Epoch 2/10\n",
            "6377/6377 [==============================] - 6s 901us/sample - loss: 0.6680 - accuracy: 0.8037 - val_loss: 0.7398 - val_accuracy: 0.7798\n",
            "Epoch 3/10\n",
            "6377/6377 [==============================] - 5s 859us/sample - loss: 0.2760 - accuracy: 0.9387 - val_loss: 0.7736 - val_accuracy: 0.7957\n",
            "Epoch 4/10\n",
            "6377/6377 [==============================] - 6s 866us/sample - loss: 0.1519 - accuracy: 0.9653 - val_loss: 0.7083 - val_accuracy: 0.8162\n",
            "Epoch 5/10\n",
            "6377/6377 [==============================] - 5s 831us/sample - loss: 0.1124 - accuracy: 0.9679 - val_loss: 0.7649 - val_accuracy: 0.8135\n",
            "Epoch 6/10\n",
            "6377/6377 [==============================] - 5s 850us/sample - loss: 0.0961 - accuracy: 0.9655 - val_loss: 0.7529 - val_accuracy: 0.8144\n",
            "Epoch 7/10\n",
            "6377/6377 [==============================] - 6s 880us/sample - loss: 0.0849 - accuracy: 0.9675 - val_loss: 0.8047 - val_accuracy: 0.8064\n",
            "Epoch 8/10\n",
            "6377/6377 [==============================] - 6s 877us/sample - loss: 0.0786 - accuracy: 0.9668 - val_loss: 0.8331 - val_accuracy: 0.7993\n",
            "Epoch 9/10\n",
            "6377/6377 [==============================] - 6s 910us/sample - loss: 0.0730 - accuracy: 0.9691 - val_loss: 0.8114 - val_accuracy: 0.8135\n",
            "Epoch 10/10\n",
            "6377/6377 [==============================] - 5s 844us/sample - loss: 0.0717 - accuracy: 0.9669 - val_loss: 0.8341 - val_accuracy: 0.8055\n",
            "Saved trained model at results/Reuters_1emb.h5 \n",
            "--------------------------\n"
          ],
          "name": "stdout"
        }
      ]
    },
    {
      "cell_type": "code",
      "metadata": {
        "id": "0QghIE7CELTE",
        "colab_type": "code",
        "colab": {},
        "outputId": "1b236354-ed86-49c6-ccec-3734e93ae685"
      },
      "source": [
        "# Get the training time\n",
        "train_time = train_rt.process_time\n",
        "train_time # in seconds"
      ],
      "execution_count": null,
      "outputs": [
        {
          "output_type": "execute_result",
          "data": {
            "text/plain": [
              "56.138766"
            ]
          },
          "metadata": {
            "tags": []
          },
          "execution_count": 97
        }
      ]
    },
    {
      "cell_type": "markdown",
      "metadata": {
        "id": "DYRBQssz02W7",
        "colab_type": "text"
      },
      "source": [
        "### 1.5.b Model Testing"
      ]
    },
    {
      "cell_type": "code",
      "metadata": {
        "id": "q3V1YVT8ELTF",
        "colab_type": "code",
        "colab": {},
        "outputId": "908ff0b7-36fe-4f8b-c4b0-4d64e65faf96"
      },
      "source": [
        "test_rt = TestRuntimeCallback()\n",
        "test_loss, test_accuracy = model_1emb.evaluate(test_data_smv, one_hot_test_labels_sm, callbacks=[test_rt], verbose=0)\n",
        "print(f\"test_accuracy={test_accuracy}, test_loss={test_loss}\")"
      ],
      "execution_count": null,
      "outputs": [
        {
          "output_type": "stream",
          "text": [
            "test_accuracy=0.8115550875663757, test_loss=0.8254771371639573\n"
          ],
          "name": "stdout"
        }
      ]
    },
    {
      "cell_type": "code",
      "metadata": {
        "id": "dLp1mKvaELTH",
        "colab_type": "code",
        "colab": {},
        "outputId": "5b07c32f-cb14-4358-d0e4-e7e6e3286491"
      },
      "source": [
        "# Get the test time\n",
        "test_time = test_rt.process_time\n",
        "test_time # in seconds"
      ],
      "execution_count": null,
      "outputs": [
        {
          "output_type": "execute_result",
          "data": {
            "text/plain": [
              "0.217395"
            ]
          },
          "metadata": {
            "tags": []
          },
          "execution_count": 99
        }
      ]
    },
    {
      "cell_type": "markdown",
      "metadata": {
        "id": "PYn4X1XnELTK",
        "colab_type": "text"
      },
      "source": [
        "### 1.5.c Model Performance"
      ]
    },
    {
      "cell_type": "code",
      "metadata": {
        "id": "3DrQYuwQELTK",
        "colab_type": "code",
        "colab": {},
        "outputId": "c4aa4267-3945-4a83-cc72-c0a9a2c7cd4b"
      },
      "source": [
        "# Plot learning curves for model\n",
        "pd.DataFrame(history.history).plot(figsize=(8, 5))\n",
        "plt.grid(True)\n",
        "plt.gca().set_ylim(0, 1) # set the vertical range to [0-1]\n",
        "plt.savefig(\"figures/learning_curves_model_1b\", tight_layout=False)\n",
        "plt.show()"
      ],
      "execution_count": null,
      "outputs": [
        {
          "output_type": "display_data",
          "data": {
            "image/png": "[encoded data removed]",
            "text/plain": [
              "<Figure size 576x360 with 1 Axes>"
            ]
          },
          "metadata": {
            "tags": [],
            "needs_background": "light"
          }
        }
      ]
    },
    {
      "cell_type": "code",
      "metadata": {
        "id": "r10N9vX5ELTP",
        "colab_type": "code",
        "colab": {}
      },
      "source": [
        "history_dict = history.history.copy()\n",
        "# history_dict['train_accuracy'] = history_dict.pop('accuracy') # rename the the key to 'test_accuracy'\n",
        "history_df=pd.DataFrame(history_dict)"
      ],
      "execution_count": null,
      "outputs": []
    },
    {
      "cell_type": "code",
      "metadata": {
        "id": "lRBTBv20ELTR",
        "colab_type": "code",
        "colab": {},
        "outputId": "b19991a0-e9b6-4859-d6a1-bac72791b8e2"
      },
      "source": [
        "results_dfemb = history_df.iloc[-1:].copy()\n",
        "results_dfemb.insert(0,'model','DNN (2 layers) w Embed') # want the model name to appear first\n",
        "results_dfemb['test_accuracy'] = test_accuracy\n",
        "results_dfemb['test_loss'] = test_loss\n",
        "results_dfemb['training time (sec)'] = train_time\n",
        "results_dfemb['testing time (sec)'] = test_time     \n",
        "results_dfemb\n"
      ],
      "execution_count": null,
      "outputs": [
        {
          "output_type": "execute_result",
          "data": {
            "text/html": [
              "<div>\n",
              "<style scoped>\n",
              "    .dataframe tbody tr th:only-of-type {\n",
              "        vertical-align: middle;\n",
              "    }\n",
              "\n",
              "    .dataframe tbody tr th {\n",
              "        vertical-align: top;\n",
              "    }\n",
              "\n",
              "    .dataframe thead th {\n",
              "        text-align: right;\n",
              "    }\n",
              "</style>\n",
              "<table border=\"1\" class=\"dataframe\">\n",
              "  <thead>\n",
              "    <tr style=\"text-align: right;\">\n",
              "      <th></th>\n",
              "      <th>model</th>\n",
              "      <th>loss</th>\n",
              "      <th>accuracy</th>\n",
              "      <th>val_loss</th>\n",
              "      <th>val_accuracy</th>\n",
              "      <th>test_accuracy</th>\n",
              "      <th>test_loss</th>\n",
              "      <th>training time (sec)</th>\n",
              "      <th>testing time (sec)</th>\n",
              "    </tr>\n",
              "  </thead>\n",
              "  <tbody>\n",
              "    <tr>\n",
              "      <th>9</th>\n",
              "      <td>DNN (2 layers) w Embed</td>\n",
              "      <td>0.07171</td>\n",
              "      <td>0.966912</td>\n",
              "      <td>0.834077</td>\n",
              "      <td>0.805506</td>\n",
              "      <td>0.811555</td>\n",
              "      <td>0.825477</td>\n",
              "      <td>56.138766</td>\n",
              "      <td>0.217395</td>\n",
              "    </tr>\n",
              "  </tbody>\n",
              "</table>\n",
              "</div>"
            ],
            "text/plain": [
              "                    model     loss  accuracy  val_loss  val_accuracy  \\\n",
              "9  DNN (2 layers) w Embed  0.07171  0.966912  0.834077      0.805506   \n",
              "\n",
              "   test_accuracy  test_loss  training time (sec)  testing time (sec)  \n",
              "9       0.811555   0.825477            56.138766            0.217395  "
            ]
          },
          "metadata": {
            "tags": []
          },
          "execution_count": 102
        }
      ]
    },
    {
      "cell_type": "markdown",
      "metadata": {
        "id": "KAmhbG3qELTS",
        "colab_type": "text"
      },
      "source": [
        "### 1.6: Baseline Model w/embedding and 10% dropout"
      ]
    },
    {
      "cell_type": "code",
      "metadata": {
        "id": "zr7QSu5uELTV",
        "colab_type": "code",
        "colab": {},
        "outputId": "ee6590dc-354f-4e32-9532-93b81dd58235"
      },
      "source": [
        "# https://github.com/fchollet/deep-learning-with-python-notebooks/blob/master/6.1-using-word-embeddings.ipynb\n",
        "# from tensorflow.keras.layers import Flatten, Embedding\n",
        "\n",
        "model_1embdo = Sequential()\n",
        "model_1embdo.add(Embedding(voc_size, 128, input_length = maxlen))  # vocabulary size = 10,000\n",
        "model_1embdo.add(Flatten())\n",
        "\n",
        "model_1embdo.add(Dense(units=64, activation='relu'))\n",
        "model_1embdo.add(layers.Dropout(0.1))\n",
        "model_1embdo.add(Dense(units=32, activation='relu'))\n",
        "model_1embdo.add(layers.Dropout(0.1))\n",
        "model_1embdo.add(Dense(units=9, activation='softmax'))\n",
        "model_1embdo.summary()"
      ],
      "execution_count": null,
      "outputs": [
        {
          "output_type": "stream",
          "text": [
            "Model: \"sequential_6\"\n",
            "_________________________________________________________________\n",
            "Layer (type)                 Output Shape              Param #   \n",
            "=================================================================\n",
            "embedding_1 (Embedding)      (None, 193, 128)          1280000   \n",
            "_________________________________________________________________\n",
            "flatten_1 (Flatten)          (None, 24704)             0         \n",
            "_________________________________________________________________\n",
            "dense_18 (Dense)             (None, 64)                1581120   \n",
            "_________________________________________________________________\n",
            "dropout_4 (Dropout)          (None, 64)                0         \n",
            "_________________________________________________________________\n",
            "dense_19 (Dense)             (None, 32)                2080      \n",
            "_________________________________________________________________\n",
            "dropout_5 (Dropout)          (None, 32)                0         \n",
            "_________________________________________________________________\n",
            "dense_20 (Dense)             (None, 9)                 297       \n",
            "=================================================================\n",
            "Total params: 2,863,497\n",
            "Trainable params: 2,863,497\n",
            "Non-trainable params: 0\n",
            "_________________________________________________________________\n"
          ],
          "name": "stdout"
        }
      ]
    },
    {
      "cell_type": "markdown",
      "metadata": {
        "id": "iP6fvEHT0_7S",
        "colab_type": "text"
      },
      "source": [
        "### 1.7.a Model Training"
      ]
    },
    {
      "cell_type": "code",
      "metadata": {
        "id": "6XIaXPY6ELTX",
        "colab_type": "code",
        "colab": {}
      },
      "source": [
        "model_1embdo.compile(optimizer='adam', \n",
        "                     loss='categorical_crossentropy', \n",
        "                     metrics=['accuracy'])"
      ],
      "execution_count": null,
      "outputs": []
    },
    {
      "cell_type": "code",
      "metadata": {
        "id": "7jzZITXXELTY",
        "colab_type": "code",
        "colab": {},
        "outputId": "e86c1bc8-0840-4a94-ec94-a25d6e2ace94"
      },
      "source": [
        "train_rt = TrainRuntimeCallback()\n",
        "history = model_1embdo.fit(train_data_smv,             \n",
        "                    one_hot_train_labels_sm,  \n",
        "                    callbacks = [train_rt],\n",
        "                    epochs=10,\n",
        "                    batch_size=100,\n",
        "                    validation_split = 0.15)\n",
        "\n",
        "# Saving models locally after fitting\n",
        "save_dir = \"results/\"\n",
        "model_name = 'Reuters_1embdo.h5'\n",
        "model_path = os.path.join(save_dir, model_name)\n",
        "model_1embdo.save(model_path)\n",
        "print('Saved trained model at %s ' % model_path)\n",
        "print('--------------------------')"
      ],
      "execution_count": null,
      "outputs": [
        {
          "output_type": "stream",
          "text": [
            "Train on 6377 samples, validate on 1126 samples\n",
            "Epoch 1/10\n",
            "6377/6377 [==============================] - 6s 1ms/sample - loss: 1.3447 - accuracy: 0.5600 - val_loss: 0.9665 - val_accuracy: 0.6705\n",
            "Epoch 2/10\n",
            "6377/6377 [==============================] - 5s 815us/sample - loss: 0.7424 - accuracy: 0.7743 - val_loss: 0.7346 - val_accuracy: 0.7895\n",
            "Epoch 3/10\n",
            "6377/6377 [==============================] - 6s 883us/sample - loss: 0.3592 - accuracy: 0.9084 - val_loss: 0.6678 - val_accuracy: 0.8188\n",
            "Epoch 4/10\n",
            "6377/6377 [==============================] - 5s 823us/sample - loss: 0.1960 - accuracy: 0.9564 - val_loss: 0.6865 - val_accuracy: 0.8242\n",
            "Epoch 5/10\n",
            "6377/6377 [==============================] - 6s 913us/sample - loss: 0.1404 - accuracy: 0.9652 - val_loss: 0.7498 - val_accuracy: 0.8259\n",
            "Epoch 6/10\n",
            "6377/6377 [==============================] - 6s 920us/sample - loss: 0.1196 - accuracy: 0.9657 - val_loss: 0.7741 - val_accuracy: 0.8206\n",
            "Epoch 7/10\n",
            "6377/6377 [==============================] - 6s 881us/sample - loss: 0.1005 - accuracy: 0.9669 - val_loss: 0.7830 - val_accuracy: 0.8242\n",
            "Epoch 8/10\n",
            "6377/6377 [==============================] - 5s 833us/sample - loss: 0.0936 - accuracy: 0.9664 - val_loss: 0.8745 - val_accuracy: 0.8064\n",
            "Epoch 9/10\n",
            "6377/6377 [==============================] - 5s 850us/sample - loss: 0.0835 - accuracy: 0.9699 - val_loss: 0.8580 - val_accuracy: 0.8171\n",
            "Epoch 10/10\n",
            "6377/6377 [==============================] - 5s 844us/sample - loss: 0.0798 - accuracy: 0.9686 - val_loss: 0.8414 - val_accuracy: 0.8162\n",
            "Saved trained model at results/Reuters_1embdo.h5 \n",
            "--------------------------\n"
          ],
          "name": "stdout"
        }
      ]
    },
    {
      "cell_type": "code",
      "metadata": {
        "id": "v3QQWfmBELTa",
        "colab_type": "code",
        "colab": {},
        "outputId": "0396748b-b7ab-47a2-b60e-b2b1b355e33a"
      },
      "source": [
        "# Get the training time\n",
        "train_time = train_rt.process_time\n",
        "train_time # in seconds"
      ],
      "execution_count": null,
      "outputs": [
        {
          "output_type": "execute_result",
          "data": {
            "text/plain": [
              "55.968919"
            ]
          },
          "metadata": {
            "tags": []
          },
          "execution_count": 106
        }
      ]
    },
    {
      "cell_type": "markdown",
      "metadata": {
        "id": "IAVWjFkk1Cp2",
        "colab_type": "text"
      },
      "source": [
        "### 1.7.b Model Testing"
      ]
    },
    {
      "cell_type": "code",
      "metadata": {
        "id": "ZdndHIv9ELTb",
        "colab_type": "code",
        "colab": {},
        "outputId": "19ceab29-6ed3-4fa2-8c74-115972baff7a"
      },
      "source": [
        "test_rt = TestRuntimeCallback()\n",
        "test_loss, test_accuracy = model_1embdo.evaluate(test_data_smv, one_hot_test_labels_sm, callbacks=[test_rt], verbose=0)\n",
        "print(f\"test_accuracy={test_accuracy}, test_loss={test_loss}\")"
      ],
      "execution_count": null,
      "outputs": [
        {
          "output_type": "stream",
          "text": [
            "test_accuracy=0.8191144466400146, test_loss=0.8549322461463977\n"
          ],
          "name": "stdout"
        }
      ]
    },
    {
      "cell_type": "code",
      "metadata": {
        "id": "7QF7RT34ELTd",
        "colab_type": "code",
        "colab": {},
        "outputId": "fce9fdbc-d73b-4eca-fce1-0225a2ffcd30"
      },
      "source": [
        "# Get the test time\n",
        "test_time = test_rt.process_time\n",
        "test_time # in seconds"
      ],
      "execution_count": null,
      "outputs": [
        {
          "output_type": "execute_result",
          "data": {
            "text/plain": [
              "0.217657"
            ]
          },
          "metadata": {
            "tags": []
          },
          "execution_count": 108
        }
      ]
    },
    {
      "cell_type": "markdown",
      "metadata": {
        "id": "oMlwm007ELTe",
        "colab_type": "text"
      },
      "source": [
        "### 1.7.c Model Performance"
      ]
    },
    {
      "cell_type": "code",
      "metadata": {
        "id": "jYD0WcVJELTe",
        "colab_type": "code",
        "colab": {},
        "outputId": "b9ac8c87-09ad-42f8-aaba-7c1eff5185b6"
      },
      "source": [
        "# Plot learning curves for model\n",
        "pd.DataFrame(history.history).plot(figsize=(8, 5))\n",
        "plt.grid(True)\n",
        "plt.gca().set_ylim(0, 1) # set the vertical range to [0-1]\n",
        "plt.savefig(\"figures/learning_curves_model_1_c\", tight_layout=False)\n",
        "plt.show()"
      ],
      "execution_count": null,
      "outputs": [
        {
          "output_type": "display_data",
          "data": {
            "image/png": "[encoded data removed]",
            "text/plain": [
              "<Figure size 576x360 with 1 Axes>"
            ]
          },
          "metadata": {
            "tags": [],
            "needs_background": "light"
          }
        }
      ]
    },
    {
      "cell_type": "code",
      "metadata": {
        "id": "DjYlPJXQELTg",
        "colab_type": "code",
        "colab": {}
      },
      "source": [
        "history_dict = history.history.copy()\n",
        "# history_dict['train_accuracy'] = history_dict.pop('accuracy') # rename the the key to 'test_accuracy'\n",
        "history_df=pd.DataFrame(history_dict)"
      ],
      "execution_count": null,
      "outputs": []
    },
    {
      "cell_type": "code",
      "metadata": {
        "id": "K0Rl7XtaELTj",
        "colab_type": "code",
        "colab": {},
        "outputId": "82d34842-89e4-43e8-b7b9-911769294f54"
      },
      "source": [
        "results_dfembdo = history_df.iloc[-1:].copy()\n",
        "results_dfembdo.insert(0,'model','DNN (2 layers) w Embed + Dropout') # want the model name to appear first\n",
        "results_dfembdo['test_accuracy'] = test_accuracy\n",
        "results_dfembdo['test_loss'] = test_loss\n",
        "results_dfembdo['training time (sec)'] = train_time      \n",
        "results_dfembdo['testing time (sec)'] = test_time     \n",
        "results_dfembdo"
      ],
      "execution_count": null,
      "outputs": [
        {
          "output_type": "execute_result",
          "data": {
            "text/html": [
              "<div>\n",
              "<style scoped>\n",
              "    .dataframe tbody tr th:only-of-type {\n",
              "        vertical-align: middle;\n",
              "    }\n",
              "\n",
              "    .dataframe tbody tr th {\n",
              "        vertical-align: top;\n",
              "    }\n",
              "\n",
              "    .dataframe thead th {\n",
              "        text-align: right;\n",
              "    }\n",
              "</style>\n",
              "<table border=\"1\" class=\"dataframe\">\n",
              "  <thead>\n",
              "    <tr style=\"text-align: right;\">\n",
              "      <th></th>\n",
              "      <th>model</th>\n",
              "      <th>loss</th>\n",
              "      <th>accuracy</th>\n",
              "      <th>val_loss</th>\n",
              "      <th>val_accuracy</th>\n",
              "      <th>test_accuracy</th>\n",
              "      <th>test_loss</th>\n",
              "      <th>training time (sec)</th>\n",
              "      <th>testing time (sec)</th>\n",
              "    </tr>\n",
              "  </thead>\n",
              "  <tbody>\n",
              "    <tr>\n",
              "      <th>9</th>\n",
              "      <td>DNN (2 layers) w Embed + Dropout</td>\n",
              "      <td>0.079839</td>\n",
              "      <td>0.968637</td>\n",
              "      <td>0.841354</td>\n",
              "      <td>0.816163</td>\n",
              "      <td>0.819114</td>\n",
              "      <td>0.854932</td>\n",
              "      <td>55.968919</td>\n",
              "      <td>0.217657</td>\n",
              "    </tr>\n",
              "  </tbody>\n",
              "</table>\n",
              "</div>"
            ],
            "text/plain": [
              "                              model      loss  accuracy  val_loss  \\\n",
              "9  DNN (2 layers) w Embed + Dropout  0.079839  0.968637  0.841354   \n",
              "\n",
              "   val_accuracy  test_accuracy  test_loss  training time (sec)  \\\n",
              "9      0.816163       0.819114   0.854932            55.968919   \n",
              "\n",
              "   testing time (sec)  \n",
              "9            0.217657  "
            ]
          },
          "metadata": {
            "tags": []
          },
          "execution_count": 111
        }
      ]
    },
    {
      "cell_type": "code",
      "metadata": {
        "id": "cjZWAptTELTl",
        "colab_type": "code",
        "colab": {},
        "outputId": "5880448f-091b-434e-947f-dc53ef521771"
      },
      "source": [
        "results_df=results_df.append(results_df1a,ignore_index=True)\n",
        "results_df=results_df.append(results_df1do,ignore_index=True)\n",
        "results_df=results_df.append(results_df1reg,ignore_index=True)\n",
        "results_df=results_df.append(results_dfemb,ignore_index=True)\n",
        "results_df=results_df.append(results_dfembdo,ignore_index=True)\n",
        "results_df"
      ],
      "execution_count": null,
      "outputs": [
        {
          "output_type": "execute_result",
          "data": {
            "text/html": [
              "<div>\n",
              "<style scoped>\n",
              "    .dataframe tbody tr th:only-of-type {\n",
              "        vertical-align: middle;\n",
              "    }\n",
              "\n",
              "    .dataframe tbody tr th {\n",
              "        vertical-align: top;\n",
              "    }\n",
              "\n",
              "    .dataframe thead th {\n",
              "        text-align: right;\n",
              "    }\n",
              "</style>\n",
              "<table border=\"1\" class=\"dataframe\">\n",
              "  <thead>\n",
              "    <tr style=\"text-align: right;\">\n",
              "      <th></th>\n",
              "      <th>model</th>\n",
              "      <th>loss</th>\n",
              "      <th>accuracy</th>\n",
              "      <th>val_loss</th>\n",
              "      <th>val_accuracy</th>\n",
              "      <th>test_accuracy</th>\n",
              "      <th>test_loss</th>\n",
              "      <th>training time (sec)</th>\n",
              "      <th>testing time (sec)</th>\n",
              "    </tr>\n",
              "  </thead>\n",
              "  <tbody>\n",
              "    <tr>\n",
              "      <th>0</th>\n",
              "      <td>DNN (2 layers) 9 topics</td>\n",
              "      <td>0.094744</td>\n",
              "      <td>0.965501</td>\n",
              "      <td>0.683556</td>\n",
              "      <td>0.863233</td>\n",
              "      <td>0.860151</td>\n",
              "      <td>0.678582</td>\n",
              "      <td>14.734655</td>\n",
              "      <td>0.241027</td>\n",
              "    </tr>\n",
              "    <tr>\n",
              "      <th>1</th>\n",
              "      <td>DNN (2 layers 256/256)</td>\n",
              "      <td>0.066245</td>\n",
              "      <td>0.967853</td>\n",
              "      <td>0.732996</td>\n",
              "      <td>0.865897</td>\n",
              "      <td>0.859071</td>\n",
              "      <td>0.755467</td>\n",
              "      <td>39.019436</td>\n",
              "      <td>0.288834</td>\n",
              "    </tr>\n",
              "    <tr>\n",
              "      <th>2</th>\n",
              "      <td>DNN (2 layers) w Drop</td>\n",
              "      <td>0.095098</td>\n",
              "      <td>0.966756</td>\n",
              "      <td>0.691740</td>\n",
              "      <td>0.863233</td>\n",
              "      <td>0.857451</td>\n",
              "      <td>0.703502</td>\n",
              "      <td>15.595836</td>\n",
              "      <td>0.186922</td>\n",
              "    </tr>\n",
              "    <tr>\n",
              "      <th>3</th>\n",
              "      <td>DNN (2 layers) w Drop and L1</td>\n",
              "      <td>1.019556</td>\n",
              "      <td>0.877685</td>\n",
              "      <td>1.067072</td>\n",
              "      <td>0.860568</td>\n",
              "      <td>0.854212</td>\n",
              "      <td>1.084547</td>\n",
              "      <td>21.216728</td>\n",
              "      <td>0.246425</td>\n",
              "    </tr>\n",
              "    <tr>\n",
              "      <th>4</th>\n",
              "      <td>DNN (2 layers) w Embed</td>\n",
              "      <td>0.071710</td>\n",
              "      <td>0.966912</td>\n",
              "      <td>0.834077</td>\n",
              "      <td>0.805506</td>\n",
              "      <td>0.811555</td>\n",
              "      <td>0.825477</td>\n",
              "      <td>56.138766</td>\n",
              "      <td>0.217395</td>\n",
              "    </tr>\n",
              "    <tr>\n",
              "      <th>5</th>\n",
              "      <td>DNN (2 layers) w Embed + Dropout</td>\n",
              "      <td>0.079839</td>\n",
              "      <td>0.968637</td>\n",
              "      <td>0.841354</td>\n",
              "      <td>0.816163</td>\n",
              "      <td>0.819114</td>\n",
              "      <td>0.854932</td>\n",
              "      <td>55.968919</td>\n",
              "      <td>0.217657</td>\n",
              "    </tr>\n",
              "  </tbody>\n",
              "</table>\n",
              "</div>"
            ],
            "text/plain": [
              "                              model      loss  accuracy  val_loss  \\\n",
              "0           DNN (2 layers) 9 topics  0.094744  0.965501  0.683556   \n",
              "1            DNN (2 layers 256/256)  0.066245  0.967853  0.732996   \n",
              "2             DNN (2 layers) w Drop  0.095098  0.966756  0.691740   \n",
              "3      DNN (2 layers) w Drop and L1  1.019556  0.877685  1.067072   \n",
              "4            DNN (2 layers) w Embed  0.071710  0.966912  0.834077   \n",
              "5  DNN (2 layers) w Embed + Dropout  0.079839  0.968637  0.841354   \n",
              "\n",
              "   val_accuracy  test_accuracy  test_loss  training time (sec)  \\\n",
              "0      0.863233       0.860151   0.678582            14.734655   \n",
              "1      0.865897       0.859071   0.755467            39.019436   \n",
              "2      0.863233       0.857451   0.703502            15.595836   \n",
              "3      0.860568       0.854212   1.084547            21.216728   \n",
              "4      0.805506       0.811555   0.825477            56.138766   \n",
              "5      0.816163       0.819114   0.854932            55.968919   \n",
              "\n",
              "   testing time (sec)  \n",
              "0            0.241027  \n",
              "1            0.288834  \n",
              "2            0.186922  \n",
              "3            0.246425  \n",
              "4            0.217395  \n",
              "5            0.217657  "
            ]
          },
          "metadata": {
            "tags": []
          },
          "execution_count": 112
        }
      ]
    },
    {
      "cell_type": "code",
      "metadata": {
        "id": "O5-DXxfeELTr",
        "colab_type": "code",
        "colab": {}
      },
      "source": [
        "results_df.to_pickle(\"results1.pkl\") "
      ],
      "execution_count": null,
      "outputs": []
    },
    {
      "cell_type": "markdown",
      "metadata": {
        "id": "kfN_EGNkELTs",
        "colab_type": "text"
      },
      "source": [
        "## 2. Experiment 2: RNN"
      ]
    },
    {
      "cell_type": "code",
      "metadata": {
        "id": "8DLHjT1eELTs",
        "colab_type": "code",
        "colab": {}
      },
      "source": [
        "keras.backend.clear_session()\n",
        "np.random.seed(42)\n",
        "tf.random.set_seed(42)"
      ],
      "execution_count": null,
      "outputs": []
    },
    {
      "cell_type": "code",
      "metadata": {
        "id": "ZOwrvggcELTu",
        "colab_type": "code",
        "colab": {},
        "outputId": "f33b0eb9-7fd2-447b-937b-19fc7bc47129"
      },
      "source": [
        "train_data_sm.shape, test_data_sm.shape"
      ],
      "execution_count": null,
      "outputs": [
        {
          "output_type": "execute_result",
          "data": {
            "text/plain": [
              "((7503,), (1852,))"
            ]
          },
          "metadata": {
            "tags": []
          },
          "execution_count": 115
        }
      ]
    },
    {
      "cell_type": "code",
      "metadata": {
        "id": "O0Cg36yeELTv",
        "colab_type": "code",
        "colab": {}
      },
      "source": [
        "train_data_sm_rnn = preprocessing.sequence.pad_sequences(train_data_sm, maxlen=193)\n",
        "test_data_sm_rnn = preprocessing.sequence.pad_sequences(test_data_sm, maxlen=193)"
      ],
      "execution_count": null,
      "outputs": []
    },
    {
      "cell_type": "code",
      "metadata": {
        "id": "ALdHn4pRELTw",
        "colab_type": "code",
        "colab": {}
      },
      "source": [
        "one_hot_train_labels_sm = to_categorical(train_labels_sm)\n",
        "one_hot_test_labels_sm = to_categorical(test_labels_sm)"
      ],
      "execution_count": null,
      "outputs": []
    },
    {
      "cell_type": "code",
      "metadata": {
        "id": "nK9STTUgELTx",
        "colab_type": "code",
        "colab": {},
        "outputId": "122d1a15-9b96-4e45-cd83-a160a4149b32"
      },
      "source": [
        "train_labels_sm.shape, one_hot_train_labels_sm.shape"
      ],
      "execution_count": null,
      "outputs": [
        {
          "output_type": "execute_result",
          "data": {
            "text/plain": [
              "((7503,), (7503, 21))"
            ]
          },
          "metadata": {
            "tags": []
          },
          "execution_count": 118
        }
      ]
    },
    {
      "cell_type": "code",
      "metadata": {
        "id": "F94XwiKBELTz",
        "colab_type": "code",
        "colab": {},
        "outputId": "3537ee4b-3919-440d-f4f5-beb2d23c5d63"
      },
      "source": [
        "test_data_sm_rnn.shape, train_data_sm_rnn.shape, one_hot_train_labels_sm.shape, one_hot_test_labels_sm.shape"
      ],
      "execution_count": null,
      "outputs": [
        {
          "output_type": "execute_result",
          "data": {
            "text/plain": [
              "((1852, 193), (7503, 193), (7503, 21), (1852, 21))"
            ]
          },
          "metadata": {
            "tags": []
          },
          "execution_count": 119
        }
      ]
    },
    {
      "cell_type": "markdown",
      "metadata": {
        "id": "gQNjOwEAELT0",
        "colab_type": "text"
      },
      "source": [
        "## 2.1 RNN w/64 cells"
      ]
    },
    {
      "cell_type": "code",
      "metadata": {
        "id": "u7-d27W0ELT0",
        "colab_type": "code",
        "colab": {},
        "outputId": "721f5374-77bb-41dd-dffc-e73605c3e708"
      },
      "source": [
        "model_2 = Sequential()\n",
        "model_2.add(Embedding(input_dim = voc_size, output_dim = 128, input_length = 193))\n",
        "model_2.add(SimpleRNN(units = 64))\n",
        "model_2.add(Dense(units = 21, activation='softmax'))\n",
        "\n",
        "model_2.summary()"
      ],
      "execution_count": null,
      "outputs": [
        {
          "output_type": "stream",
          "text": [
            "Model: \"sequential\"\n",
            "_________________________________________________________________\n",
            "Layer (type)                 Output Shape              Param #   \n",
            "=================================================================\n",
            "embedding (Embedding)        (None, 193, 128)          1280000   \n",
            "_________________________________________________________________\n",
            "simple_rnn (SimpleRNN)       (None, 64)                12352     \n",
            "_________________________________________________________________\n",
            "dense (Dense)                (None, 21)                1365      \n",
            "=================================================================\n",
            "Total params: 1,293,717\n",
            "Trainable params: 1,293,717\n",
            "Non-trainable params: 0\n",
            "_________________________________________________________________\n"
          ],
          "name": "stdout"
        }
      ]
    },
    {
      "cell_type": "code",
      "metadata": {
        "id": "llenM7u3ELT2",
        "colab_type": "code",
        "colab": {}
      },
      "source": [
        "model_2.compile(optimizer='adam',\n",
        "              loss='categorical_crossentropy',\n",
        "              metrics=['accuracy'])"
      ],
      "execution_count": null,
      "outputs": []
    },
    {
      "cell_type": "markdown",
      "metadata": {
        "id": "0_wUKS_RELT6",
        "colab_type": "text"
      },
      "source": [
        "### 2.1.a Model Training"
      ]
    },
    {
      "cell_type": "code",
      "metadata": {
        "id": "e0I46MwbELT7",
        "colab_type": "code",
        "colab": {},
        "outputId": "25f94015-6bb5-40ed-d22e-c4cc1a36750a"
      },
      "source": [
        "train_rt = TrainRuntimeCallback()\n",
        "history = model_2.fit(train_data_sm_rnn,\n",
        "                    one_hot_train_labels_sm,\n",
        "                    callbacks = [train_rt],\n",
        "                    epochs=10,\n",
        "                    batch_size=100,\n",
        "#                   validation_data=(val_data_sm_rnn, one_hot_val_labels_sm))\n",
        "                    validation_split = 0.15)   # comment out if setting validation_data value.\n",
        "\n",
        "# Saving models locally after fitting\n",
        "save_dir = \"results/\"\n",
        "model_name = 'Reuters_2.h5'\n",
        "model_path = os.path.join(save_dir, model_name)\n",
        "model_2.save(model_path)\n",
        "print('Saved trained model at %s ' % model_path)\n",
        "print('--------------------------')"
      ],
      "execution_count": null,
      "outputs": [
        {
          "output_type": "stream",
          "text": [
            "Train on 6377 samples, validate on 1126 samples\n",
            "Epoch 1/10\n",
            "6377/6377 [==============================] - 19s 3ms/sample - loss: 1.9029 - accuracy: 0.4480 - val_loss: 1.4318 - val_accuracy: 0.5684\n",
            "Epoch 2/10\n",
            "6377/6377 [==============================] - 16s 2ms/sample - loss: 1.2883 - accuracy: 0.5982 - val_loss: 1.3335 - val_accuracy: 0.5622\n",
            "Epoch 3/10\n",
            "6377/6377 [==============================] - 15s 2ms/sample - loss: 1.0346 - accuracy: 0.6544 - val_loss: 1.2297 - val_accuracy: 0.6155\n",
            "Epoch 4/10\n",
            "6377/6377 [==============================] - 15s 2ms/sample - loss: 0.6902 - accuracy: 0.8278 - val_loss: 1.2440 - val_accuracy: 0.6110\n",
            "Epoch 5/10\n",
            "6377/6377 [==============================] - 15s 2ms/sample - loss: 0.4089 - accuracy: 0.9252 - val_loss: 1.3446 - val_accuracy: 0.5897\n",
            "Epoch 6/10\n",
            "6377/6377 [==============================] - 15s 2ms/sample - loss: 0.2387 - accuracy: 0.9530 - val_loss: 1.4599 - val_accuracy: 0.5737\n",
            "Epoch 7/10\n",
            "6377/6377 [==============================] - 15s 2ms/sample - loss: 0.1570 - accuracy: 0.9652 - val_loss: 1.5502 - val_accuracy: 0.5639\n",
            "Epoch 8/10\n",
            "6377/6377 [==============================] - 15s 2ms/sample - loss: 0.1227 - accuracy: 0.9660 - val_loss: 1.5785 - val_accuracy: 0.5710\n",
            "Epoch 9/10\n",
            "6377/6377 [==============================] - 15s 2ms/sample - loss: 0.1003 - accuracy: 0.9693 - val_loss: 1.6468 - val_accuracy: 0.5480\n",
            "Epoch 10/10\n",
            "6377/6377 [==============================] - 15s 2ms/sample - loss: 0.0917 - accuracy: 0.9680 - val_loss: 1.7128 - val_accuracy: 0.5551\n",
            "Saved trained model at results/Reuters_2.h5 \n",
            "--------------------------\n"
          ],
          "name": "stdout"
        }
      ]
    },
    {
      "cell_type": "code",
      "metadata": {
        "id": "jA_PQBTtELT9",
        "colab_type": "code",
        "colab": {},
        "outputId": "6970e92a-6acd-4b4c-b9e9-4eb2a2eda05e"
      },
      "source": [
        "# Get the training time\n",
        "train_time = train_rt.process_time\n",
        "train_time # in seconds"
      ],
      "execution_count": null,
      "outputs": [
        {
          "output_type": "execute_result",
          "data": {
            "text/plain": [
              "157.793176"
            ]
          },
          "metadata": {
            "tags": []
          },
          "execution_count": 123
        }
      ]
    },
    {
      "cell_type": "code",
      "metadata": {
        "id": "Fr7cOMt9ELUA",
        "colab_type": "code",
        "colab": {},
        "outputId": "c46d3fbc-f1e5-4647-ed8c-419e09df14f3"
      },
      "source": [
        "print(f\"train_acc: {history.history['accuracy'][-1]}, val_acc: {history.history['val_accuracy'][-1]}\")"
      ],
      "execution_count": null,
      "outputs": [
        {
          "output_type": "stream",
          "text": [
            "train_acc: 0.9680100083351135, val_acc: 0.5550621747970581\n"
          ],
          "name": "stdout"
        }
      ]
    },
    {
      "cell_type": "markdown",
      "metadata": {
        "id": "kk5J_SR8ELUB",
        "colab_type": "text"
      },
      "source": [
        "### 2.1.b Model Testing"
      ]
    },
    {
      "cell_type": "code",
      "metadata": {
        "id": "UovxM1f2ELUC",
        "colab_type": "code",
        "colab": {},
        "outputId": "4f4c7faf-deff-46b0-aef4-d9ce6baf89b9"
      },
      "source": [
        "test_rt = TestRuntimeCallback()\n",
        "test_loss, test_accuracy = model_2.evaluate(test_data_sm_rnn, one_hot_test_labels_sm, callbacks=[test_rt], verbose=0)\n",
        "print(f\"test_accuracy={test_accuracy}, test_loss={test_loss}\")"
      ],
      "execution_count": null,
      "outputs": [
        {
          "output_type": "stream",
          "text": [
            "test_accuracy=0.5631749629974365, test_loss=1.6564135031360272\n"
          ],
          "name": "stdout"
        }
      ]
    },
    {
      "cell_type": "code",
      "metadata": {
        "id": "WH4M5Y70ELUD",
        "colab_type": "code",
        "colab": {},
        "outputId": "0ad19365-835a-4a0c-8a12-2ef83eb3b25a"
      },
      "source": [
        "# Get the test time\n",
        "test_time = test_rt.process_time\n",
        "test_time # in seconds"
      ],
      "execution_count": null,
      "outputs": [
        {
          "output_type": "execute_result",
          "data": {
            "text/plain": [
              "2.184164"
            ]
          },
          "metadata": {
            "tags": []
          },
          "execution_count": 126
        }
      ]
    },
    {
      "cell_type": "markdown",
      "metadata": {
        "id": "uWQdIAOEELUH",
        "colab_type": "text"
      },
      "source": [
        "### 2.1.c Model Performance"
      ]
    },
    {
      "cell_type": "code",
      "metadata": {
        "id": "0ZsVAZUPELUH",
        "colab_type": "code",
        "colab": {},
        "outputId": "0e3704ea-3ed8-4330-d7c4-2dfbd9a327aa"
      },
      "source": [
        "# Plot learning curves for model\n",
        "pd.DataFrame(history.history).plot(figsize=(8, 5))\n",
        "plt.grid(True)\n",
        "plt.gca().set_ylim(0, 2) # set the vertical range to [0-1.5]\n",
        "plt.savefig(\"figures/learning_curves_model_2\", tight_layout=False)\n",
        "plt.show()"
      ],
      "execution_count": null,
      "outputs": [
        {
          "output_type": "display_data",
          "data": {
            "image/png": "[encoded data removed]",
            "text/plain": [
              "<Figure size 576x360 with 1 Axes>"
            ]
          },
          "metadata": {
            "tags": [],
            "needs_background": "light"
          }
        }
      ]
    },
    {
      "cell_type": "code",
      "metadata": {
        "id": "KG57a9fFELUM",
        "colab_type": "code",
        "colab": {}
      },
      "source": [
        "history_dict = history.history.copy()\n",
        "# history_dict['train_accuracy'] = history_dict.pop('accuracy') # rename the the key to 'test_accuracy'\n",
        "history_df=pd.DataFrame(history_dict)"
      ],
      "execution_count": null,
      "outputs": []
    },
    {
      "cell_type": "code",
      "metadata": {
        "id": "Aklt808gELUP",
        "colab_type": "code",
        "colab": {},
        "outputId": "1e439f88-358f-474a-f6cb-0bc1530129a0"
      },
      "source": [
        "results_df2 = history_df.iloc[-1:].copy()\n",
        "results_df2.insert(0,'model','Simple RNN (64 units)') # want the model name to appear first\n",
        "results_df2['test_accuracy'] = test_accuracy\n",
        "results_df2['test_loss'] = test_loss\n",
        "results_df2['training time (sec)'] = train_time      \n",
        "results_df2['testing time (sec)'] = test_time      \n",
        "results_df2"
      ],
      "execution_count": null,
      "outputs": [
        {
          "output_type": "execute_result",
          "data": {
            "text/html": [
              "<div>\n",
              "<style scoped>\n",
              "    .dataframe tbody tr th:only-of-type {\n",
              "        vertical-align: middle;\n",
              "    }\n",
              "\n",
              "    .dataframe tbody tr th {\n",
              "        vertical-align: top;\n",
              "    }\n",
              "\n",
              "    .dataframe thead th {\n",
              "        text-align: right;\n",
              "    }\n",
              "</style>\n",
              "<table border=\"1\" class=\"dataframe\">\n",
              "  <thead>\n",
              "    <tr style=\"text-align: right;\">\n",
              "      <th></th>\n",
              "      <th>model</th>\n",
              "      <th>loss</th>\n",
              "      <th>accuracy</th>\n",
              "      <th>val_loss</th>\n",
              "      <th>val_accuracy</th>\n",
              "      <th>test_accuracy</th>\n",
              "      <th>test_loss</th>\n",
              "      <th>training time (sec)</th>\n",
              "      <th>testing time (sec)</th>\n",
              "    </tr>\n",
              "  </thead>\n",
              "  <tbody>\n",
              "    <tr>\n",
              "      <th>9</th>\n",
              "      <td>Simple RNN (64 units)</td>\n",
              "      <td>0.091719</td>\n",
              "      <td>0.96801</td>\n",
              "      <td>1.71276</td>\n",
              "      <td>0.555062</td>\n",
              "      <td>0.563175</td>\n",
              "      <td>1.656414</td>\n",
              "      <td>157.793176</td>\n",
              "      <td>2.184164</td>\n",
              "    </tr>\n",
              "  </tbody>\n",
              "</table>\n",
              "</div>"
            ],
            "text/plain": [
              "                   model      loss  accuracy  val_loss  val_accuracy  \\\n",
              "9  Simple RNN (64 units)  0.091719   0.96801   1.71276      0.555062   \n",
              "\n",
              "   test_accuracy  test_loss  training time (sec)  testing time (sec)  \n",
              "9       0.563175   1.656414           157.793176            2.184164  "
            ]
          },
          "metadata": {
            "tags": []
          },
          "execution_count": 129
        }
      ]
    },
    {
      "cell_type": "markdown",
      "metadata": {
        "id": "5hVviajtELUS",
        "colab_type": "text"
      },
      "source": [
        "## 2.2 RNN w/100 memory cells"
      ]
    },
    {
      "cell_type": "code",
      "metadata": {
        "id": "kx7X_Ov2ELUS",
        "colab_type": "code",
        "colab": {},
        "outputId": "aa54c730-4b69-429a-dfbc-86a79a5db39f"
      },
      "source": [
        "model_2a = Sequential()\n",
        "model_2a.add(Embedding(input_dim = voc_size, output_dim = 128, input_length = 193))\n",
        "model_2a.add(SimpleRNN(units = 100))\n",
        "model_2a.add(Dense(units = 21, activation='softmax'))\n",
        "\n",
        "model_2a.summary()"
      ],
      "execution_count": null,
      "outputs": [
        {
          "output_type": "stream",
          "text": [
            "Model: \"sequential_2\"\n",
            "_________________________________________________________________\n",
            "Layer (type)                 Output Shape              Param #   \n",
            "=================================================================\n",
            "embedding_2 (Embedding)      (None, 193, 128)          1280000   \n",
            "_________________________________________________________________\n",
            "simple_rnn_2 (SimpleRNN)     (None, 100)               22900     \n",
            "_________________________________________________________________\n",
            "dense_2 (Dense)              (None, 21)                2121      \n",
            "=================================================================\n",
            "Total params: 1,305,021\n",
            "Trainable params: 1,305,021\n",
            "Non-trainable params: 0\n",
            "_________________________________________________________________\n"
          ],
          "name": "stdout"
        }
      ]
    },
    {
      "cell_type": "code",
      "metadata": {
        "id": "pIAOksmPELUU",
        "colab_type": "code",
        "colab": {}
      },
      "source": [
        "model_2a.compile(optimizer='adam',\n",
        "              loss='categorical_crossentropy',\n",
        "              metrics=['accuracy'])"
      ],
      "execution_count": null,
      "outputs": []
    },
    {
      "cell_type": "markdown",
      "metadata": {
        "id": "c2QLel5vELUV",
        "colab_type": "text"
      },
      "source": [
        "### 2.2.a Model Training"
      ]
    },
    {
      "cell_type": "code",
      "metadata": {
        "id": "SOq2DbQZELUY",
        "colab_type": "code",
        "colab": {},
        "outputId": "12305bfd-0338-4220-a117-18a4435d6928"
      },
      "source": [
        "train_rt = TrainRuntimeCallback()\n",
        "history = model_2a.fit(train_data_sm_rnn,\n",
        "                    one_hot_train_labels_sm,\n",
        "                    callbacks = [train_rt],\n",
        "                    epochs=10,\n",
        "                    batch_size=100,\n",
        "#                   validation_data=(val_data_sm_rnn, one_hot_val_labels_sm))\n",
        "                    validation_split = 0.15)   # comment out if setting validation_data value.\n",
        "\n",
        "# Saving models locally after fitting\n",
        "save_dir = \"results/\"\n",
        "model_name = 'Reuters_2a.h5'\n",
        "model_path = os.path.join(save_dir, model_name)\n",
        "model_2a.save(model_path)\n",
        "print('Saved trained model at %s ' % model_path)\n",
        "print('--------------------------')"
      ],
      "execution_count": null,
      "outputs": [
        {
          "output_type": "stream",
          "text": [
            "Train on 6377 samples, validate on 1126 samples\n",
            "Epoch 1/10\n",
            "6377/6377 [==============================] - 21s 3ms/sample - loss: 1.7993 - accuracy: 0.4250 - val_loss: 1.7151 - val_accuracy: 0.4272\n",
            "Epoch 2/10\n",
            "6377/6377 [==============================] - 19s 3ms/sample - loss: 1.5809 - accuracy: 0.4980 - val_loss: 1.4877 - val_accuracy: 0.5133\n",
            "Epoch 3/10\n",
            "6377/6377 [==============================] - 19s 3ms/sample - loss: 1.3530 - accuracy: 0.5697 - val_loss: 1.4574 - val_accuracy: 0.5107\n",
            "Epoch 4/10\n",
            "6377/6377 [==============================] - 19s 3ms/sample - loss: 1.0559 - accuracy: 0.6583 - val_loss: 1.4366 - val_accuracy: 0.5497\n",
            "Epoch 5/10\n",
            "6377/6377 [==============================] - 19s 3ms/sample - loss: 0.6624 - accuracy: 0.8103 - val_loss: 1.3289 - val_accuracy: 0.5897\n",
            "Epoch 6/10\n",
            "6377/6377 [==============================] - 19s 3ms/sample - loss: 0.3878 - accuracy: 0.9050 - val_loss: 1.3876 - val_accuracy: 0.6039\n",
            "Epoch 7/10\n",
            "6377/6377 [==============================] - 19s 3ms/sample - loss: 0.2361 - accuracy: 0.9473 - val_loss: 1.5152 - val_accuracy: 0.5915\n",
            "Epoch 8/10\n",
            "6377/6377 [==============================] - 19s 3ms/sample - loss: 0.1610 - accuracy: 0.9613 - val_loss: 1.5515 - val_accuracy: 0.5986\n",
            "Epoch 9/10\n",
            "6377/6377 [==============================] - 19s 3ms/sample - loss: 0.1222 - accuracy: 0.9657 - val_loss: 1.6345 - val_accuracy: 0.5773\n",
            "Epoch 10/10\n",
            "6377/6377 [==============================] - 19s 3ms/sample - loss: 0.1057 - accuracy: 0.9647 - val_loss: 1.5869 - val_accuracy: 0.6083\n",
            "Saved trained model at results/Reuters_2a.h5 \n",
            "--------------------------\n"
          ],
          "name": "stdout"
        }
      ]
    },
    {
      "cell_type": "code",
      "metadata": {
        "id": "Q78r8iKoELUb",
        "colab_type": "code",
        "colab": {},
        "outputId": "1038c186-f89d-434d-ee09-3e9d7e5bc4fb"
      },
      "source": [
        "# Get the training time\n",
        "train_time = train_rt.process_time\n",
        "train_time # in seconds"
      ],
      "execution_count": null,
      "outputs": [
        {
          "output_type": "execute_result",
          "data": {
            "text/plain": [
              "190.915457"
            ]
          },
          "metadata": {
            "tags": []
          },
          "execution_count": 136
        }
      ]
    },
    {
      "cell_type": "code",
      "metadata": {
        "id": "A4xe2ZnWELUd",
        "colab_type": "code",
        "colab": {},
        "outputId": "a5035801-3d7d-405c-9c12-edbe6d43acac"
      },
      "source": [
        "print(f\"train_acc: {history.history['accuracy'][-1]}, val_acc: {history.history['val_accuracy'][-1]}\")"
      ],
      "execution_count": null,
      "outputs": [
        {
          "output_type": "stream",
          "text": [
            "train_acc: 0.9647169709205627, val_acc: 0.6083481311798096\n"
          ],
          "name": "stdout"
        }
      ]
    },
    {
      "cell_type": "markdown",
      "metadata": {
        "id": "yi2Y8OIuELUf",
        "colab_type": "text"
      },
      "source": [
        "### 2.2.b Model Testing"
      ]
    },
    {
      "cell_type": "code",
      "metadata": {
        "id": "jJIrGF_XELUf",
        "colab_type": "code",
        "colab": {},
        "outputId": "036de15b-6ac7-43b7-f956-3e6fac6f9710"
      },
      "source": [
        "test_rt = TestRuntimeCallback()\n",
        "test_loss, test_accuracy = model_2a.evaluate(test_data_sm_rnn, one_hot_test_labels_sm, callbacks=[test_rt], verbose=0)\n",
        "print(f\"test_accuracy={test_accuracy}, test_loss={test_loss}\")"
      ],
      "execution_count": null,
      "outputs": [
        {
          "output_type": "stream",
          "text": [
            "test_accuracy=0.602051854133606, test_loss=1.6644209677405801\n"
          ],
          "name": "stdout"
        }
      ]
    },
    {
      "cell_type": "code",
      "metadata": {
        "id": "YxzGVKW1ELUj",
        "colab_type": "code",
        "colab": {},
        "outputId": "ee307e22-9b34-4e85-cf41-4f70425fb521"
      },
      "source": [
        "# Get the test time\n",
        "test_time = test_rt.process_time\n",
        "test_time # in seconds"
      ],
      "execution_count": null,
      "outputs": [
        {
          "output_type": "execute_result",
          "data": {
            "text/plain": [
              "2.809977"
            ]
          },
          "metadata": {
            "tags": []
          },
          "execution_count": 139
        }
      ]
    },
    {
      "cell_type": "markdown",
      "metadata": {
        "id": "iT4QBxanELUn",
        "colab_type": "text"
      },
      "source": [
        "### 2.2.c Model Performance"
      ]
    },
    {
      "cell_type": "code",
      "metadata": {
        "id": "ab55XmMyELUp",
        "colab_type": "code",
        "colab": {},
        "outputId": "134eff8e-801e-4bb1-b6b6-21315b53befd"
      },
      "source": [
        "# Plot learning curves for model\n",
        "pd.DataFrame(history.history).plot(figsize=(8, 5))\n",
        "plt.grid(True)\n",
        "plt.gca().set_ylim(0, 2) # set the vertical range to [0-1]\n",
        "plt.savefig(\"figures/learning_curves_model_2a\", tight_layout=False)\n",
        "plt.show()"
      ],
      "execution_count": null,
      "outputs": [
        {
          "output_type": "display_data",
          "data": {
            "image/png": "[encoded data removed]",
            "text/plain": [
              "<Figure size 576x360 with 1 Axes>"
            ]
          },
          "metadata": {
            "tags": [],
            "needs_background": "light"
          }
        }
      ]
    },
    {
      "cell_type": "code",
      "metadata": {
        "id": "IoPGKe6CELUr",
        "colab_type": "code",
        "colab": {}
      },
      "source": [
        "history_dict = history.history.copy()\n",
        "# history_dict['train_accuracy'] = history_dict.pop('accuracy') # rename the the key to 'test_accuracy'\n",
        "history_df=pd.DataFrame(history_dict)"
      ],
      "execution_count": null,
      "outputs": []
    },
    {
      "cell_type": "code",
      "metadata": {
        "id": "xSyDJg5yELUt",
        "colab_type": "code",
        "colab": {},
        "outputId": "aedf9161-ae31-47e6-f4ae-6bcee82c3262"
      },
      "source": [
        "results_df2a = history_df.iloc[-1:].copy()\n",
        "results_df2a.insert(0,'model','Simple RNN (100 units)') # want the model name to appear first\n",
        "results_df2a['test_accuracy'] = test_accuracy\n",
        "results_df2a['test_loss'] = test_loss\n",
        "results_df2a['training time (sec)'] = train_time      \n",
        "results_df2a['testing time (sec)'] = test_time     \n",
        "results_df2a"
      ],
      "execution_count": null,
      "outputs": [
        {
          "output_type": "execute_result",
          "data": {
            "text/html": [
              "<div>\n",
              "<style scoped>\n",
              "    .dataframe tbody tr th:only-of-type {\n",
              "        vertical-align: middle;\n",
              "    }\n",
              "\n",
              "    .dataframe tbody tr th {\n",
              "        vertical-align: top;\n",
              "    }\n",
              "\n",
              "    .dataframe thead th {\n",
              "        text-align: right;\n",
              "    }\n",
              "</style>\n",
              "<table border=\"1\" class=\"dataframe\">\n",
              "  <thead>\n",
              "    <tr style=\"text-align: right;\">\n",
              "      <th></th>\n",
              "      <th>model</th>\n",
              "      <th>loss</th>\n",
              "      <th>accuracy</th>\n",
              "      <th>val_loss</th>\n",
              "      <th>val_accuracy</th>\n",
              "      <th>test_accuracy</th>\n",
              "      <th>test_loss</th>\n",
              "      <th>training time (sec)</th>\n",
              "      <th>testing time (sec)</th>\n",
              "    </tr>\n",
              "  </thead>\n",
              "  <tbody>\n",
              "    <tr>\n",
              "      <th>9</th>\n",
              "      <td>Simple RNN (100 units)</td>\n",
              "      <td>0.10573</td>\n",
              "      <td>0.964717</td>\n",
              "      <td>1.586867</td>\n",
              "      <td>0.608348</td>\n",
              "      <td>0.602052</td>\n",
              "      <td>1.664421</td>\n",
              "      <td>190.915457</td>\n",
              "      <td>2.809977</td>\n",
              "    </tr>\n",
              "  </tbody>\n",
              "</table>\n",
              "</div>"
            ],
            "text/plain": [
              "                    model     loss  accuracy  val_loss  val_accuracy  \\\n",
              "9  Simple RNN (100 units)  0.10573  0.964717  1.586867      0.608348   \n",
              "\n",
              "   test_accuracy  test_loss  training time (sec)  testing time (sec)  \n",
              "9       0.602052   1.664421           190.915457            2.809977  "
            ]
          },
          "metadata": {
            "tags": []
          },
          "execution_count": 142
        }
      ]
    },
    {
      "cell_type": "code",
      "metadata": {
        "id": "Y5342ZejELUx",
        "colab_type": "code",
        "colab": {},
        "outputId": "8348ecb0-8716-482b-e848-59222475de09"
      },
      "source": [
        "results_df2=results_df2.append(results_df2a,ignore_index=True)\n",
        "results_df2"
      ],
      "execution_count": null,
      "outputs": [
        {
          "output_type": "execute_result",
          "data": {
            "text/html": [
              "<div>\n",
              "<style scoped>\n",
              "    .dataframe tbody tr th:only-of-type {\n",
              "        vertical-align: middle;\n",
              "    }\n",
              "\n",
              "    .dataframe tbody tr th {\n",
              "        vertical-align: top;\n",
              "    }\n",
              "\n",
              "    .dataframe thead th {\n",
              "        text-align: right;\n",
              "    }\n",
              "</style>\n",
              "<table border=\"1\" class=\"dataframe\">\n",
              "  <thead>\n",
              "    <tr style=\"text-align: right;\">\n",
              "      <th></th>\n",
              "      <th>model</th>\n",
              "      <th>loss</th>\n",
              "      <th>accuracy</th>\n",
              "      <th>val_loss</th>\n",
              "      <th>val_accuracy</th>\n",
              "      <th>test_accuracy</th>\n",
              "      <th>test_loss</th>\n",
              "      <th>training time (sec)</th>\n",
              "      <th>testing time (sec)</th>\n",
              "    </tr>\n",
              "  </thead>\n",
              "  <tbody>\n",
              "    <tr>\n",
              "      <th>0</th>\n",
              "      <td>Simple RNN (64 units)</td>\n",
              "      <td>0.091719</td>\n",
              "      <td>0.968010</td>\n",
              "      <td>1.712760</td>\n",
              "      <td>0.555062</td>\n",
              "      <td>0.563175</td>\n",
              "      <td>1.656414</td>\n",
              "      <td>157.793176</td>\n",
              "      <td>2.184164</td>\n",
              "    </tr>\n",
              "    <tr>\n",
              "      <th>1</th>\n",
              "      <td>Simple RNN (100 units)</td>\n",
              "      <td>0.105730</td>\n",
              "      <td>0.964717</td>\n",
              "      <td>1.586867</td>\n",
              "      <td>0.608348</td>\n",
              "      <td>0.602052</td>\n",
              "      <td>1.664421</td>\n",
              "      <td>190.915457</td>\n",
              "      <td>2.809977</td>\n",
              "    </tr>\n",
              "  </tbody>\n",
              "</table>\n",
              "</div>"
            ],
            "text/plain": [
              "                    model      loss  accuracy  val_loss  val_accuracy  \\\n",
              "0   Simple RNN (64 units)  0.091719  0.968010  1.712760      0.555062   \n",
              "1  Simple RNN (100 units)  0.105730  0.964717  1.586867      0.608348   \n",
              "\n",
              "   test_accuracy  test_loss  training time (sec)  testing time (sec)  \n",
              "0       0.563175   1.656414           157.793176            2.184164  \n",
              "1       0.602052   1.664421           190.915457            2.809977  "
            ]
          },
          "metadata": {
            "tags": []
          },
          "execution_count": 143
        }
      ]
    },
    {
      "cell_type": "code",
      "metadata": {
        "id": "t4lVFLxmELUz",
        "colab_type": "code",
        "colab": {}
      },
      "source": [
        "results_df2.to_pickle(\"results2.pkl\") "
      ],
      "execution_count": null,
      "outputs": []
    },
    {
      "cell_type": "markdown",
      "metadata": {
        "id": "Jy7H_61IELU2",
        "colab_type": "text"
      },
      "source": [
        "# 3. Experiment 3: LSTM RNN"
      ]
    },
    {
      "cell_type": "code",
      "metadata": {
        "id": "AykMVTRoELU2",
        "colab_type": "code",
        "colab": {}
      },
      "source": [
        "keras.backend.clear_session()\n",
        "np.random.seed(42)\n",
        "tf.random.set_seed(42)"
      ],
      "execution_count": null,
      "outputs": []
    },
    {
      "cell_type": "markdown",
      "metadata": {
        "id": "3UytfI0AELU4",
        "colab_type": "text"
      },
      "source": [
        "## 3.1 LSTM RNN"
      ]
    },
    {
      "cell_type": "code",
      "metadata": {
        "id": "nKricCMlELU4",
        "colab_type": "code",
        "colab": {},
        "outputId": "2f5bc8d5-c260-412c-826a-ddcda27eff27"
      },
      "source": [
        "model_3 = Sequential()\n",
        "model_3.add(Embedding(input_dim = voc_size, output_dim = 64, input_length = 193))\n",
        "model_3.add(LSTM(units = 32))\n",
        "model_3.add(Dense(units = 21, activation='softmax'))\n",
        "\n",
        "model_3.summary()"
      ],
      "execution_count": null,
      "outputs": [
        {
          "output_type": "stream",
          "text": [
            "Model: \"sequential\"\n",
            "_________________________________________________________________\n",
            "Layer (type)                 Output Shape              Param #   \n",
            "=================================================================\n",
            "embedding (Embedding)        (None, 193, 64)           640000    \n",
            "_________________________________________________________________\n",
            "lstm (LSTM)                  (None, 32)                12416     \n",
            "_________________________________________________________________\n",
            "dense (Dense)                (None, 21)                693       \n",
            "=================================================================\n",
            "Total params: 653,109\n",
            "Trainable params: 653,109\n",
            "Non-trainable params: 0\n",
            "_________________________________________________________________\n"
          ],
          "name": "stdout"
        }
      ]
    },
    {
      "cell_type": "code",
      "metadata": {
        "id": "Bt1KYML1ELU6",
        "colab_type": "code",
        "colab": {}
      },
      "source": [
        "model_3.compile(optimizer='adam',\n",
        "              loss='categorical_crossentropy',\n",
        "              metrics=['accuracy'])"
      ],
      "execution_count": null,
      "outputs": []
    },
    {
      "cell_type": "markdown",
      "metadata": {
        "id": "GfZJAxgeELU7",
        "colab_type": "text"
      },
      "source": [
        "### 3.1.a Model Training"
      ]
    },
    {
      "cell_type": "code",
      "metadata": {
        "id": "rINAShliELU7",
        "colab_type": "code",
        "colab": {},
        "outputId": "656ea4b5-d718-48af-abb9-c09436daa3f3"
      },
      "source": [
        "train_rt = TrainRuntimeCallback()\n",
        "history = model_3.fit(train_data_sm_rnn,\n",
        "                    one_hot_train_labels_sm,\n",
        "                    callbacks = [train_rt],\n",
        "                    epochs=10,\n",
        "                    batch_size=100,\n",
        "#                   validation_data=(val_data_sm_rnn, one_hot_val_labels_sm))\n",
        "                    validation_split = 0.15)   # comment out if setting validation_data value.\n",
        "\n",
        "# Saving models locally after fitting\n",
        "save_dir = \"results/\"\n",
        "model_name = 'Reuters_3.h5'\n",
        "model_path = os.path.join(save_dir, model_name)\n",
        "model_3.save(model_path)\n",
        "print('Saved trained model at %s ' % model_path)\n",
        "print('--------------------------')"
      ],
      "execution_count": null,
      "outputs": [
        {
          "output_type": "stream",
          "text": [
            "Train on 6377 samples, validate on 1126 samples\n",
            "Epoch 1/10\n",
            "6377/6377 [==============================] - 35s 5ms/sample - loss: 2.2593 - accuracy: 0.4261 - val_loss: 1.5748 - val_accuracy: 0.5258\n",
            "Epoch 2/10\n",
            "6377/6377 [==============================] - 29s 5ms/sample - loss: 1.3380 - accuracy: 0.5819 - val_loss: 1.2451 - val_accuracy: 0.5986\n",
            "Epoch 3/10\n",
            "6377/6377 [==============================] - 29s 4ms/sample - loss: 1.0819 - accuracy: 0.6556 - val_loss: 1.0240 - val_accuracy: 0.6625\n",
            "Epoch 4/10\n",
            "6377/6377 [==============================] - 30s 5ms/sample - loss: 0.9727 - accuracy: 0.6868 - val_loss: 1.0845 - val_accuracy: 0.6723\n",
            "Epoch 5/10\n",
            "6377/6377 [==============================] - 30s 5ms/sample - loss: 0.9855 - accuracy: 0.6760 - val_loss: 1.0138 - val_accuracy: 0.6528\n",
            "Epoch 6/10\n",
            "6377/6377 [==============================] - 29s 5ms/sample - loss: 0.8709 - accuracy: 0.7157 - val_loss: 0.9373 - val_accuracy: 0.7069\n",
            "Epoch 7/10\n",
            "6377/6377 [==============================] - 29s 5ms/sample - loss: 0.7830 - accuracy: 0.7488 - val_loss: 0.9421 - val_accuracy: 0.7211\n",
            "Epoch 8/10\n",
            "6377/6377 [==============================] - 28s 4ms/sample - loss: 0.7749 - accuracy: 0.7568 - val_loss: 0.9772 - val_accuracy: 0.6847\n",
            "Epoch 9/10\n",
            "6377/6377 [==============================] - 29s 5ms/sample - loss: 0.6602 - accuracy: 0.7952 - val_loss: 0.8450 - val_accuracy: 0.7540\n",
            "Epoch 10/10\n",
            "6377/6377 [==============================] - 29s 4ms/sample - loss: 0.5730 - accuracy: 0.8212 - val_loss: 0.9236 - val_accuracy: 0.7398\n",
            "Saved trained model at results/Reuters_3.h5 \n",
            "--------------------------\n"
          ],
          "name": "stdout"
        }
      ]
    },
    {
      "cell_type": "code",
      "metadata": {
        "id": "fUwaTCTOELU9",
        "colab_type": "code",
        "colab": {},
        "outputId": "a1bc8701-3a53-4337-b3f5-653b3155e8ab"
      },
      "source": [
        "# Get the training time\n",
        "train_time = train_rt.process_time\n",
        "train_time # in seconds"
      ],
      "execution_count": null,
      "outputs": [
        {
          "output_type": "execute_result",
          "data": {
            "text/plain": [
              "295.388199"
            ]
          },
          "metadata": {
            "tags": []
          },
          "execution_count": 149
        }
      ]
    },
    {
      "cell_type": "code",
      "metadata": {
        "id": "ipWEV7i8ELU-",
        "colab_type": "code",
        "colab": {},
        "outputId": "1e9d4eac-9269-4579-8f6f-6a407e978d05"
      },
      "source": [
        "print(f\"train_acc: {history.history['accuracy'][-1]}, val_acc: {history.history['val_accuracy'][-1]}\")"
      ],
      "execution_count": null,
      "outputs": [
        {
          "output_type": "stream",
          "text": [
            "train_acc: 0.8212325572967529, val_acc: 0.7397868633270264\n"
          ],
          "name": "stdout"
        }
      ]
    },
    {
      "cell_type": "markdown",
      "metadata": {
        "id": "xSDsrqjbELVA",
        "colab_type": "text"
      },
      "source": [
        "### 3.1.b Model Testing"
      ]
    },
    {
      "cell_type": "code",
      "metadata": {
        "id": "PoJp8CWZELVA",
        "colab_type": "code",
        "colab": {},
        "outputId": "cdd990f7-85da-423d-9349-3467085f287d"
      },
      "source": [
        "test_rt = TestRuntimeCallback()\n",
        "test_loss, test_accuracy = model_3.evaluate(test_data_sm_rnn, one_hot_test_labels_sm, callbacks=[test_rt], verbose=0)\n",
        "print(f\"test_accuracy={test_accuracy}, test_loss={test_loss}\")"
      ],
      "execution_count": null,
      "outputs": [
        {
          "output_type": "stream",
          "text": [
            "test_accuracy=0.7559395432472229, test_loss=0.8839631919984426\n"
          ],
          "name": "stdout"
        }
      ]
    },
    {
      "cell_type": "code",
      "metadata": {
        "id": "v1xhV90gELVC",
        "colab_type": "code",
        "colab": {},
        "outputId": "a65c164c-05fa-44b0-d124-25691299abc7"
      },
      "source": [
        "# Get the test time\n",
        "test_time = test_rt.process_time\n",
        "test_time # in seconds"
      ],
      "execution_count": null,
      "outputs": [
        {
          "output_type": "execute_result",
          "data": {
            "text/plain": [
              "4.710983"
            ]
          },
          "metadata": {
            "tags": []
          },
          "execution_count": 152
        }
      ]
    },
    {
      "cell_type": "markdown",
      "metadata": {
        "id": "8oWUJhJpELVD",
        "colab_type": "text"
      },
      "source": [
        "### 3.1.c Model Performance"
      ]
    },
    {
      "cell_type": "code",
      "metadata": {
        "id": "WhJ15NE6ELVE",
        "colab_type": "code",
        "colab": {},
        "outputId": "2d12c772-d935-42ea-fde5-bfba145913b1"
      },
      "source": [
        "# Plot learning curves for model\n",
        "pd.DataFrame(history.history).plot(figsize=(8, 5))\n",
        "plt.grid(True)\n",
        "plt.gca().set_ylim(0, 1.5) # set the vertical range to [0-1]\n",
        "plt.savefig(\"figures/learning_curves_model_3\", tight_layout=False)\n",
        "plt.show()"
      ],
      "execution_count": null,
      "outputs": [
        {
          "output_type": "display_data",
          "data": {
            "image/png": "[encoded data removed]",
            "text/plain": [
              "<Figure size 576x360 with 1 Axes>"
            ]
          },
          "metadata": {
            "tags": [],
            "needs_background": "light"
          }
        }
      ]
    },
    {
      "cell_type": "code",
      "metadata": {
        "id": "TYJdiEoCELVG",
        "colab_type": "code",
        "colab": {}
      },
      "source": [
        "history_dict = history.history.copy()\n",
        "# history_dict['train_accuracy'] = history_dict.pop('accuracy') # rename the the key to 'test_accuracy'\n",
        "history_df=pd.DataFrame(history_dict)"
      ],
      "execution_count": null,
      "outputs": []
    },
    {
      "cell_type": "code",
      "metadata": {
        "id": "BoGUpk2UELVI",
        "colab_type": "code",
        "colab": {},
        "outputId": "5815333d-2d1a-4b2c-8e3c-bc6a1066fd1b"
      },
      "source": [
        "results_df3 = history_df.iloc[-1:].copy()\n",
        "results_df3.insert(0,'model','LSTM RNN baseline') # want the model name to appear first\n",
        "results_df3['test_accuracy'] = test_accuracy\n",
        "results_df3['test_loss'] = test_loss\n",
        "results_df3['training time (sec)'] = train_time      # we are okay with training time appearing last\n",
        "results_df3['testing time (sec)'] = test_time      # we are okay with training time appearing last\n",
        "results_df3"
      ],
      "execution_count": null,
      "outputs": [
        {
          "output_type": "execute_result",
          "data": {
            "text/html": [
              "<div>\n",
              "<style scoped>\n",
              "    .dataframe tbody tr th:only-of-type {\n",
              "        vertical-align: middle;\n",
              "    }\n",
              "\n",
              "    .dataframe tbody tr th {\n",
              "        vertical-align: top;\n",
              "    }\n",
              "\n",
              "    .dataframe thead th {\n",
              "        text-align: right;\n",
              "    }\n",
              "</style>\n",
              "<table border=\"1\" class=\"dataframe\">\n",
              "  <thead>\n",
              "    <tr style=\"text-align: right;\">\n",
              "      <th></th>\n",
              "      <th>model</th>\n",
              "      <th>loss</th>\n",
              "      <th>accuracy</th>\n",
              "      <th>val_loss</th>\n",
              "      <th>val_accuracy</th>\n",
              "      <th>test_accuracy</th>\n",
              "      <th>test_loss</th>\n",
              "      <th>training time (sec)</th>\n",
              "      <th>testing time (sec)</th>\n",
              "    </tr>\n",
              "  </thead>\n",
              "  <tbody>\n",
              "    <tr>\n",
              "      <th>9</th>\n",
              "      <td>LSTM RNN baseline</td>\n",
              "      <td>0.572972</td>\n",
              "      <td>0.821233</td>\n",
              "      <td>0.923595</td>\n",
              "      <td>0.739787</td>\n",
              "      <td>0.75594</td>\n",
              "      <td>0.883963</td>\n",
              "      <td>295.388199</td>\n",
              "      <td>4.710983</td>\n",
              "    </tr>\n",
              "  </tbody>\n",
              "</table>\n",
              "</div>"
            ],
            "text/plain": [
              "               model      loss  accuracy  val_loss  val_accuracy  \\\n",
              "9  LSTM RNN baseline  0.572972  0.821233  0.923595      0.739787   \n",
              "\n",
              "   test_accuracy  test_loss  training time (sec)  testing time (sec)  \n",
              "9        0.75594   0.883963           295.388199            4.710983  "
            ]
          },
          "metadata": {
            "tags": []
          },
          "execution_count": 155
        }
      ]
    },
    {
      "cell_type": "markdown",
      "metadata": {
        "id": "ms1AZVzDELVK",
        "colab_type": "text"
      },
      "source": [
        "## 3.2 LSTM RNN w/100 memory cell units"
      ]
    },
    {
      "cell_type": "code",
      "metadata": {
        "id": "OWGB_Kp0ELVK",
        "colab_type": "code",
        "colab": {},
        "outputId": "38329a1f-7eec-4158-fbac-80ba5f31aaff"
      },
      "source": [
        "model_3a = Sequential()\n",
        "model_3a.add(Embedding(input_dim = voc_size, output_dim = 64, input_length = 193))\n",
        "model_3a.add(LSTM(units = 100))\n",
        "model_3a.add(Dense(units = 21, activation='softmax'))\n",
        "\n",
        "\n",
        "model_3a.summary()"
      ],
      "execution_count": null,
      "outputs": [
        {
          "output_type": "stream",
          "text": [
            "Model: \"sequential_1\"\n",
            "_________________________________________________________________\n",
            "Layer (type)                 Output Shape              Param #   \n",
            "=================================================================\n",
            "embedding_1 (Embedding)      (None, 193, 64)           640000    \n",
            "_________________________________________________________________\n",
            "lstm_1 (LSTM)                (None, 100)               66000     \n",
            "_________________________________________________________________\n",
            "dense_1 (Dense)              (None, 21)                2121      \n",
            "=================================================================\n",
            "Total params: 708,121\n",
            "Trainable params: 708,121\n",
            "Non-trainable params: 0\n",
            "_________________________________________________________________\n"
          ],
          "name": "stdout"
        }
      ]
    },
    {
      "cell_type": "code",
      "metadata": {
        "id": "l6ZQmbGWELVL",
        "colab_type": "code",
        "colab": {}
      },
      "source": [
        "model_3a.compile(optimizer='adam',\n",
        "              loss='categorical_crossentropy',\n",
        "              metrics=['accuracy'])"
      ],
      "execution_count": null,
      "outputs": []
    },
    {
      "cell_type": "markdown",
      "metadata": {
        "id": "EwhbQcj7ELVO",
        "colab_type": "text"
      },
      "source": [
        "### 3.2.a Model Training"
      ]
    },
    {
      "cell_type": "code",
      "metadata": {
        "id": "bNkY6qrLELVO",
        "colab_type": "code",
        "colab": {},
        "outputId": "02ab731c-87f2-4513-c1e4-008bc5928c52"
      },
      "source": [
        "train_rt = TrainRuntimeCallback()\n",
        "history = model_3a.fit(train_data_sm_rnn,\n",
        "                    one_hot_train_labels_sm,\n",
        "                    callbacks = [train_rt],\n",
        "                    epochs=10,\n",
        "                    batch_size=100,\n",
        "#                   validation_data=(val_data_sm_rnn, one_hot_val_labels_sm))\n",
        "                    validation_split = 0.15)   # comment out if setting validation_data value.\n",
        "\n",
        "# Saving models locally after fitting\n",
        "save_dir = \"results/\"\n",
        "model_name = 'Reuters_3a.h5'\n",
        "model_path = os.path.join(save_dir, model_name)\n",
        "model_3a.save(model_path)\n",
        "print('Saved trained model at %s ' % model_path)\n",
        "print('--------------------------')"
      ],
      "execution_count": null,
      "outputs": [
        {
          "output_type": "stream",
          "text": [
            "Train on 6377 samples, validate on 1126 samples\n",
            "Epoch 1/10\n",
            "6377/6377 [==============================] - 60s 9ms/sample - loss: 1.9634 - accuracy: 0.4171 - val_loss: 1.6822 - val_accuracy: 0.4103\n",
            "Epoch 2/10\n",
            "6377/6377 [==============================] - 53s 8ms/sample - loss: 1.4470 - accuracy: 0.5349 - val_loss: 1.2863 - val_accuracy: 0.5897\n",
            "Epoch 3/10\n",
            "6377/6377 [==============================] - 56s 9ms/sample - loss: 1.2110 - accuracy: 0.6080 - val_loss: 1.2482 - val_accuracy: 0.6075\n",
            "Epoch 4/10\n",
            "6377/6377 [==============================] - 52s 8ms/sample - loss: 1.0396 - accuracy: 0.6643 - val_loss: 1.1520 - val_accuracy: 0.6190\n",
            "Epoch 5/10\n",
            "6377/6377 [==============================] - 53s 8ms/sample - loss: 0.9119 - accuracy: 0.6966 - val_loss: 0.9182 - val_accuracy: 0.7016\n",
            "Epoch 6/10\n",
            "6377/6377 [==============================] - 49s 8ms/sample - loss: 0.7769 - accuracy: 0.7485 - val_loss: 0.9060 - val_accuracy: 0.7087\n",
            "Epoch 7/10\n",
            "6377/6377 [==============================] - 49s 8ms/sample - loss: 0.6934 - accuracy: 0.7775 - val_loss: 0.9720 - val_accuracy: 0.6998\n",
            "Epoch 8/10\n",
            "6377/6377 [==============================] - 50s 8ms/sample - loss: 0.6050 - accuracy: 0.8024 - val_loss: 0.8459 - val_accuracy: 0.7460\n",
            "Epoch 9/10\n",
            "6377/6377 [==============================] - 51s 8ms/sample - loss: 0.4890 - accuracy: 0.8520 - val_loss: 0.9416 - val_accuracy: 0.7336\n",
            "Epoch 10/10\n",
            "6377/6377 [==============================] - 52s 8ms/sample - loss: 0.4146 - accuracy: 0.8778 - val_loss: 0.8393 - val_accuracy: 0.7540\n",
            "Saved trained model at results/Reuters_3a.h5 \n",
            "--------------------------\n"
          ],
          "name": "stdout"
        }
      ]
    },
    {
      "cell_type": "code",
      "metadata": {
        "id": "q7madnWSELVQ",
        "colab_type": "code",
        "colab": {},
        "outputId": "2db5cfc3-283c-4a16-eefd-b586fa4c92bf"
      },
      "source": [
        "# Get the training time\n",
        "train_time = train_rt.process_time\n",
        "train_time # in seconds"
      ],
      "execution_count": null,
      "outputs": [
        {
          "output_type": "execute_result",
          "data": {
            "text/plain": [
              "525.963719"
            ]
          },
          "metadata": {
            "tags": []
          },
          "execution_count": 159
        }
      ]
    },
    {
      "cell_type": "code",
      "metadata": {
        "id": "Hma2v5iNELVT",
        "colab_type": "code",
        "colab": {},
        "outputId": "234aa5e0-118f-4efc-9e58-b0ddd4093531"
      },
      "source": [
        "print(f\"train_acc: {history.history['accuracy'][-1]}, val_acc: {history.history['val_accuracy'][-1]}\")"
      ],
      "execution_count": null,
      "outputs": [
        {
          "output_type": "stream",
          "text": [
            "train_acc: 0.8778422474861145, val_acc: 0.7539964318275452\n"
          ],
          "name": "stdout"
        }
      ]
    },
    {
      "cell_type": "markdown",
      "metadata": {
        "id": "pGtWDXLTELVV",
        "colab_type": "text"
      },
      "source": [
        "### 3.2.b Model Testing"
      ]
    },
    {
      "cell_type": "code",
      "metadata": {
        "id": "Fh_M-HJWELVV",
        "colab_type": "code",
        "colab": {},
        "outputId": "1679fcab-a8c3-4619-9e26-d3bd2f22ed66"
      },
      "source": [
        "test_rt = TestRuntimeCallback()\n",
        "test_loss, test_accuracy = model_3a.evaluate(test_data_sm_rnn, one_hot_test_labels_sm, callbacks=[test_rt], verbose=0)\n",
        "print(f\"test_accuracy={test_accuracy}, test_loss={test_loss}\")"
      ],
      "execution_count": null,
      "outputs": [
        {
          "output_type": "stream",
          "text": [
            "test_accuracy=0.7607991099357605, test_loss=0.901094690512375\n"
          ],
          "name": "stdout"
        }
      ]
    },
    {
      "cell_type": "code",
      "metadata": {
        "id": "_4ZG01VBELVW",
        "colab_type": "code",
        "colab": {},
        "outputId": "4004d15c-1675-4917-f4e0-edf78a79dca0"
      },
      "source": [
        "# Get the test time\n",
        "test_time = test_rt.process_time\n",
        "test_time # in seconds"
      ],
      "execution_count": null,
      "outputs": [
        {
          "output_type": "execute_result",
          "data": {
            "text/plain": [
              "9.774533"
            ]
          },
          "metadata": {
            "tags": []
          },
          "execution_count": 162
        }
      ]
    },
    {
      "cell_type": "markdown",
      "metadata": {
        "id": "7g0dCnJGELVX",
        "colab_type": "text"
      },
      "source": [
        "### 3.2.c Model Performance"
      ]
    },
    {
      "cell_type": "code",
      "metadata": {
        "id": "6gFKr_A2ELVY",
        "colab_type": "code",
        "colab": {},
        "outputId": "45f65aee-ec03-4b77-e0d8-2c3cda50f355"
      },
      "source": [
        "# Plot learning curves for model\n",
        "pd.DataFrame(history.history).plot(figsize=(8, 5))\n",
        "plt.grid(True)\n",
        "plt.gca().set_ylim(0, 1.5) # set the vertical range to [0-1]\n",
        "plt.savefig(\"figures/learning_curves_model_3a\", tight_layout=False)\n",
        "plt.show()"
      ],
      "execution_count": null,
      "outputs": [
        {
          "output_type": "display_data",
          "data": {
            "image/png": "[encoded data removed]",
            "text/plain": [
              "<Figure size 576x360 with 1 Axes>"
            ]
          },
          "metadata": {
            "tags": [],
            "needs_background": "light"
          }
        }
      ]
    },
    {
      "cell_type": "code",
      "metadata": {
        "id": "2NCIIjpgELVZ",
        "colab_type": "code",
        "colab": {}
      },
      "source": [
        "history_dict = history.history.copy()\n",
        "# history_dict['train_accuracy'] = history_dict.pop('accuracy') # rename the the key to 'test_accuracy'\n",
        "history_df=pd.DataFrame(history_dict)"
      ],
      "execution_count": null,
      "outputs": []
    },
    {
      "cell_type": "code",
      "metadata": {
        "id": "tWnuQSaOELVd",
        "colab_type": "code",
        "colab": {},
        "outputId": "86e159bd-adfe-473c-f19c-04fcb06846b3"
      },
      "source": [
        "results_df3a = history_df.iloc[-1:].copy()\n",
        "results_df3a.insert(0,'model','LSTM RNN (100 memory cell units)') # want the model name to appear first\n",
        "results_df3a['test_accuracy'] = test_accuracy\n",
        "results_df3a['test_loss'] = test_loss\n",
        "results_df3a['training time (sec)'] = train_time      \n",
        "results_df3a['testing time (sec)'] = test_time      \n",
        "results_df3a"
      ],
      "execution_count": null,
      "outputs": [
        {
          "output_type": "execute_result",
          "data": {
            "text/html": [
              "<div>\n",
              "<style scoped>\n",
              "    .dataframe tbody tr th:only-of-type {\n",
              "        vertical-align: middle;\n",
              "    }\n",
              "\n",
              "    .dataframe tbody tr th {\n",
              "        vertical-align: top;\n",
              "    }\n",
              "\n",
              "    .dataframe thead th {\n",
              "        text-align: right;\n",
              "    }\n",
              "</style>\n",
              "<table border=\"1\" class=\"dataframe\">\n",
              "  <thead>\n",
              "    <tr style=\"text-align: right;\">\n",
              "      <th></th>\n",
              "      <th>model</th>\n",
              "      <th>loss</th>\n",
              "      <th>accuracy</th>\n",
              "      <th>val_loss</th>\n",
              "      <th>val_accuracy</th>\n",
              "      <th>test_accuracy</th>\n",
              "      <th>test_loss</th>\n",
              "      <th>training time (sec)</th>\n",
              "      <th>testing time (sec)</th>\n",
              "    </tr>\n",
              "  </thead>\n",
              "  <tbody>\n",
              "    <tr>\n",
              "      <th>9</th>\n",
              "      <td>LSTM RNN (100 memory cell units)</td>\n",
              "      <td>0.414566</td>\n",
              "      <td>0.877842</td>\n",
              "      <td>0.839277</td>\n",
              "      <td>0.753996</td>\n",
              "      <td>0.760799</td>\n",
              "      <td>0.901095</td>\n",
              "      <td>525.963719</td>\n",
              "      <td>9.774533</td>\n",
              "    </tr>\n",
              "  </tbody>\n",
              "</table>\n",
              "</div>"
            ],
            "text/plain": [
              "                              model      loss  accuracy  val_loss  \\\n",
              "9  LSTM RNN (100 memory cell units)  0.414566  0.877842  0.839277   \n",
              "\n",
              "   val_accuracy  test_accuracy  test_loss  training time (sec)  \\\n",
              "9      0.753996       0.760799   0.901095           525.963719   \n",
              "\n",
              "   testing time (sec)  \n",
              "9            9.774533  "
            ]
          },
          "metadata": {
            "tags": []
          },
          "execution_count": 166
        }
      ]
    },
    {
      "cell_type": "markdown",
      "metadata": {
        "id": "eJbXrHMSELVh",
        "colab_type": "text"
      },
      "source": [
        "## 3.3 LSTM RNN w/10% dropout"
      ]
    },
    {
      "cell_type": "code",
      "metadata": {
        "id": "i9oOFvjNELVh",
        "colab_type": "code",
        "colab": {},
        "outputId": "3bf6cc03-19d8-498b-be75-43570201f02b"
      },
      "source": [
        "model_3b = Sequential()\n",
        "model_3b.add(Embedding(input_dim = voc_size, output_dim = 64, input_length = 193))\n",
        "# model_3b.add(layers.SpatialDropout1D(0.2))\n",
        "model_3b.add(LSTM(units=100))\n",
        "model_3b.add(layers.Dropout(0.1))\n",
        "model_3b.add(Dense(units = 21, activation='softmax'))\n",
        "\n",
        "model_3b.summary()"
      ],
      "execution_count": null,
      "outputs": [
        {
          "output_type": "stream",
          "text": [
            "Model: \"sequential_2\"\n",
            "_________________________________________________________________\n",
            "Layer (type)                 Output Shape              Param #   \n",
            "=================================================================\n",
            "embedding_2 (Embedding)      (None, 193, 64)           640000    \n",
            "_________________________________________________________________\n",
            "lstm_2 (LSTM)                (None, 100)               66000     \n",
            "_________________________________________________________________\n",
            "dropout (Dropout)            (None, 100)               0         \n",
            "_________________________________________________________________\n",
            "dense_2 (Dense)              (None, 21)                2121      \n",
            "=================================================================\n",
            "Total params: 708,121\n",
            "Trainable params: 708,121\n",
            "Non-trainable params: 0\n",
            "_________________________________________________________________\n"
          ],
          "name": "stdout"
        }
      ]
    },
    {
      "cell_type": "code",
      "metadata": {
        "id": "QO17J-qnELVx",
        "colab_type": "code",
        "colab": {}
      },
      "source": [
        "model_3b.compile(optimizer='adam',\n",
        "              loss='categorical_crossentropy',\n",
        "              metrics=['accuracy'])"
      ],
      "execution_count": null,
      "outputs": []
    },
    {
      "cell_type": "markdown",
      "metadata": {
        "id": "2jlm9uM8ELVy",
        "colab_type": "text"
      },
      "source": [
        "### 3.3.a Model Training"
      ]
    },
    {
      "cell_type": "code",
      "metadata": {
        "id": "BKG8iMzsELVz",
        "colab_type": "code",
        "colab": {},
        "outputId": "5f4dcf1d-83da-4896-819d-5e4fcf1f9276"
      },
      "source": [
        "train_rt = TrainRuntimeCallback()\n",
        "history = model_3b.fit(train_data_sm_rnn,\n",
        "                    one_hot_train_labels_sm,\n",
        "                    callbacks = [train_rt],\n",
        "                    epochs=10,\n",
        "                    batch_size=100,\n",
        "#                   validation_data=(val_data_sm_rnn, one_hot_val_labels_sm))\n",
        "                    validation_split = 0.15)   # comment out if setting validation_data value.\n",
        "\n",
        "# Saving models locally after fitting\n",
        "save_dir = \"results/\"\n",
        "model_name = 'Reuters_3b.h5'\n",
        "model_path = os.path.join(save_dir, model_name)\n",
        "model_3b.save(model_path)\n",
        "print('Saved trained model at %s ' % model_path)\n",
        "print('--------------------------')"
      ],
      "execution_count": null,
      "outputs": [
        {
          "output_type": "stream",
          "text": [
            "Train on 6377 samples, validate on 1126 samples\n",
            "Epoch 1/10\n",
            "6377/6377 [==============================] - 56s 9ms/sample - loss: 1.9882 - accuracy: 0.4068 - val_loss: 1.6553 - val_accuracy: 0.4103\n",
            "Epoch 2/10\n",
            "6377/6377 [==============================] - 49s 8ms/sample - loss: 1.3877 - accuracy: 0.5559 - val_loss: 1.2533 - val_accuracy: 0.5933\n",
            "Epoch 3/10\n",
            "6377/6377 [==============================] - 49s 8ms/sample - loss: 1.1423 - accuracy: 0.6189 - val_loss: 1.0364 - val_accuracy: 0.6492\n",
            "Epoch 4/10\n",
            "6377/6377 [==============================] - 50s 8ms/sample - loss: 0.9353 - accuracy: 0.6771 - val_loss: 0.9503 - val_accuracy: 0.6812\n",
            "Epoch 5/10\n",
            "6377/6377 [==============================] - 49s 8ms/sample - loss: 0.8510 - accuracy: 0.7082 - val_loss: 0.8999 - val_accuracy: 0.7123\n",
            "Epoch 6/10\n",
            "6377/6377 [==============================] - 49s 8ms/sample - loss: 0.8167 - accuracy: 0.7220 - val_loss: 0.9184 - val_accuracy: 0.7043\n",
            "Epoch 7/10\n",
            "6377/6377 [==============================] - 49s 8ms/sample - loss: 0.7196 - accuracy: 0.7629 - val_loss: 0.8902 - val_accuracy: 0.7265\n",
            "Epoch 8/10\n",
            "6377/6377 [==============================] - 50s 8ms/sample - loss: 0.6203 - accuracy: 0.7976 - val_loss: 0.8736 - val_accuracy: 0.7425\n",
            "Epoch 9/10\n",
            "6377/6377 [==============================] - 51s 8ms/sample - loss: 0.5507 - accuracy: 0.8275 - val_loss: 0.8217 - val_accuracy: 0.7451\n",
            "Epoch 10/10\n",
            "6377/6377 [==============================] - 52s 8ms/sample - loss: 0.4829 - accuracy: 0.8546 - val_loss: 0.8002 - val_accuracy: 0.7780\n",
            "Saved trained model at results/Reuters_3b.h5 \n",
            "--------------------------\n"
          ],
          "name": "stdout"
        }
      ]
    },
    {
      "cell_type": "code",
      "metadata": {
        "id": "ciKPoMwNELV0",
        "colab_type": "code",
        "colab": {},
        "outputId": "8606e019-a314-4d99-aef8-8e9f2f5fcc54"
      },
      "source": [
        "# Get the training time\n",
        "train_time = train_rt.process_time\n",
        "train_time # in seconds"
      ],
      "execution_count": null,
      "outputs": [
        {
          "output_type": "execute_result",
          "data": {
            "text/plain": [
              "504.947276"
            ]
          },
          "metadata": {
            "tags": []
          },
          "execution_count": 170
        }
      ]
    },
    {
      "cell_type": "code",
      "metadata": {
        "id": "oWFUrKBYELV3",
        "colab_type": "code",
        "colab": {},
        "outputId": "eb9dc9f3-a32d-4c57-c8ed-6c9676c408f0"
      },
      "source": [
        "print(f\"train_acc: {history.history['accuracy'][-1]}, val_acc: {history.history['val_accuracy'][-1]}\")"
      ],
      "execution_count": null,
      "outputs": [
        {
          "output_type": "stream",
          "text": [
            "train_acc: 0.8546338677406311, val_acc: 0.7779751420021057\n"
          ],
          "name": "stdout"
        }
      ]
    },
    {
      "cell_type": "markdown",
      "metadata": {
        "id": "A1JHJTDmELV5",
        "colab_type": "text"
      },
      "source": [
        "### 3.3.b Model Testing"
      ]
    },
    {
      "cell_type": "code",
      "metadata": {
        "id": "6glZIDifELV5",
        "colab_type": "code",
        "colab": {},
        "outputId": "6a6bb506-cd0f-49bd-fcbf-47a69f24a385"
      },
      "source": [
        "test_rt = TestRuntimeCallback()\n",
        "test_loss, test_accuracy = model_3b.evaluate(test_data_sm_rnn, one_hot_test_labels_sm, callbacks=[test_rt], verbose=0)\n",
        "print(f\"test_accuracy={test_accuracy}, test_loss={test_loss}\")"
      ],
      "execution_count": null,
      "outputs": [
        {
          "output_type": "stream",
          "text": [
            "test_accuracy=0.7613390684127808, test_loss=0.8686605364921026\n"
          ],
          "name": "stdout"
        }
      ]
    },
    {
      "cell_type": "code",
      "metadata": {
        "id": "EV9JWL_cELV9",
        "colab_type": "code",
        "colab": {},
        "outputId": "3c1e75f4-391f-49b0-ef26-002b16f10714"
      },
      "source": [
        "# Get the test time\n",
        "test_time = test_rt.process_time\n",
        "test_time # in seconds"
      ],
      "execution_count": null,
      "outputs": [
        {
          "output_type": "execute_result",
          "data": {
            "text/plain": [
              "8.89068"
            ]
          },
          "metadata": {
            "tags": []
          },
          "execution_count": 173
        }
      ]
    },
    {
      "cell_type": "markdown",
      "metadata": {
        "id": "gM0H7ygZELV-",
        "colab_type": "text"
      },
      "source": [
        "### 3.3.c Model Performance"
      ]
    },
    {
      "cell_type": "code",
      "metadata": {
        "id": "wHTGarJSELV_",
        "colab_type": "code",
        "colab": {},
        "outputId": "94d6be28-7f0e-4831-98c1-df06e72e0a98"
      },
      "source": [
        "# Plot learning curves for model\n",
        "pd.DataFrame(history.history).plot(figsize=(8, 5))\n",
        "plt.grid(True)\n",
        "plt.gca().set_ylim(0, 1.5) # set the vertical range to [0-1]\n",
        "plt.savefig(\"figures/learning_curves_model_3b\", tight_layout=False)\n",
        "plt.show()"
      ],
      "execution_count": null,
      "outputs": [
        {
          "output_type": "display_data",
          "data": {
            "image/png": "[encoded data removed]",
            "text/plain": [
              "<Figure size 576x360 with 1 Axes>"
            ]
          },
          "metadata": {
            "tags": [],
            "needs_background": "light"
          }
        }
      ]
    },
    {
      "cell_type": "code",
      "metadata": {
        "id": "nlahyXrcELWB",
        "colab_type": "code",
        "colab": {}
      },
      "source": [
        "history_dict = history.history.copy()\n",
        "# history_dict['train_accuracy'] = history_dict.pop('accuracy') # rename the the key to 'test_accuracy'\n",
        "history_df=pd.DataFrame(history_dict)"
      ],
      "execution_count": null,
      "outputs": []
    },
    {
      "cell_type": "code",
      "metadata": {
        "id": "DYqDVQa-ELWC",
        "colab_type": "code",
        "colab": {},
        "outputId": "1b768de2-f9da-47b5-dd3f-58a00005bf8e"
      },
      "source": [
        "results_df3b = history_df.iloc[-1:].copy()\n",
        "results_df3b.insert(0,'model','LSTM RNN with Drop') # want the model name to appear first\n",
        "results_df3b['test_accuracy'] = test_accuracy\n",
        "results_df3b['test_loss'] = test_loss\n",
        "results_df3b['training time (sec)'] = train_time      \n",
        "results_df3b['testing time (sec)'] = test_time     \n",
        "results_df3b"
      ],
      "execution_count": null,
      "outputs": [
        {
          "output_type": "execute_result",
          "data": {
            "text/html": [
              "<div>\n",
              "<style scoped>\n",
              "    .dataframe tbody tr th:only-of-type {\n",
              "        vertical-align: middle;\n",
              "    }\n",
              "\n",
              "    .dataframe tbody tr th {\n",
              "        vertical-align: top;\n",
              "    }\n",
              "\n",
              "    .dataframe thead th {\n",
              "        text-align: right;\n",
              "    }\n",
              "</style>\n",
              "<table border=\"1\" class=\"dataframe\">\n",
              "  <thead>\n",
              "    <tr style=\"text-align: right;\">\n",
              "      <th></th>\n",
              "      <th>model</th>\n",
              "      <th>loss</th>\n",
              "      <th>accuracy</th>\n",
              "      <th>val_loss</th>\n",
              "      <th>val_accuracy</th>\n",
              "      <th>test_loss</th>\n",
              "      <th>test_accuracy</th>\n",
              "      <th>training time (sec)</th>\n",
              "      <th>testing time (sec)</th>\n",
              "    </tr>\n",
              "  </thead>\n",
              "  <tbody>\n",
              "    <tr>\n",
              "      <th>9</th>\n",
              "      <td>LSTM RNN with Drop</td>\n",
              "      <td>0.482945</td>\n",
              "      <td>0.854634</td>\n",
              "      <td>0.800173</td>\n",
              "      <td>0.777975</td>\n",
              "      <td>0.868661</td>\n",
              "      <td>0.761339</td>\n",
              "      <td>504.947276</td>\n",
              "      <td>8.89068</td>\n",
              "    </tr>\n",
              "  </tbody>\n",
              "</table>\n",
              "</div>"
            ],
            "text/plain": [
              "                model      loss  accuracy  val_loss  val_accuracy  test_loss  \\\n",
              "9  LSTM RNN with Drop  0.482945  0.854634  0.800173      0.777975   0.868661   \n",
              "\n",
              "   test_accuracy  training time (sec)  testing time (sec)  \n",
              "9       0.761339           504.947276             8.89068  "
            ]
          },
          "metadata": {
            "tags": []
          },
          "execution_count": 177
        }
      ]
    },
    {
      "cell_type": "markdown",
      "metadata": {
        "id": "3x6MFXTbELWF",
        "colab_type": "text"
      },
      "source": [
        "## 3.4 Variational RNN"
      ]
    },
    {
      "cell_type": "code",
      "metadata": {
        "id": "LS4wNL_MELWG",
        "colab_type": "code",
        "colab": {},
        "outputId": "19eca0dc-c334-4053-ed4e-0c2abac7d122"
      },
      "source": [
        "model_3c = Sequential()\n",
        "model_3c.add(Embedding(input_dim = voc_size, output_dim = 64, input_length = 193))\n",
        "# model_3c.add(layers.SpatialDropout1D(0.2))\n",
        "model_3c.add(LSTM(units = 100, dropout=0.2, recurrent_dropout=0.2))\n",
        "model_3c.add(Dense(units = 21, activation='softmax'))\n",
        "\n",
        "model_3c.summary()"
      ],
      "execution_count": null,
      "outputs": [
        {
          "output_type": "stream",
          "text": [
            "Model: \"sequential_3\"\n",
            "_________________________________________________________________\n",
            "Layer (type)                 Output Shape              Param #   \n",
            "=================================================================\n",
            "embedding_3 (Embedding)      (None, 193, 64)           640000    \n",
            "_________________________________________________________________\n",
            "lstm_3 (LSTM)                (None, 100)               66000     \n",
            "_________________________________________________________________\n",
            "dense_3 (Dense)              (None, 21)                2121      \n",
            "=================================================================\n",
            "Total params: 708,121\n",
            "Trainable params: 708,121\n",
            "Non-trainable params: 0\n",
            "_________________________________________________________________\n"
          ],
          "name": "stdout"
        }
      ]
    },
    {
      "cell_type": "code",
      "metadata": {
        "id": "mEETBEYQELWI",
        "colab_type": "code",
        "colab": {}
      },
      "source": [
        "model_3c.compile(optimizer='adam',\n",
        "              loss='categorical_crossentropy',\n",
        "              metrics=['accuracy'])"
      ],
      "execution_count": null,
      "outputs": []
    },
    {
      "cell_type": "markdown",
      "metadata": {
        "id": "FgBJTnQsELWJ",
        "colab_type": "text"
      },
      "source": [
        "### 3.4.a Model Training"
      ]
    },
    {
      "cell_type": "code",
      "metadata": {
        "id": "FjtMk7cGELWJ",
        "colab_type": "code",
        "colab": {},
        "outputId": "c3f43d13-df0e-45c1-9b1a-89e6c1303de9"
      },
      "source": [
        "train_rt = TrainRuntimeCallback()\n",
        "history = model_3c.fit(train_data_sm_rnn,\n",
        "                    one_hot_train_labels_sm,\n",
        "                    callbacks = [train_rt],\n",
        "                    epochs=10,\n",
        "                    batch_size=100,\n",
        "#                   validation_data=(val_data_sm_rnn, one_hot_val_labels_sm))\n",
        "                    validation_split = 0.15)   # comment out if setting validation_data value.\n",
        "\n",
        "# Saving models locally after fitting\n",
        "save_dir = \"results/\"\n",
        "model_name = 'Reuters_3c.h5'\n",
        "model_path = os.path.join(save_dir, model_name)\n",
        "model_3c.save(model_path)\n",
        "print('Saved trained model at %s ' % model_path)\n",
        "print('--------------------------')"
      ],
      "execution_count": null,
      "outputs": [
        {
          "output_type": "stream",
          "text": [
            "Train on 6377 samples, validate on 1126 samples\n",
            "Epoch 1/10\n",
            "6377/6377 [==============================] - 60s 9ms/sample - loss: 1.9490 - accuracy: 0.4112 - val_loss: 1.6870 - val_accuracy: 0.4103\n",
            "Epoch 2/10\n",
            "6377/6377 [==============================] - 52s 8ms/sample - loss: 1.5230 - accuracy: 0.4999 - val_loss: 1.3167 - val_accuracy: 0.5799\n",
            "Epoch 3/10\n",
            "6377/6377 [==============================] - 52s 8ms/sample - loss: 1.2850 - accuracy: 0.5871 - val_loss: 1.2110 - val_accuracy: 0.6048\n",
            "Epoch 4/10\n",
            "6377/6377 [==============================] - 54s 9ms/sample - loss: 1.1123 - accuracy: 0.6348 - val_loss: 1.0976 - val_accuracy: 0.6190\n",
            "Epoch 5/10\n",
            "6377/6377 [==============================] - 53s 8ms/sample - loss: 0.9631 - accuracy: 0.6712 - val_loss: 0.9842 - val_accuracy: 0.6758\n",
            "Epoch 6/10\n",
            "6377/6377 [==============================] - 55s 9ms/sample - loss: 0.8484 - accuracy: 0.7157 - val_loss: 0.9661 - val_accuracy: 0.7025\n",
            "Epoch 7/10\n",
            "6377/6377 [==============================] - 55s 9ms/sample - loss: 0.7716 - accuracy: 0.7439 - val_loss: 0.8959 - val_accuracy: 0.7149\n",
            "Epoch 8/10\n",
            "6377/6377 [==============================] - 60s 9ms/sample - loss: 0.6889 - accuracy: 0.7668 - val_loss: 0.8973 - val_accuracy: 0.7265\n",
            "Epoch 9/10\n",
            "6377/6377 [==============================] - 56s 9ms/sample - loss: 0.6161 - accuracy: 0.7963 - val_loss: 0.9087 - val_accuracy: 0.7371\n",
            "Epoch 10/10\n",
            "6377/6377 [==============================] - 58s 9ms/sample - loss: 0.5492 - accuracy: 0.8250 - val_loss: 0.8867 - val_accuracy: 0.7487\n",
            "Saved trained model at results/Reuters_3c.h5 \n",
            "--------------------------\n"
          ],
          "name": "stdout"
        }
      ]
    },
    {
      "cell_type": "code",
      "metadata": {
        "id": "TSsOKoGDELWK",
        "colab_type": "code",
        "colab": {},
        "outputId": "a60b1358-cd7e-49f5-8b64-9712a92d1ca8"
      },
      "source": [
        "# Get the training time\n",
        "train_time = train_rt.process_time\n",
        "train_time # in seconds"
      ],
      "execution_count": null,
      "outputs": [
        {
          "output_type": "execute_result",
          "data": {
            "text/plain": [
              "554.97682"
            ]
          },
          "metadata": {
            "tags": []
          },
          "execution_count": 181
        }
      ]
    },
    {
      "cell_type": "code",
      "metadata": {
        "id": "KTM-ShIgELWL",
        "colab_type": "code",
        "colab": {},
        "outputId": "a1afecd5-01da-4036-b6fb-87c78a5df63d"
      },
      "source": [
        "print(f\"train_acc: {history.history['accuracy'][-1]}, val_acc: {history.history['val_accuracy'][-1]}\")"
      ],
      "execution_count": null,
      "outputs": [
        {
          "output_type": "stream",
          "text": [
            "train_acc: 0.8249960541725159, val_acc: 0.74866783618927\n"
          ],
          "name": "stdout"
        }
      ]
    },
    {
      "cell_type": "markdown",
      "metadata": {
        "id": "cJTYW9gkELWM",
        "colab_type": "text"
      },
      "source": [
        "### 3.4.b Model Testing"
      ]
    },
    {
      "cell_type": "code",
      "metadata": {
        "id": "7iMrO8fVELWN",
        "colab_type": "code",
        "colab": {},
        "outputId": "93f68565-13ab-4dd0-9d1d-7e1be8baf8ba"
      },
      "source": [
        "test_rt = TestRuntimeCallback()\n",
        "test_loss, test_accuracy = model_3c.evaluate(test_data_sm_rnn, one_hot_test_labels_sm, callbacks=[test_rt], verbose=0)\n",
        "print(f\"test_accuracy={test_accuracy}, test_loss={test_loss}\")"
      ],
      "execution_count": null,
      "outputs": [
        {
          "output_type": "stream",
          "text": [
            "test_accuracy=0.7489200830459595, test_loss=0.903414309411018\n"
          ],
          "name": "stdout"
        }
      ]
    },
    {
      "cell_type": "code",
      "metadata": {
        "id": "nAx-3qhwELWO",
        "colab_type": "code",
        "colab": {},
        "outputId": "0bedf3d0-fd75-4ae4-c77f-5e3c3e9bc353"
      },
      "source": [
        "# Get the test time\n",
        "test_time = test_rt.process_time\n",
        "test_time # in seconds"
      ],
      "execution_count": null,
      "outputs": [
        {
          "output_type": "execute_result",
          "data": {
            "text/plain": [
              "9.567821"
            ]
          },
          "metadata": {
            "tags": []
          },
          "execution_count": 184
        }
      ]
    },
    {
      "cell_type": "markdown",
      "metadata": {
        "id": "6IpIGYBmELWP",
        "colab_type": "text"
      },
      "source": [
        "### 3.4.c Model Performance"
      ]
    },
    {
      "cell_type": "code",
      "metadata": {
        "id": "_xln0FY8ELWQ",
        "colab_type": "code",
        "colab": {},
        "outputId": "3b5c2a9e-3dc9-42e5-8ae4-9af9bca6259e"
      },
      "source": [
        "# Plot learning curves for model\n",
        "pd.DataFrame(history.history).plot(figsize=(8, 5))\n",
        "plt.grid(True)\n",
        "plt.gca().set_ylim(0, 1.5) # set the vertical range to [0-1]\n",
        "plt.savefig(\"figures/learning_curves_model_3c\", tight_layout=False)\n",
        "plt.show()"
      ],
      "execution_count": null,
      "outputs": [
        {
          "output_type": "display_data",
          "data": {
            "image/png": "[encoded data removed]",
            "text/plain": [
              "<Figure size 576x360 with 1 Axes>"
            ]
          },
          "metadata": {
            "tags": [],
            "needs_background": "light"
          }
        }
      ]
    },
    {
      "cell_type": "code",
      "metadata": {
        "id": "yBwgMBa6ELWT",
        "colab_type": "code",
        "colab": {}
      },
      "source": [
        "history_dict = history.history.copy()\n",
        "# history_dict['train_accuracy'] = history_dict.pop('accuracy') # rename the the key to 'test_accuracy'\n",
        "history_df=pd.DataFrame(history_dict)"
      ],
      "execution_count": null,
      "outputs": []
    },
    {
      "cell_type": "code",
      "metadata": {
        "id": "4wVS5V07ELWU",
        "colab_type": "code",
        "colab": {},
        "outputId": "bdde72d3-065d-4573-def8-f1d4c52e21fd"
      },
      "source": [
        "results_df3c = history_df.iloc[-1:].copy()\n",
        "results_df3c.insert(0,'model','Variational RNN with Drop/Recurrent Drop') # want the model name to appear first\n",
        "results_df3c['test_accuracy'] = test_accuracy\n",
        "results_df3c['test_loss'] = test_loss\n",
        "results_df3c['training time (sec)'] = train_time      \n",
        "results_df3c['testing time (sec)'] = test_time     \n",
        "results_df3c"
      ],
      "execution_count": null,
      "outputs": [
        {
          "output_type": "execute_result",
          "data": {
            "text/html": [
              "<div>\n",
              "<style scoped>\n",
              "    .dataframe tbody tr th:only-of-type {\n",
              "        vertical-align: middle;\n",
              "    }\n",
              "\n",
              "    .dataframe tbody tr th {\n",
              "        vertical-align: top;\n",
              "    }\n",
              "\n",
              "    .dataframe thead th {\n",
              "        text-align: right;\n",
              "    }\n",
              "</style>\n",
              "<table border=\"1\" class=\"dataframe\">\n",
              "  <thead>\n",
              "    <tr style=\"text-align: right;\">\n",
              "      <th></th>\n",
              "      <th>model</th>\n",
              "      <th>loss</th>\n",
              "      <th>accuracy</th>\n",
              "      <th>val_loss</th>\n",
              "      <th>val_accuracy</th>\n",
              "      <th>test_accuracy</th>\n",
              "      <th>test_loss</th>\n",
              "      <th>training time (sec)</th>\n",
              "      <th>testing time (sec)</th>\n",
              "    </tr>\n",
              "  </thead>\n",
              "  <tbody>\n",
              "    <tr>\n",
              "      <th>9</th>\n",
              "      <td>Variational RNN with Drop/Recurrent Drop</td>\n",
              "      <td>0.549221</td>\n",
              "      <td>0.824996</td>\n",
              "      <td>0.886675</td>\n",
              "      <td>0.748668</td>\n",
              "      <td>0.74892</td>\n",
              "      <td>0.903414</td>\n",
              "      <td>554.97682</td>\n",
              "      <td>9.567821</td>\n",
              "    </tr>\n",
              "  </tbody>\n",
              "</table>\n",
              "</div>"
            ],
            "text/plain": [
              "                                      model      loss  accuracy  val_loss  \\\n",
              "9  Variational RNN with Drop/Recurrent Drop  0.549221  0.824996  0.886675   \n",
              "\n",
              "   val_accuracy  test_accuracy  test_loss  training time (sec)  \\\n",
              "9      0.748668        0.74892   0.903414            554.97682   \n",
              "\n",
              "   testing time (sec)  \n",
              "9            9.567821  "
            ]
          },
          "metadata": {
            "tags": []
          },
          "execution_count": 187
        }
      ]
    },
    {
      "cell_type": "code",
      "metadata": {
        "id": "mlXTSn_oELWW",
        "colab_type": "code",
        "colab": {},
        "outputId": "ec167770-5f1b-4c5a-c851-d2dc82ecf714"
      },
      "source": [
        "results_df3=results_df3.append(results_df3a,ignore_index=True)\n",
        "results_df3=results_df3.append(results_df3b,ignore_index=True)\n",
        "results_df3=results_df3.append(results_df3c,ignore_index=True)\n",
        "results_df3"
      ],
      "execution_count": null,
      "outputs": [
        {
          "output_type": "execute_result",
          "data": {
            "text/html": [
              "<div>\n",
              "<style scoped>\n",
              "    .dataframe tbody tr th:only-of-type {\n",
              "        vertical-align: middle;\n",
              "    }\n",
              "\n",
              "    .dataframe tbody tr th {\n",
              "        vertical-align: top;\n",
              "    }\n",
              "\n",
              "    .dataframe thead th {\n",
              "        text-align: right;\n",
              "    }\n",
              "</style>\n",
              "<table border=\"1\" class=\"dataframe\">\n",
              "  <thead>\n",
              "    <tr style=\"text-align: right;\">\n",
              "      <th></th>\n",
              "      <th>model</th>\n",
              "      <th>loss</th>\n",
              "      <th>accuracy</th>\n",
              "      <th>val_loss</th>\n",
              "      <th>val_accuracy</th>\n",
              "      <th>test_accuracy</th>\n",
              "      <th>test_loss</th>\n",
              "      <th>training time (sec)</th>\n",
              "      <th>testing time (sec)</th>\n",
              "    </tr>\n",
              "  </thead>\n",
              "  <tbody>\n",
              "    <tr>\n",
              "      <th>0</th>\n",
              "      <td>LSTM RNN baseline</td>\n",
              "      <td>0.572972</td>\n",
              "      <td>0.821233</td>\n",
              "      <td>0.923595</td>\n",
              "      <td>0.739787</td>\n",
              "      <td>0.755940</td>\n",
              "      <td>0.883963</td>\n",
              "      <td>295.388199</td>\n",
              "      <td>4.710983</td>\n",
              "    </tr>\n",
              "    <tr>\n",
              "      <th>1</th>\n",
              "      <td>LSTM RNN (100 memory cell units)</td>\n",
              "      <td>0.414566</td>\n",
              "      <td>0.877842</td>\n",
              "      <td>0.839277</td>\n",
              "      <td>0.753996</td>\n",
              "      <td>0.760799</td>\n",
              "      <td>0.901095</td>\n",
              "      <td>525.963719</td>\n",
              "      <td>9.774533</td>\n",
              "    </tr>\n",
              "    <tr>\n",
              "      <th>2</th>\n",
              "      <td>LSTM RNN with Drop</td>\n",
              "      <td>0.482945</td>\n",
              "      <td>0.854634</td>\n",
              "      <td>0.800173</td>\n",
              "      <td>0.777975</td>\n",
              "      <td>0.761339</td>\n",
              "      <td>0.868661</td>\n",
              "      <td>504.947276</td>\n",
              "      <td>8.890680</td>\n",
              "    </tr>\n",
              "    <tr>\n",
              "      <th>3</th>\n",
              "      <td>Variational RNN with Drop/Recurrent Drop</td>\n",
              "      <td>0.549221</td>\n",
              "      <td>0.824996</td>\n",
              "      <td>0.886675</td>\n",
              "      <td>0.748668</td>\n",
              "      <td>0.748920</td>\n",
              "      <td>0.903414</td>\n",
              "      <td>554.976820</td>\n",
              "      <td>9.567821</td>\n",
              "    </tr>\n",
              "  </tbody>\n",
              "</table>\n",
              "</div>"
            ],
            "text/plain": [
              "                                      model      loss  accuracy  val_loss  \\\n",
              "0                         LSTM RNN baseline  0.572972  0.821233  0.923595   \n",
              "1          LSTM RNN (100 memory cell units)  0.414566  0.877842  0.839277   \n",
              "2                        LSTM RNN with Drop  0.482945  0.854634  0.800173   \n",
              "3  Variational RNN with Drop/Recurrent Drop  0.549221  0.824996  0.886675   \n",
              "\n",
              "   val_accuracy  test_accuracy  test_loss  training time (sec)  \\\n",
              "0      0.739787       0.755940   0.883963           295.388199   \n",
              "1      0.753996       0.760799   0.901095           525.963719   \n",
              "2      0.777975       0.761339   0.868661           504.947276   \n",
              "3      0.748668       0.748920   0.903414           554.976820   \n",
              "\n",
              "   testing time (sec)  \n",
              "0            4.710983  \n",
              "1            9.774533  \n",
              "2            8.890680  \n",
              "3            9.567821  "
            ]
          },
          "metadata": {
            "tags": []
          },
          "execution_count": 188
        }
      ]
    },
    {
      "cell_type": "code",
      "metadata": {
        "id": "Ws3sKHI7ELWX",
        "colab_type": "code",
        "colab": {}
      },
      "source": [
        "results_df3.to_pickle(\"results3.pkl\") "
      ],
      "execution_count": null,
      "outputs": []
    },
    {
      "cell_type": "markdown",
      "metadata": {
        "id": "ak0e6BBsELWZ",
        "colab_type": "text"
      },
      "source": [
        "# 4. Experiment 4: CNN"
      ]
    },
    {
      "cell_type": "code",
      "metadata": {
        "id": "vOEsPmasELWZ",
        "colab_type": "code",
        "colab": {}
      },
      "source": [
        "keras.backend.clear_session()\n",
        "np.random.seed(42)\n",
        "tf.random.set_seed(42)"
      ],
      "execution_count": null,
      "outputs": []
    },
    {
      "cell_type": "markdown",
      "metadata": {
        "id": "AL_0p1wEELWb",
        "colab_type": "text"
      },
      "source": [
        "## 4.1 1D CNN"
      ]
    },
    {
      "cell_type": "code",
      "metadata": {
        "id": "okwhVy0uELWb",
        "colab_type": "code",
        "colab": {},
        "outputId": "b6b6cf72-8e5a-4d6b-f494-9d9257afb736"
      },
      "source": [
        "model_4 = Sequential()\n",
        "model_4.add(Embedding(input_dim = voc_size, output_dim = 64, input_length=193))\n",
        "model_4.add(Conv1D(filters = 32, kernel_size = 3, activation='relu')) \n",
        "model_4.add(Flatten())\n",
        "model_4.add(Dense(units = 512, activation='relu')) \n",
        "# model_4.add(layers.Dropout(0.5)) \n",
        "model_4.add(Dense(units = 21, activation='softmax'))\n",
        "\n",
        "model_4.summary()"
      ],
      "execution_count": null,
      "outputs": [
        {
          "output_type": "stream",
          "text": [
            "Model: \"sequential\"\n",
            "_________________________________________________________________\n",
            "Layer (type)                 Output Shape              Param #   \n",
            "=================================================================\n",
            "embedding (Embedding)        (None, 193, 64)           640000    \n",
            "_________________________________________________________________\n",
            "conv1d (Conv1D)              (None, 191, 32)           6176      \n",
            "_________________________________________________________________\n",
            "flatten (Flatten)            (None, 6112)              0         \n",
            "_________________________________________________________________\n",
            "dense (Dense)                (None, 512)               3129856   \n",
            "_________________________________________________________________\n",
            "dense_1 (Dense)              (None, 21)                10773     \n",
            "=================================================================\n",
            "Total params: 3,786,805\n",
            "Trainable params: 3,786,805\n",
            "Non-trainable params: 0\n",
            "_________________________________________________________________\n"
          ],
          "name": "stdout"
        }
      ]
    },
    {
      "cell_type": "code",
      "metadata": {
        "id": "JVYbU6kJELWc",
        "colab_type": "code",
        "colab": {}
      },
      "source": [
        "model_4.compile(optimizer='adam',\n",
        "              loss='categorical_crossentropy',\n",
        "              metrics=['accuracy'])"
      ],
      "execution_count": null,
      "outputs": []
    },
    {
      "cell_type": "markdown",
      "metadata": {
        "id": "9S_To-SNELWd",
        "colab_type": "text"
      },
      "source": [
        "### 4.1.a Model Training"
      ]
    },
    {
      "cell_type": "code",
      "metadata": {
        "id": "T--hiS5fELWd",
        "colab_type": "code",
        "colab": {},
        "outputId": "8a738b79-b191-404a-fd7d-4fea65843b8a"
      },
      "source": [
        "train_rt = TrainRuntimeCallback()\n",
        "history = model_4.fit(train_data_sm_rnn, one_hot_train_labels_sm,\n",
        "                    callbacks = [train_rt],\n",
        "                    epochs=10,\n",
        "                    batch_size=100,\n",
        "                    validation_split=0.15)\n",
        "\n",
        "# Saving models locally after fitting\n",
        "save_dir = \"results/\"\n",
        "model_name = 'Reuters_4.h5'\n",
        "model_path = os.path.join(save_dir, model_name)\n",
        "model_4.save(model_path)\n",
        "print('Saved trained model at %s ' % model_path)\n",
        "print('--------------------------')"
      ],
      "execution_count": null,
      "outputs": [
        {
          "output_type": "stream",
          "text": [
            "Train on 6377 samples, validate on 1126 samples\n",
            "Epoch 1/10\n",
            "6377/6377 [==============================] - 7s 1ms/sample - loss: 1.3833 - accuracy: 0.5499 - val_loss: 0.9843 - val_accuracy: 0.6767\n",
            "Epoch 2/10\n",
            "6377/6377 [==============================] - 7s 1ms/sample - loss: 0.7232 - accuracy: 0.7913 - val_loss: 0.7030 - val_accuracy: 0.7975\n",
            "Epoch 3/10\n",
            "6377/6377 [==============================] - 7s 1ms/sample - loss: 0.3649 - accuracy: 0.9014 - val_loss: 0.6743 - val_accuracy: 0.8215\n",
            "Epoch 4/10\n",
            "6377/6377 [==============================] - 7s 1ms/sample - loss: 0.2002 - accuracy: 0.9541 - val_loss: 0.6686 - val_accuracy: 0.8419\n",
            "Epoch 5/10\n",
            "6377/6377 [==============================] - 7s 1ms/sample - loss: 0.1423 - accuracy: 0.9644 - val_loss: 0.7968 - val_accuracy: 0.8064\n",
            "Epoch 6/10\n",
            "6377/6377 [==============================] - 7s 1ms/sample - loss: 0.1273 - accuracy: 0.9644 - val_loss: 0.7094 - val_accuracy: 0.8384\n",
            "Epoch 7/10\n",
            "6377/6377 [==============================] - 6s 963us/sample - loss: 0.1090 - accuracy: 0.9650 - val_loss: 0.7780 - val_accuracy: 0.8250\n",
            "Epoch 8/10\n",
            "6377/6377 [==============================] - 7s 1ms/sample - loss: 0.1065 - accuracy: 0.9679 - val_loss: 0.7424 - val_accuracy: 0.8419\n",
            "Epoch 9/10\n",
            "6377/6377 [==============================] - 6s 990us/sample - loss: 0.0920 - accuracy: 0.9700 - val_loss: 0.7334 - val_accuracy: 0.8304\n",
            "Epoch 10/10\n",
            "6377/6377 [==============================] - 6s 979us/sample - loss: 0.0913 - accuracy: 0.9671 - val_loss: 0.8072 - val_accuracy: 0.8206\n",
            "Saved trained model at results/Reuters_4.h5 \n",
            "--------------------------\n"
          ],
          "name": "stdout"
        }
      ]
    },
    {
      "cell_type": "code",
      "metadata": {
        "id": "_nASiag-ELWe",
        "colab_type": "code",
        "colab": {},
        "outputId": "e67a96c7-1657-4ad2-c018-93b1de7176b8"
      },
      "source": [
        "# Get the training time\n",
        "train_time = train_rt.process_time\n",
        "train_time # in seconds"
      ],
      "execution_count": null,
      "outputs": [
        {
          "output_type": "execute_result",
          "data": {
            "text/plain": [
              "67.70069"
            ]
          },
          "metadata": {
            "tags": []
          },
          "execution_count": 194
        }
      ]
    },
    {
      "cell_type": "code",
      "metadata": {
        "id": "pvpRV2yFELWf",
        "colab_type": "code",
        "colab": {},
        "outputId": "8b64b887-a958-4a0a-f3d2-2e70be61cca3"
      },
      "source": [
        "print(f\"train_acc: {history.history['accuracy'][-1]}, val_acc: {history.history['val_accuracy'][-1]}\")"
      ],
      "execution_count": null,
      "outputs": [
        {
          "output_type": "stream",
          "text": [
            "train_acc: 0.967069149017334, val_acc: 0.8206039071083069\n"
          ],
          "name": "stdout"
        }
      ]
    },
    {
      "cell_type": "markdown",
      "metadata": {
        "id": "4NkmjWyiELWg",
        "colab_type": "text"
      },
      "source": [
        "### 4.1.b Model Testing"
      ]
    },
    {
      "cell_type": "code",
      "metadata": {
        "id": "UMa37bxbELWh",
        "colab_type": "code",
        "colab": {},
        "outputId": "9799f4c2-94bf-43d4-cea5-1c6a3e1ae26d"
      },
      "source": [
        "test_rt = TestRuntimeCallback()\n",
        "test_loss, test_accuracy = model_4.evaluate(test_data_sm_rnn, one_hot_test_labels_sm, callbacks=[test_rt], verbose=0)\n",
        "print(f\"test_accuracy={test_accuracy}, test_loss={test_loss}\")"
      ],
      "execution_count": null,
      "outputs": [
        {
          "output_type": "stream",
          "text": [
            "test_accuracy=0.8245140314102173, test_loss=0.8112107136852026\n"
          ],
          "name": "stdout"
        }
      ]
    },
    {
      "cell_type": "code",
      "metadata": {
        "id": "zXUYCo2zELWj",
        "colab_type": "code",
        "colab": {},
        "outputId": "c6534d0e-0f21-4789-8613-2b4532e09ba4"
      },
      "source": [
        "# Get the test time\n",
        "test_time = test_rt.process_time\n",
        "test_time # in seconds"
      ],
      "execution_count": null,
      "outputs": [
        {
          "output_type": "execute_result",
          "data": {
            "text/plain": [
              "0.411464"
            ]
          },
          "metadata": {
            "tags": []
          },
          "execution_count": 197
        }
      ]
    },
    {
      "cell_type": "markdown",
      "metadata": {
        "id": "1wDU3dECELWk",
        "colab_type": "text"
      },
      "source": [
        "### 4.1.c Model Performance"
      ]
    },
    {
      "cell_type": "code",
      "metadata": {
        "id": "HiLVMRgxELWk",
        "colab_type": "code",
        "colab": {},
        "outputId": "c870a20a-93d9-448c-955e-4553c25ef9b6"
      },
      "source": [
        "# Plot learning curves for model\n",
        "pd.DataFrame(history.history).plot(figsize=(8, 5))\n",
        "plt.grid(True)\n",
        "plt.gca().set_ylim(0, 1) # set the vertical range to [0-1]\n",
        "plt.savefig(\"figures/learning_curves_model_4\", tight_layout=False)\n",
        "plt.show()"
      ],
      "execution_count": null,
      "outputs": [
        {
          "output_type": "display_data",
          "data": {
            "image/png": "[encoded data removed]",
            "text/plain": [
              "<Figure size 576x360 with 1 Axes>"
            ]
          },
          "metadata": {
            "tags": [],
            "needs_background": "light"
          }
        }
      ]
    },
    {
      "cell_type": "code",
      "metadata": {
        "id": "PwunGa_tELWm",
        "colab_type": "code",
        "colab": {}
      },
      "source": [
        "history_dict = history.history.copy()\n",
        "# history_dict['train_accuracy'] = history_dict.pop('accuracy') # rename the the key to 'test_accuracy'\n",
        "history_df=pd.DataFrame(history_dict)"
      ],
      "execution_count": null,
      "outputs": []
    },
    {
      "cell_type": "code",
      "metadata": {
        "id": "tkhqYchXELWn",
        "colab_type": "code",
        "colab": {},
        "outputId": "8f86e57d-0d97-4db7-961a-249577a41998"
      },
      "source": [
        "results_df4 = history_df.iloc[-1:].copy()\n",
        "results_df4.insert(0,'model','1D CNN baseline') # want the model name to appear first\n",
        "results_df4['test_accuracy'] = test_accuracy\n",
        "results_df4['test_loss'] = test_loss\n",
        "results_df4['training time (sec)'] = train_time      \n",
        "results_df4['testing time (sec)'] = test_time      \n",
        "results_df4"
      ],
      "execution_count": null,
      "outputs": [
        {
          "output_type": "execute_result",
          "data": {
            "text/html": [
              "<div>\n",
              "<style scoped>\n",
              "    .dataframe tbody tr th:only-of-type {\n",
              "        vertical-align: middle;\n",
              "    }\n",
              "\n",
              "    .dataframe tbody tr th {\n",
              "        vertical-align: top;\n",
              "    }\n",
              "\n",
              "    .dataframe thead th {\n",
              "        text-align: right;\n",
              "    }\n",
              "</style>\n",
              "<table border=\"1\" class=\"dataframe\">\n",
              "  <thead>\n",
              "    <tr style=\"text-align: right;\">\n",
              "      <th></th>\n",
              "      <th>model</th>\n",
              "      <th>loss</th>\n",
              "      <th>accuracy</th>\n",
              "      <th>val_loss</th>\n",
              "      <th>val_accuracy</th>\n",
              "      <th>test_accuracy</th>\n",
              "      <th>test_loss</th>\n",
              "      <th>training time (sec)</th>\n",
              "      <th>testing time (sec)</th>\n",
              "    </tr>\n",
              "  </thead>\n",
              "  <tbody>\n",
              "    <tr>\n",
              "      <th>9</th>\n",
              "      <td>1D CNN baseline</td>\n",
              "      <td>0.091262</td>\n",
              "      <td>0.967069</td>\n",
              "      <td>0.807187</td>\n",
              "      <td>0.820604</td>\n",
              "      <td>0.824514</td>\n",
              "      <td>0.811211</td>\n",
              "      <td>67.70069</td>\n",
              "      <td>0.411464</td>\n",
              "    </tr>\n",
              "  </tbody>\n",
              "</table>\n",
              "</div>"
            ],
            "text/plain": [
              "             model      loss  accuracy  val_loss  val_accuracy  test_accuracy  \\\n",
              "9  1D CNN baseline  0.091262  0.967069  0.807187      0.820604       0.824514   \n",
              "\n",
              "   test_loss  training time (sec)  testing time (sec)  \n",
              "9   0.811211             67.70069            0.411464  "
            ]
          },
          "metadata": {
            "tags": []
          },
          "execution_count": 200
        }
      ]
    },
    {
      "cell_type": "markdown",
      "metadata": {
        "id": "E4YNGdpRELWp",
        "colab_type": "text"
      },
      "source": [
        "## 4.2 1D CNN w/50% dropout"
      ]
    },
    {
      "cell_type": "code",
      "metadata": {
        "id": "7qoMvE6TELWp",
        "colab_type": "code",
        "colab": {},
        "outputId": "0d8a6c81-c6ca-488f-ed14-afe304a9b0ae"
      },
      "source": [
        "model_4a = Sequential()\n",
        "model_4a.add(Embedding(input_dim = voc_size, output_dim = 64, input_length=193))\n",
        "model_4a.add(Conv1D(filters = 32, kernel_size = 3, activation='relu')) \n",
        "model_4a.add(Flatten())\n",
        "model_4a.add(Dense(units = 512, activation='relu')) \n",
        "model_4a.add(layers.Dropout(0.5)) \n",
        "model_4a.add(Dense(units = 21, activation='softmax'))\n",
        "\n",
        "model_4a.summary()"
      ],
      "execution_count": null,
      "outputs": [
        {
          "output_type": "stream",
          "text": [
            "Model: \"sequential_1\"\n",
            "_________________________________________________________________\n",
            "Layer (type)                 Output Shape              Param #   \n",
            "=================================================================\n",
            "embedding_1 (Embedding)      (None, 193, 64)           640000    \n",
            "_________________________________________________________________\n",
            "conv1d_1 (Conv1D)            (None, 191, 32)           6176      \n",
            "_________________________________________________________________\n",
            "flatten_1 (Flatten)          (None, 6112)              0         \n",
            "_________________________________________________________________\n",
            "dense_2 (Dense)              (None, 512)               3129856   \n",
            "_________________________________________________________________\n",
            "dropout (Dropout)            (None, 512)               0         \n",
            "_________________________________________________________________\n",
            "dense_3 (Dense)              (None, 21)                10773     \n",
            "=================================================================\n",
            "Total params: 3,786,805\n",
            "Trainable params: 3,786,805\n",
            "Non-trainable params: 0\n",
            "_________________________________________________________________\n"
          ],
          "name": "stdout"
        }
      ]
    },
    {
      "cell_type": "code",
      "metadata": {
        "id": "zZIn-askELWr",
        "colab_type": "code",
        "colab": {}
      },
      "source": [
        "model_4a.compile(optimizer='adam',\n",
        "              loss='categorical_crossentropy',\n",
        "              metrics=['accuracy'])"
      ],
      "execution_count": null,
      "outputs": []
    },
    {
      "cell_type": "markdown",
      "metadata": {
        "id": "ZFKmVb78ELWr",
        "colab_type": "text"
      },
      "source": [
        "### 4.2.a Model Training"
      ]
    },
    {
      "cell_type": "code",
      "metadata": {
        "id": "hMCTmkNzELWs",
        "colab_type": "code",
        "colab": {},
        "outputId": "f7428d17-3387-4789-f374-41b80211f1db"
      },
      "source": [
        "train_rt = TrainRuntimeCallback()\n",
        "history = model_4a.fit(train_data_sm_rnn, one_hot_train_labels_sm,\n",
        "                    callbacks = [train_rt],\n",
        "                    epochs=10,\n",
        "                    batch_size=100,\n",
        "                    validation_split=0.15)\n",
        "\n",
        "# Saving models locally after fitting\n",
        "save_dir = \"results/\"\n",
        "model_name = 'Reuters_4a.h5'\n",
        "model_path = os.path.join(save_dir, model_name)\n",
        "model_4a.save(model_path)\n",
        "print('Saved trained model at %s ' % model_path)\n",
        "print('--------------------------')"
      ],
      "execution_count": null,
      "outputs": [
        {
          "output_type": "stream",
          "text": [
            "Train on 6377 samples, validate on 1126 samples\n",
            "Epoch 1/10\n",
            "6377/6377 [==============================] - 9s 1ms/sample - loss: 1.4508 - accuracy: 0.5302 - val_loss: 1.0132 - val_accuracy: 0.6563\n",
            "Epoch 2/10\n",
            "6377/6377 [==============================] - 6s 993us/sample - loss: 0.8350 - accuracy: 0.7433 - val_loss: 0.7676 - val_accuracy: 0.7629\n",
            "Epoch 3/10\n",
            "6377/6377 [==============================] - 6s 1ms/sample - loss: 0.5047 - accuracy: 0.8587 - val_loss: 0.6110 - val_accuracy: 0.8437\n",
            "Epoch 4/10\n",
            "6377/6377 [==============================] - 7s 1ms/sample - loss: 0.2968 - accuracy: 0.9233 - val_loss: 0.6226 - val_accuracy: 0.8375\n",
            "Epoch 5/10\n",
            "6377/6377 [==============================] - 7s 1ms/sample - loss: 0.1934 - accuracy: 0.9517 - val_loss: 0.6738 - val_accuracy: 0.8464\n",
            "Epoch 6/10\n",
            "6377/6377 [==============================] - 6s 1ms/sample - loss: 0.1410 - accuracy: 0.9600 - val_loss: 0.7066 - val_accuracy: 0.8419\n",
            "Epoch 7/10\n",
            "6377/6377 [==============================] - 7s 1ms/sample - loss: 0.1226 - accuracy: 0.9647 - val_loss: 0.7156 - val_accuracy: 0.8375\n",
            "Epoch 8/10\n",
            "6377/6377 [==============================] - 11s 2ms/sample - loss: 0.1053 - accuracy: 0.9663 - val_loss: 0.7229 - val_accuracy: 0.8384\n",
            "Epoch 9/10\n",
            "6377/6377 [==============================] - 13s 2ms/sample - loss: 0.0925 - accuracy: 0.9694 - val_loss: 0.7319 - val_accuracy: 0.8393\n",
            "Epoch 10/10\n",
            "6377/6377 [==============================] - 9s 1ms/sample - loss: 0.0845 - accuracy: 0.9696 - val_loss: 0.7743 - val_accuracy: 0.8410\n",
            "Saved trained model at results/Reuters_4a.h5 \n",
            "--------------------------\n"
          ],
          "name": "stdout"
        }
      ]
    },
    {
      "cell_type": "code",
      "metadata": {
        "id": "z8vsbeoMELWt",
        "colab_type": "code",
        "colab": {},
        "outputId": "6e3b7e8c-e8e3-4ae6-ff27-d0c40529d9c5"
      },
      "source": [
        "# Get the training time\n",
        "train_time = train_rt.process_time\n",
        "train_time # in seconds"
      ],
      "execution_count": null,
      "outputs": [
        {
          "output_type": "execute_result",
          "data": {
            "text/plain": [
              "81.807369"
            ]
          },
          "metadata": {
            "tags": []
          },
          "execution_count": 204
        }
      ]
    },
    {
      "cell_type": "code",
      "metadata": {
        "id": "crziiskeELWu",
        "colab_type": "code",
        "colab": {},
        "outputId": "6363549b-83cc-4ceb-a096-f62980a17a82"
      },
      "source": [
        "print(f\"train_acc: {history.history['accuracy'][-1]}, val_acc: {history.history['val_accuracy'][-1]}\")"
      ],
      "execution_count": null,
      "outputs": [
        {
          "output_type": "stream",
          "text": [
            "train_acc: 0.9695781469345093, val_acc: 0.8410301804542542\n"
          ],
          "name": "stdout"
        }
      ]
    },
    {
      "cell_type": "markdown",
      "metadata": {
        "id": "5nmyOk8tELWw",
        "colab_type": "text"
      },
      "source": [
        "### 4.2.b Model Testing"
      ]
    },
    {
      "cell_type": "code",
      "metadata": {
        "id": "S5mVc6CRELWw",
        "colab_type": "code",
        "colab": {},
        "outputId": "102187a7-f8ca-42e4-c439-116940c86c24"
      },
      "source": [
        "test_rt = TestRuntimeCallback()\n",
        "test_loss, test_accuracy = model_4a.evaluate(test_data_sm_rnn, one_hot_test_labels_sm, callbacks=[test_rt], verbose=0)\n",
        "print(f\"test_accuracy={test_accuracy}, test_loss={test_loss}\")"
      ],
      "execution_count": null,
      "outputs": [
        {
          "output_type": "stream",
          "text": [
            "test_accuracy=0.8331533670425415, test_loss=0.792520973903829\n"
          ],
          "name": "stdout"
        }
      ]
    },
    {
      "cell_type": "code",
      "metadata": {
        "id": "FyLOKgrdELWy",
        "colab_type": "code",
        "colab": {},
        "outputId": "c10ebf88-3c30-4b2f-b5f0-4b1d8000b51f"
      },
      "source": [
        "# Get the test time\n",
        "test_time = test_rt.process_time\n",
        "test_time # in seconds"
      ],
      "execution_count": null,
      "outputs": [
        {
          "output_type": "execute_result",
          "data": {
            "text/plain": [
              "0.403489"
            ]
          },
          "metadata": {
            "tags": []
          },
          "execution_count": 207
        }
      ]
    },
    {
      "cell_type": "markdown",
      "metadata": {
        "id": "k9nviTaZELWz",
        "colab_type": "text"
      },
      "source": [
        "### 4.2.c Model Performance"
      ]
    },
    {
      "cell_type": "code",
      "metadata": {
        "id": "aT0YcOARELW0",
        "colab_type": "code",
        "colab": {},
        "outputId": "12d7e3e4-1ab6-4aa1-9d73-5afb5f5d4b5d"
      },
      "source": [
        "# Plot learning curves for model\n",
        "pd.DataFrame(history.history).plot(figsize=(8, 5))\n",
        "plt.grid(True)\n",
        "plt.gca().set_ylim(0, 1) # set the vertical range to [0-1]\n",
        "plt.savefig(\"figures/learning_curves_model_4a\", tight_layout=False)\n",
        "plt.show()"
      ],
      "execution_count": null,
      "outputs": [
        {
          "output_type": "display_data",
          "data": {
            "image/png": "[encoded data removed]",
            "text/plain": [
              "<Figure size 576x360 with 1 Axes>"
            ]
          },
          "metadata": {
            "tags": [],
            "needs_background": "light"
          }
        }
      ]
    },
    {
      "cell_type": "code",
      "metadata": {
        "id": "tvDtOWBPELW1",
        "colab_type": "code",
        "colab": {}
      },
      "source": [
        "history_dict = history.history.copy()\n",
        "# history_dict['train_accuracy'] = history_dict.pop('accuracy') # rename the the key to 'test_accuracy'\n",
        "history_df=pd.DataFrame(history_dict)"
      ],
      "execution_count": null,
      "outputs": []
    },
    {
      "cell_type": "code",
      "metadata": {
        "id": "KS7fG9s9ELW3",
        "colab_type": "code",
        "colab": {},
        "outputId": "5e746f97-a2b0-4c21-eec9-be332b8feef6"
      },
      "source": [
        "results_df4a = history_df.iloc[-1:].copy()\n",
        "results_df4a.insert(0,'model','1D CNN baseline with Drop') # want the model name to appear first\n",
        "results_df4a['test_accuracy'] = test_accuracy\n",
        "results_df4a['test_loss'] = test_loss\n",
        "results_df4a['training time (sec)'] = train_time      \n",
        "results_df4a['testing time (sec)'] = test_time      \n",
        "results_df4a"
      ],
      "execution_count": null,
      "outputs": [
        {
          "output_type": "execute_result",
          "data": {
            "text/html": [
              "<div>\n",
              "<style scoped>\n",
              "    .dataframe tbody tr th:only-of-type {\n",
              "        vertical-align: middle;\n",
              "    }\n",
              "\n",
              "    .dataframe tbody tr th {\n",
              "        vertical-align: top;\n",
              "    }\n",
              "\n",
              "    .dataframe thead th {\n",
              "        text-align: right;\n",
              "    }\n",
              "</style>\n",
              "<table border=\"1\" class=\"dataframe\">\n",
              "  <thead>\n",
              "    <tr style=\"text-align: right;\">\n",
              "      <th></th>\n",
              "      <th>model</th>\n",
              "      <th>loss</th>\n",
              "      <th>accuracy</th>\n",
              "      <th>val_loss</th>\n",
              "      <th>val_accuracy</th>\n",
              "      <th>test_accuracy</th>\n",
              "      <th>test_loss</th>\n",
              "      <th>training time (sec)</th>\n",
              "      <th>testing time (sec)</th>\n",
              "    </tr>\n",
              "  </thead>\n",
              "  <tbody>\n",
              "    <tr>\n",
              "      <th>9</th>\n",
              "      <td>1D CNN baseline with Drop</td>\n",
              "      <td>0.084531</td>\n",
              "      <td>0.969578</td>\n",
              "      <td>0.774338</td>\n",
              "      <td>0.84103</td>\n",
              "      <td>0.833153</td>\n",
              "      <td>0.792521</td>\n",
              "      <td>81.807369</td>\n",
              "      <td>0.403489</td>\n",
              "    </tr>\n",
              "  </tbody>\n",
              "</table>\n",
              "</div>"
            ],
            "text/plain": [
              "                       model      loss  accuracy  val_loss  val_accuracy  \\\n",
              "9  1D CNN baseline with Drop  0.084531  0.969578  0.774338       0.84103   \n",
              "\n",
              "   test_accuracy  test_loss  training time (sec)  testing time (sec)  \n",
              "9       0.833153   0.792521            81.807369            0.403489  "
            ]
          },
          "metadata": {
            "tags": []
          },
          "execution_count": 210
        }
      ]
    },
    {
      "cell_type": "markdown",
      "metadata": {
        "id": "u1zUn5AgELW5",
        "colab_type": "text"
      },
      "source": [
        "## 4.3 1D CNN w/50% dropout and max pooling"
      ]
    },
    {
      "cell_type": "code",
      "metadata": {
        "id": "bMdnDsQwELW5",
        "colab_type": "code",
        "colab": {},
        "outputId": "6cfe67d3-3922-4eab-9483-df6e12fad7d2"
      },
      "source": [
        "model_4b = Sequential()\n",
        "model_4b.add(Embedding(input_dim = voc_size, output_dim = 64, input_length=193))\n",
        "model_4b.add(Conv1D(filters = 32, kernel_size = 3, activation='relu')) \n",
        "model_4b.add(MaxPooling1D())\n",
        "model_4b.add(layers.Dropout(0.5))\n",
        "model_4b.add(Flatten())\n",
        "model_4b.add(Dense(units = 512, activation='relu')) \n",
        "model_4b.add(Dense(units = 21, activation='softmax'))\n",
        "\n",
        "model_4b.summary()"
      ],
      "execution_count": null,
      "outputs": [
        {
          "output_type": "stream",
          "text": [
            "Model: \"sequential_2\"\n",
            "_________________________________________________________________\n",
            "Layer (type)                 Output Shape              Param #   \n",
            "=================================================================\n",
            "embedding_2 (Embedding)      (None, 193, 64)           640000    \n",
            "_________________________________________________________________\n",
            "conv1d_2 (Conv1D)            (None, 191, 32)           6176      \n",
            "_________________________________________________________________\n",
            "max_pooling1d (MaxPooling1D) (None, 95, 32)            0         \n",
            "_________________________________________________________________\n",
            "dropout_1 (Dropout)          (None, 95, 32)            0         \n",
            "_________________________________________________________________\n",
            "flatten_2 (Flatten)          (None, 3040)              0         \n",
            "_________________________________________________________________\n",
            "dense_4 (Dense)              (None, 512)               1556992   \n",
            "_________________________________________________________________\n",
            "dense_5 (Dense)              (None, 21)                10773     \n",
            "=================================================================\n",
            "Total params: 2,213,941\n",
            "Trainable params: 2,213,941\n",
            "Non-trainable params: 0\n",
            "_________________________________________________________________\n"
          ],
          "name": "stdout"
        }
      ]
    },
    {
      "cell_type": "code",
      "metadata": {
        "id": "LxY2hfdUELW6",
        "colab_type": "code",
        "colab": {}
      },
      "source": [
        "model_4b.compile(optimizer='adam',\n",
        "              loss='categorical_crossentropy',\n",
        "              metrics=['accuracy'])"
      ],
      "execution_count": null,
      "outputs": []
    },
    {
      "cell_type": "markdown",
      "metadata": {
        "id": "SCnp3aN6ELW7",
        "colab_type": "text"
      },
      "source": [
        "### 4.3.a Model Training"
      ]
    },
    {
      "cell_type": "code",
      "metadata": {
        "id": "dSsYjsZjELW8",
        "colab_type": "code",
        "colab": {},
        "outputId": "5888cd32-f07e-467b-eb18-45be3be9aa41"
      },
      "source": [
        "train_rt = TrainRuntimeCallback()\n",
        "history = model_4b.fit(train_data_sm_rnn, one_hot_train_labels_sm,\n",
        "                    callbacks = [train_rt],\n",
        "                    epochs=10,\n",
        "                    batch_size=100,\n",
        "                    validation_split=0.15)\n",
        "\n",
        "# Saving models locally after fitting\n",
        "save_dir = \"results/\"\n",
        "model_name = 'Reuters_4b.h5'\n",
        "model_path = os.path.join(save_dir, model_name)\n",
        "model_4b.save(model_path)\n",
        "print('Saved trained model at %s ' % model_path)\n",
        "print('--------------------------')"
      ],
      "execution_count": null,
      "outputs": [
        {
          "output_type": "stream",
          "text": [
            "Train on 6377 samples, validate on 1126 samples\n",
            "Epoch 1/10\n",
            "6377/6377 [==============================] - 9s 1ms/sample - loss: 1.4660 - accuracy: 0.5242 - val_loss: 1.1159 - val_accuracy: 0.6448\n",
            "Epoch 2/10\n",
            "6377/6377 [==============================] - 7s 1ms/sample - loss: 0.8807 - accuracy: 0.7163 - val_loss: 0.8078 - val_accuracy: 0.7487\n",
            "Epoch 3/10\n",
            "6377/6377 [==============================] - 7s 1ms/sample - loss: 0.5556 - accuracy: 0.8429 - val_loss: 0.6856 - val_accuracy: 0.8028\n",
            "Epoch 4/10\n",
            "6377/6377 [==============================] - 7s 1ms/sample - loss: 0.3341 - accuracy: 0.9108 - val_loss: 0.6395 - val_accuracy: 0.8313\n",
            "Epoch 5/10\n",
            "6377/6377 [==============================] - 7s 1ms/sample - loss: 0.2226 - accuracy: 0.9432 - val_loss: 0.7224 - val_accuracy: 0.8339\n",
            "Epoch 6/10\n",
            "6377/6377 [==============================] - 7s 1ms/sample - loss: 0.1736 - accuracy: 0.9553 - val_loss: 0.6997 - val_accuracy: 0.8348\n",
            "Epoch 7/10\n",
            "6377/6377 [==============================] - 7s 1ms/sample - loss: 0.1443 - accuracy: 0.9608 - val_loss: 0.7183 - val_accuracy: 0.8384\n",
            "Epoch 8/10\n",
            "6377/6377 [==============================] - 6s 1ms/sample - loss: 0.1416 - accuracy: 0.9616 - val_loss: 0.7451 - val_accuracy: 0.8304\n",
            "Epoch 9/10\n",
            "6377/6377 [==============================] - 7s 1ms/sample - loss: 0.1231 - accuracy: 0.9658 - val_loss: 0.7399 - val_accuracy: 0.8375\n",
            "Epoch 10/10\n",
            "6377/6377 [==============================] - 6s 1ms/sample - loss: 0.1118 - accuracy: 0.9652 - val_loss: 0.8510 - val_accuracy: 0.8233\n",
            "Saved trained model at results/Reuters_4b.h5 \n",
            "--------------------------\n"
          ],
          "name": "stdout"
        }
      ]
    },
    {
      "cell_type": "code",
      "metadata": {
        "id": "QuIW-pqdELW9",
        "colab_type": "code",
        "colab": {},
        "outputId": "954d2504-e5d6-4f86-e055-4bd9b8b07577"
      },
      "source": [
        "# Get the training time\n",
        "train_time = train_rt.process_time\n",
        "train_time # in seconds"
      ],
      "execution_count": null,
      "outputs": [
        {
          "output_type": "execute_result",
          "data": {
            "text/plain": [
              "69.460854"
            ]
          },
          "metadata": {
            "tags": []
          },
          "execution_count": 214
        }
      ]
    },
    {
      "cell_type": "code",
      "metadata": {
        "id": "j1nhugrXELW-",
        "colab_type": "code",
        "colab": {},
        "outputId": "ff461c08-41ab-4d0c-8be7-b0b5b2696da7"
      },
      "source": [
        "print(f\"train_acc: {history.history['accuracy'][-1]}, val_acc: {history.history['val_accuracy'][-1]}\")"
      ],
      "execution_count": null,
      "outputs": [
        {
          "output_type": "stream",
          "text": [
            "train_acc: 0.9651873707771301, val_acc: 0.8232682347297668\n"
          ],
          "name": "stdout"
        }
      ]
    },
    {
      "cell_type": "markdown",
      "metadata": {
        "id": "yoZuaUYgELW_",
        "colab_type": "text"
      },
      "source": [
        "### 4.3.b Model Testing"
      ]
    },
    {
      "cell_type": "code",
      "metadata": {
        "id": "QJF0nRp1ELW_",
        "colab_type": "code",
        "colab": {},
        "outputId": "3b7deb37-4eb2-428b-ff25-b616b7f5dda2"
      },
      "source": [
        "test_rt = TestRuntimeCallback()\n",
        "test_loss, test_accuracy = model_4b.evaluate(test_data_sm_rnn, one_hot_test_labels_sm, callbacks=[test_rt], verbose=0)\n",
        "print(f\"test_accuracy={test_accuracy}, test_loss={test_loss}\")"
      ],
      "execution_count": null,
      "outputs": [
        {
          "output_type": "stream",
          "text": [
            "test_accuracy=0.8282937407493591, test_loss=0.8243980428312561\n"
          ],
          "name": "stdout"
        }
      ]
    },
    {
      "cell_type": "code",
      "metadata": {
        "id": "dZx8epjRELXA",
        "colab_type": "code",
        "colab": {},
        "outputId": "86401388-7074-4cbb-b04b-12b2628c4a75"
      },
      "source": [
        "# Get the test time\n",
        "test_time = test_rt.process_time\n",
        "test_time # in seconds"
      ],
      "execution_count": null,
      "outputs": [
        {
          "output_type": "execute_result",
          "data": {
            "text/plain": [
              "0.443525"
            ]
          },
          "metadata": {
            "tags": []
          },
          "execution_count": 217
        }
      ]
    },
    {
      "cell_type": "markdown",
      "metadata": {
        "id": "pZmJo_5rELXB",
        "colab_type": "text"
      },
      "source": [
        "### 4.3.c Model Performance"
      ]
    },
    {
      "cell_type": "code",
      "metadata": {
        "id": "Q6e9QvLpELXB",
        "colab_type": "code",
        "colab": {},
        "outputId": "c6f1b5f0-e072-440d-8a15-1de22405d9f0"
      },
      "source": [
        "# Plot learning curves for model\n",
        "pd.DataFrame(history.history).plot(figsize=(8, 5))\n",
        "plt.grid(True)\n",
        "plt.gca().set_ylim(0, 1) # set the vertical range to [0-1]\n",
        "plt.savefig(\"figures/learning_curves_model_4b\", tight_layout=False)\n",
        "plt.show()"
      ],
      "execution_count": null,
      "outputs": [
        {
          "output_type": "display_data",
          "data": {
            "image/png": "[encoded data removed]",
            "text/plain": [
              "<Figure size 576x360 with 1 Axes>"
            ]
          },
          "metadata": {
            "tags": [],
            "needs_background": "light"
          }
        }
      ]
    },
    {
      "cell_type": "code",
      "metadata": {
        "id": "1ZGSvTi9ELXC",
        "colab_type": "code",
        "colab": {}
      },
      "source": [
        "history_dict = history.history.copy()\n",
        "# history_dict['train_accuracy'] = history_dict.pop('accuracy') # rename the the key to 'test_accuracy'\n",
        "history_df=pd.DataFrame(history_dict)"
      ],
      "execution_count": null,
      "outputs": []
    },
    {
      "cell_type": "code",
      "metadata": {
        "id": "VgdPvbIhELXD",
        "colab_type": "code",
        "colab": {},
        "outputId": "eddab53c-3e76-4f46-d318-a8b5e605adf5"
      },
      "source": [
        "results_df4b = history_df.iloc[-1:].copy()\n",
        "results_df4b.insert(0,'model','1D CNN with Drop and max pooling') # want the model name to appear first\n",
        "results_df4b['test_accuracy'] = test_accuracy\n",
        "results_df4b['test_loss'] = test_loss\n",
        "results_df4b['training time (sec)'] = train_time      # we are okay with training time appearing last\n",
        "results_df4b['testing time (sec)'] = test_time      # we are okay with training time appearing last\n",
        "results_df4b"
      ],
      "execution_count": null,
      "outputs": [
        {
          "output_type": "execute_result",
          "data": {
            "text/html": [
              "<div>\n",
              "<style scoped>\n",
              "    .dataframe tbody tr th:only-of-type {\n",
              "        vertical-align: middle;\n",
              "    }\n",
              "\n",
              "    .dataframe tbody tr th {\n",
              "        vertical-align: top;\n",
              "    }\n",
              "\n",
              "    .dataframe thead th {\n",
              "        text-align: right;\n",
              "    }\n",
              "</style>\n",
              "<table border=\"1\" class=\"dataframe\">\n",
              "  <thead>\n",
              "    <tr style=\"text-align: right;\">\n",
              "      <th></th>\n",
              "      <th>model</th>\n",
              "      <th>loss</th>\n",
              "      <th>accuracy</th>\n",
              "      <th>val_loss</th>\n",
              "      <th>val_accuracy</th>\n",
              "      <th>test_accuracy</th>\n",
              "      <th>test_loss</th>\n",
              "      <th>training time (sec)</th>\n",
              "      <th>testing time (sec)</th>\n",
              "    </tr>\n",
              "  </thead>\n",
              "  <tbody>\n",
              "    <tr>\n",
              "      <th>9</th>\n",
              "      <td>1D CNN with Drop and max pooling</td>\n",
              "      <td>0.111764</td>\n",
              "      <td>0.965187</td>\n",
              "      <td>0.851045</td>\n",
              "      <td>0.823268</td>\n",
              "      <td>0.828294</td>\n",
              "      <td>0.824398</td>\n",
              "      <td>69.460854</td>\n",
              "      <td>0.443525</td>\n",
              "    </tr>\n",
              "  </tbody>\n",
              "</table>\n",
              "</div>"
            ],
            "text/plain": [
              "                              model      loss  accuracy  val_loss  \\\n",
              "9  1D CNN with Drop and max pooling  0.111764  0.965187  0.851045   \n",
              "\n",
              "   val_accuracy  test_accuracy  test_loss  training time (sec)  \\\n",
              "9      0.823268       0.828294   0.824398            69.460854   \n",
              "\n",
              "   testing time (sec)  \n",
              "9            0.443525  "
            ]
          },
          "metadata": {
            "tags": []
          },
          "execution_count": 220
        }
      ]
    },
    {
      "cell_type": "markdown",
      "metadata": {
        "id": "m1uLte-LELXH",
        "colab_type": "text"
      },
      "source": [
        "## 5. Summary of Experiment Results\n"
      ]
    },
    {
      "cell_type": "code",
      "metadata": {
        "id": "2RBsxvpnELXH",
        "colab_type": "code",
        "colab": {},
        "outputId": "3514cc8f-791d-47d4-9326-1b44ce82439c"
      },
      "source": [
        "results_df4=results_df4.append(results_df4a,ignore_index=True)\n",
        "results_df4=results_df4.append(results_df4b,ignore_index=True)\n",
        "results_df4"
      ],
      "execution_count": null,
      "outputs": [
        {
          "output_type": "execute_result",
          "data": {
            "text/html": [
              "<div>\n",
              "<style scoped>\n",
              "    .dataframe tbody tr th:only-of-type {\n",
              "        vertical-align: middle;\n",
              "    }\n",
              "\n",
              "    .dataframe tbody tr th {\n",
              "        vertical-align: top;\n",
              "    }\n",
              "\n",
              "    .dataframe thead th {\n",
              "        text-align: right;\n",
              "    }\n",
              "</style>\n",
              "<table border=\"1\" class=\"dataframe\">\n",
              "  <thead>\n",
              "    <tr style=\"text-align: right;\">\n",
              "      <th></th>\n",
              "      <th>model</th>\n",
              "      <th>loss</th>\n",
              "      <th>accuracy</th>\n",
              "      <th>val_loss</th>\n",
              "      <th>val_accuracy</th>\n",
              "      <th>test_accuracy</th>\n",
              "      <th>test_loss</th>\n",
              "      <th>training time (sec)</th>\n",
              "      <th>testing time (sec)</th>\n",
              "    </tr>\n",
              "  </thead>\n",
              "  <tbody>\n",
              "    <tr>\n",
              "      <th>0</th>\n",
              "      <td>1D CNN baseline</td>\n",
              "      <td>0.091262</td>\n",
              "      <td>0.967069</td>\n",
              "      <td>0.807187</td>\n",
              "      <td>0.820604</td>\n",
              "      <td>0.824514</td>\n",
              "      <td>0.811211</td>\n",
              "      <td>67.700690</td>\n",
              "      <td>0.411464</td>\n",
              "    </tr>\n",
              "    <tr>\n",
              "      <th>1</th>\n",
              "      <td>1D CNN baseline with Drop</td>\n",
              "      <td>0.084531</td>\n",
              "      <td>0.969578</td>\n",
              "      <td>0.774338</td>\n",
              "      <td>0.841030</td>\n",
              "      <td>0.833153</td>\n",
              "      <td>0.792521</td>\n",
              "      <td>81.807369</td>\n",
              "      <td>0.403489</td>\n",
              "    </tr>\n",
              "    <tr>\n",
              "      <th>2</th>\n",
              "      <td>1D CNN with Drop and max pooling</td>\n",
              "      <td>0.111764</td>\n",
              "      <td>0.965187</td>\n",
              "      <td>0.851045</td>\n",
              "      <td>0.823268</td>\n",
              "      <td>0.828294</td>\n",
              "      <td>0.824398</td>\n",
              "      <td>69.460854</td>\n",
              "      <td>0.443525</td>\n",
              "    </tr>\n",
              "  </tbody>\n",
              "</table>\n",
              "</div>"
            ],
            "text/plain": [
              "                              model      loss  accuracy  val_loss  \\\n",
              "0                   1D CNN baseline  0.091262  0.967069  0.807187   \n",
              "1         1D CNN baseline with Drop  0.084531  0.969578  0.774338   \n",
              "2  1D CNN with Drop and max pooling  0.111764  0.965187  0.851045   \n",
              "\n",
              "   val_accuracy  test_accuracy  test_loss  training time (sec)  \\\n",
              "0      0.820604       0.824514   0.811211            67.700690   \n",
              "1      0.841030       0.833153   0.792521            81.807369   \n",
              "2      0.823268       0.828294   0.824398            69.460854   \n",
              "\n",
              "   testing time (sec)  \n",
              "0            0.411464  \n",
              "1            0.403489  \n",
              "2            0.443525  "
            ]
          },
          "metadata": {
            "tags": []
          },
          "execution_count": 221
        }
      ]
    },
    {
      "cell_type": "code",
      "metadata": {
        "id": "4GEHxaHJELXI",
        "colab_type": "code",
        "colab": {}
      },
      "source": [
        "results_df4.to_pickle(\"results4.pkl\") "
      ],
      "execution_count": null,
      "outputs": []
    },
    {
      "cell_type": "code",
      "metadata": {
        "id": "4hJOFLKLELXJ",
        "colab_type": "code",
        "colab": {},
        "outputId": "27b0ce36-906e-49b2-b180-fe6981b551b5"
      },
      "source": [
        "frames = [results_df, results_df2, results_df3, results_df4]\n",
        "\n",
        "df_final = pd.concat(frames, keys=['Exp 1','Exp 2','Exp 3', 'Exp 4'])\n",
        "\n",
        "df_final"
      ],
      "execution_count": null,
      "outputs": [
        {
          "output_type": "execute_result",
          "data": {
            "text/html": [
              "<div>\n",
              "<style scoped>\n",
              "    .dataframe tbody tr th:only-of-type {\n",
              "        vertical-align: middle;\n",
              "    }\n",
              "\n",
              "    .dataframe tbody tr th {\n",
              "        vertical-align: top;\n",
              "    }\n",
              "\n",
              "    .dataframe thead th {\n",
              "        text-align: right;\n",
              "    }\n",
              "</style>\n",
              "<table border=\"1\" class=\"dataframe\">\n",
              "  <thead>\n",
              "    <tr style=\"text-align: right;\">\n",
              "      <th></th>\n",
              "      <th></th>\n",
              "      <th>model</th>\n",
              "      <th>loss</th>\n",
              "      <th>accuracy</th>\n",
              "      <th>val_loss</th>\n",
              "      <th>val_accuracy</th>\n",
              "      <th>test_accuracy</th>\n",
              "      <th>test_loss</th>\n",
              "      <th>training time (sec)</th>\n",
              "      <th>testing time (sec)</th>\n",
              "    </tr>\n",
              "  </thead>\n",
              "  <tbody>\n",
              "    <tr>\n",
              "      <th rowspan=\"6\" valign=\"top\">Exp 1</th>\n",
              "      <th>0</th>\n",
              "      <td>DNN (2 layers) 9 topics</td>\n",
              "      <td>0.094744</td>\n",
              "      <td>0.965501</td>\n",
              "      <td>0.683556</td>\n",
              "      <td>0.863233</td>\n",
              "      <td>0.860151</td>\n",
              "      <td>0.678582</td>\n",
              "      <td>14.734655</td>\n",
              "      <td>0.241027</td>\n",
              "    </tr>\n",
              "    <tr>\n",
              "      <th>1</th>\n",
              "      <td>DNN (2 layers 256/256)</td>\n",
              "      <td>0.066245</td>\n",
              "      <td>0.967853</td>\n",
              "      <td>0.732996</td>\n",
              "      <td>0.865897</td>\n",
              "      <td>0.859071</td>\n",
              "      <td>0.755467</td>\n",
              "      <td>39.019436</td>\n",
              "      <td>0.288834</td>\n",
              "    </tr>\n",
              "    <tr>\n",
              "      <th>2</th>\n",
              "      <td>DNN (2 layers) w Drop</td>\n",
              "      <td>0.095098</td>\n",
              "      <td>0.966756</td>\n",
              "      <td>0.691740</td>\n",
              "      <td>0.863233</td>\n",
              "      <td>0.857451</td>\n",
              "      <td>0.703502</td>\n",
              "      <td>15.595836</td>\n",
              "      <td>0.186922</td>\n",
              "    </tr>\n",
              "    <tr>\n",
              "      <th>3</th>\n",
              "      <td>DNN (2 layers) w Drop and L1</td>\n",
              "      <td>1.019556</td>\n",
              "      <td>0.877685</td>\n",
              "      <td>1.067072</td>\n",
              "      <td>0.860568</td>\n",
              "      <td>0.854212</td>\n",
              "      <td>1.084547</td>\n",
              "      <td>21.216728</td>\n",
              "      <td>0.246425</td>\n",
              "    </tr>\n",
              "    <tr>\n",
              "      <th>4</th>\n",
              "      <td>DNN (2 layers) w Embed</td>\n",
              "      <td>0.071710</td>\n",
              "      <td>0.966912</td>\n",
              "      <td>0.834077</td>\n",
              "      <td>0.805506</td>\n",
              "      <td>0.811555</td>\n",
              "      <td>0.825477</td>\n",
              "      <td>56.138766</td>\n",
              "      <td>0.217395</td>\n",
              "    </tr>\n",
              "    <tr>\n",
              "      <th>5</th>\n",
              "      <td>DNN (2 layers) w Embed + Dropout</td>\n",
              "      <td>0.079839</td>\n",
              "      <td>0.968637</td>\n",
              "      <td>0.841354</td>\n",
              "      <td>0.816163</td>\n",
              "      <td>0.819114</td>\n",
              "      <td>0.854932</td>\n",
              "      <td>55.968919</td>\n",
              "      <td>0.217657</td>\n",
              "    </tr>\n",
              "    <tr>\n",
              "      <th rowspan=\"2\" valign=\"top\">Exp 2</th>\n",
              "      <th>0</th>\n",
              "      <td>Simple RNN (64 units)</td>\n",
              "      <td>0.091719</td>\n",
              "      <td>0.968010</td>\n",
              "      <td>1.712760</td>\n",
              "      <td>0.555062</td>\n",
              "      <td>0.563175</td>\n",
              "      <td>1.656414</td>\n",
              "      <td>157.793176</td>\n",
              "      <td>2.184164</td>\n",
              "    </tr>\n",
              "    <tr>\n",
              "      <th>1</th>\n",
              "      <td>Simple RNN (100 units)</td>\n",
              "      <td>0.105730</td>\n",
              "      <td>0.964717</td>\n",
              "      <td>1.586867</td>\n",
              "      <td>0.608348</td>\n",
              "      <td>0.602052</td>\n",
              "      <td>1.664421</td>\n",
              "      <td>190.915457</td>\n",
              "      <td>2.809977</td>\n",
              "    </tr>\n",
              "    <tr>\n",
              "      <th rowspan=\"4\" valign=\"top\">Exp 3</th>\n",
              "      <th>0</th>\n",
              "      <td>LSTM RNN baseline</td>\n",
              "      <td>0.572972</td>\n",
              "      <td>0.821233</td>\n",
              "      <td>0.923595</td>\n",
              "      <td>0.739787</td>\n",
              "      <td>0.755940</td>\n",
              "      <td>0.883963</td>\n",
              "      <td>295.388199</td>\n",
              "      <td>4.710983</td>\n",
              "    </tr>\n",
              "    <tr>\n",
              "      <th>1</th>\n",
              "      <td>LSTM RNN (100 memory cell units)</td>\n",
              "      <td>0.414566</td>\n",
              "      <td>0.877842</td>\n",
              "      <td>0.839277</td>\n",
              "      <td>0.753996</td>\n",
              "      <td>0.760799</td>\n",
              "      <td>0.901095</td>\n",
              "      <td>525.963719</td>\n",
              "      <td>9.774533</td>\n",
              "    </tr>\n",
              "    <tr>\n",
              "      <th>2</th>\n",
              "      <td>LSTM RNN with Drop</td>\n",
              "      <td>0.482945</td>\n",
              "      <td>0.854634</td>\n",
              "      <td>0.800173</td>\n",
              "      <td>0.777975</td>\n",
              "      <td>0.761339</td>\n",
              "      <td>0.868661</td>\n",
              "      <td>504.947276</td>\n",
              "      <td>8.890680</td>\n",
              "    </tr>\n",
              "    <tr>\n",
              "      <th>3</th>\n",
              "      <td>Variational RNN with Drop/Recurrent Drop</td>\n",
              "      <td>0.549221</td>\n",
              "      <td>0.824996</td>\n",
              "      <td>0.886675</td>\n",
              "      <td>0.748668</td>\n",
              "      <td>0.748920</td>\n",
              "      <td>0.903414</td>\n",
              "      <td>554.976820</td>\n",
              "      <td>9.567821</td>\n",
              "    </tr>\n",
              "    <tr>\n",
              "      <th rowspan=\"3\" valign=\"top\">Exp 4</th>\n",
              "      <th>0</th>\n",
              "      <td>1D CNN baseline</td>\n",
              "      <td>0.091262</td>\n",
              "      <td>0.967069</td>\n",
              "      <td>0.807187</td>\n",
              "      <td>0.820604</td>\n",
              "      <td>0.824514</td>\n",
              "      <td>0.811211</td>\n",
              "      <td>67.700690</td>\n",
              "      <td>0.411464</td>\n",
              "    </tr>\n",
              "    <tr>\n",
              "      <th>1</th>\n",
              "      <td>1D CNN baseline with Drop</td>\n",
              "      <td>0.084531</td>\n",
              "      <td>0.969578</td>\n",
              "      <td>0.774338</td>\n",
              "      <td>0.841030</td>\n",
              "      <td>0.833153</td>\n",
              "      <td>0.792521</td>\n",
              "      <td>81.807369</td>\n",
              "      <td>0.403489</td>\n",
              "    </tr>\n",
              "    <tr>\n",
              "      <th>2</th>\n",
              "      <td>1D CNN with Drop and max pooling</td>\n",
              "      <td>0.111764</td>\n",
              "      <td>0.965187</td>\n",
              "      <td>0.851045</td>\n",
              "      <td>0.823268</td>\n",
              "      <td>0.828294</td>\n",
              "      <td>0.824398</td>\n",
              "      <td>69.460854</td>\n",
              "      <td>0.443525</td>\n",
              "    </tr>\n",
              "  </tbody>\n",
              "</table>\n",
              "</div>"
            ],
            "text/plain": [
              "                                            model      loss  accuracy  \\\n",
              "Exp 1 0                   DNN (2 layers) 9 topics  0.094744  0.965501   \n",
              "      1                    DNN (2 layers 256/256)  0.066245  0.967853   \n",
              "      2                     DNN (2 layers) w Drop  0.095098  0.966756   \n",
              "      3              DNN (2 layers) w Drop and L1  1.019556  0.877685   \n",
              "      4                    DNN (2 layers) w Embed  0.071710  0.966912   \n",
              "      5          DNN (2 layers) w Embed + Dropout  0.079839  0.968637   \n",
              "Exp 2 0                     Simple RNN (64 units)  0.091719  0.968010   \n",
              "      1                    Simple RNN (100 units)  0.105730  0.964717   \n",
              "Exp 3 0                         LSTM RNN baseline  0.572972  0.821233   \n",
              "      1          LSTM RNN (100 memory cell units)  0.414566  0.877842   \n",
              "      2                        LSTM RNN with Drop  0.482945  0.854634   \n",
              "      3  Variational RNN with Drop/Recurrent Drop  0.549221  0.824996   \n",
              "Exp 4 0                           1D CNN baseline  0.091262  0.967069   \n",
              "      1                 1D CNN baseline with Drop  0.084531  0.969578   \n",
              "      2          1D CNN with Drop and max pooling  0.111764  0.965187   \n",
              "\n",
              "         val_loss  val_accuracy  test_accuracy  test_loss  \\\n",
              "Exp 1 0  0.683556      0.863233       0.860151   0.678582   \n",
              "      1  0.732996      0.865897       0.859071   0.755467   \n",
              "      2  0.691740      0.863233       0.857451   0.703502   \n",
              "      3  1.067072      0.860568       0.854212   1.084547   \n",
              "      4  0.834077      0.805506       0.811555   0.825477   \n",
              "      5  0.841354      0.816163       0.819114   0.854932   \n",
              "Exp 2 0  1.712760      0.555062       0.563175   1.656414   \n",
              "      1  1.586867      0.608348       0.602052   1.664421   \n",
              "Exp 3 0  0.923595      0.739787       0.755940   0.883963   \n",
              "      1  0.839277      0.753996       0.760799   0.901095   \n",
              "      2  0.800173      0.777975       0.761339   0.868661   \n",
              "      3  0.886675      0.748668       0.748920   0.903414   \n",
              "Exp 4 0  0.807187      0.820604       0.824514   0.811211   \n",
              "      1  0.774338      0.841030       0.833153   0.792521   \n",
              "      2  0.851045      0.823268       0.828294   0.824398   \n",
              "\n",
              "         training time (sec)  testing time (sec)  \n",
              "Exp 1 0            14.734655            0.241027  \n",
              "      1            39.019436            0.288834  \n",
              "      2            15.595836            0.186922  \n",
              "      3            21.216728            0.246425  \n",
              "      4            56.138766            0.217395  \n",
              "      5            55.968919            0.217657  \n",
              "Exp 2 0           157.793176            2.184164  \n",
              "      1           190.915457            2.809977  \n",
              "Exp 3 0           295.388199            4.710983  \n",
              "      1           525.963719            9.774533  \n",
              "      2           504.947276            8.890680  \n",
              "      3           554.976820            9.567821  \n",
              "Exp 4 0            67.700690            0.411464  \n",
              "      1            81.807369            0.403489  \n",
              "      2            69.460854            0.443525  "
            ]
          },
          "metadata": {
            "tags": []
          },
          "execution_count": 224
        }
      ]
    }
  ]
}